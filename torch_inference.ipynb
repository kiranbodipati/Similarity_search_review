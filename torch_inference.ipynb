{
 "cells": [
  {
   "cell_type": "code",
   "execution_count": 1,
   "metadata": {
    "tags": []
   },
   "outputs": [],
   "source": [
    "\n",
    "import torch\n",
    "import numpy as np\n",
    "from autoencoder import ConvDecoder, ConvEncoder\n",
    "from sklearn.neighbors import NearestNeighbors\n",
    "import torchvision.transforms as T\n",
    "import os\n",
    "from PIL import Image\n",
    "import matplotlib.pyplot as plt\n",
    "import json\n",
    "import time\n",
    "import random\n",
    "%matplotlib inline"
   ]
  },
  {
   "cell_type": "code",
   "execution_count": 2,
   "metadata": {},
   "outputs": [],
   "source": [
    "def load_image_tensor(image_path, device):\n",
    "    image_tensor = T.ToTensor()(Image.open(image_path))\n",
    "    image_tensor = image_tensor.unsqueeze(0)\n",
    "    #print(image_tensor.shape)\n",
    "    # input_images = image_tensor.to(device)\n",
    "    return image_tensor"
   ]
  },
  {
   "cell_type": "code",
   "execution_count": 3,
   "metadata": {},
   "outputs": [
    {
     "name": "stdout",
     "output_type": "stream",
     "text": [
      "29998\n"
     ]
    }
   ],
   "source": [
    "image_paths=[]\n",
    "with open(\"geological_map.json\", 'r', encoding='utf-8') as f:\n",
    "    image_paths=json.load(f)\n",
    "print(len(image_paths))"
   ]
  },
  {
   "cell_type": "code",
   "execution_count": 4,
   "metadata": {},
   "outputs": [],
   "source": [
    "def compute_similar_images(image_path, num_images, embedding, device):\n",
    "    image_tensor = load_image_tensor(image_path, device)\n",
    "    # image_tensor = image_tensor.to(device)\n",
    "\n",
    "    with torch.no_grad():\n",
    "        image_embedding = encoder(image_tensor).cpu().detach().numpy()\n",
    "\n",
    "    #print(image_embedding.shape)\n",
    "\n",
    "    flattened_embedding = image_embedding.reshape((image_embedding.shape[0], -1))\n",
    "    #print(flattened_embedding.shape)\n",
    "\n",
    "    knn = NearestNeighbors(n_neighbors=num_images, metric=\"cosine\")\n",
    "    knn.fit(embedding)\n",
    "    start_time=time.time()\n",
    "    _, indices = knn.kneighbors(flattened_embedding)\n",
    "    end_time=time.time()\n",
    "    time_taken=end_time-start_time\n",
    "    #print(\"Time taken: \",end_time-start_time)\n",
    "    indices_list = indices.tolist()\n",
    "    \n",
    "    #print(indices_list)\n",
    "    return indices_list,time_taken\n"
   ]
  },
  {
   "cell_type": "code",
   "execution_count": 5,
   "metadata": {},
   "outputs": [],
   "source": [
    "def plot_similar_images(indices_list):\n",
    "    indices = indices_list[0]\n",
    "    print(\"total indices: \", len(indices))\n",
    "    print(indices_list)\n",
    "    for index in indices:\n",
    "        # img_name = str(index - 1) + \".jpg\"\n",
    "        # print(img_name)\n",
    "        img_path = image_paths[index]\n",
    "        print(img_path)\n",
    "        img = Image.open(img_path).convert(\"RGB\")\n",
    "        plt.imshow(img)\n",
    "        plt.show()"
   ]
  },
  {
   "cell_type": "code",
   "execution_count": 6,
   "metadata": {},
   "outputs": [],
   "source": [
    "TEST_IMAGE_PATH = \"geological_similarity/schist/ZZ5Z5.jpg\"\n",
    "NUM_IMAGES = 50\n",
    "ENCODER_MODEL_PATH = \"geological_encoding.pt\"\n",
    "EMBEDDING_PATH = \"geological_embed.npy\""
   ]
  },
  {
   "cell_type": "code",
   "execution_count": 7,
   "metadata": {
    "tags": []
   },
   "outputs": [],
   "source": [
    "device = torch.device(\"cuda\") if torch.cuda.is_available() else torch.device(\"cpu\")\n",
    "encoder = ConvEncoder()\n",
    "\n",
    "# Load the state dict of encoder\n",
    "encoder.load_state_dict(torch.load(ENCODER_MODEL_PATH, map_location=device))\n",
    "encoder.eval()\n",
    "encoder.to(device)\n",
    "\n",
    "# Loads the embedding\n",
    "embedding = np.load(EMBEDDING_PATH)\n",
    "# test_img = Image.open(TEST_IMAGE_PATH).convert(\"RGB\")\n",
    "# plt.imshow(test_img)\n",
    "# plt.show()\n",
    "# indices_list = compute_similar_images(TEST_IMAGE_PATH, NUM_IMAGES, embedding, device)\n",
    "# plot_similar_images(indices_list)"
   ]
  },
  {
   "cell_type": "code",
   "execution_count": 9,
   "metadata": {},
   "outputs": [
    {
     "data": {
      "text/plain": [
       "(29998, 576)"
      ]
     },
     "execution_count": 9,
     "metadata": {},
     "output_type": "execute_result"
    }
   ],
   "source": [
    "embedding.shape"
   ]
  },
  {
   "cell_type": "code",
   "execution_count": 13,
   "metadata": {},
   "outputs": [
    {
     "name": "stdout",
     "output_type": "stream",
     "text": [
      "[[-2.806795   -3.0074627 ]\n",
      " [-7.153034    0.21609813]\n",
      " [-3.515173   -2.1083124 ]\n",
      " ...\n",
      " [ 0.53168243  0.8761272 ]\n",
      " [ 1.420965    3.0928507 ]\n",
      " [ 3.397298   -1.1068012 ]]\n"
     ]
    }
   ],
   "source": [
    "#trying out Principal Component Analysis\n",
    "import numpy as np\n",
    "from sklearn.decomposition import PCA\n",
    "\n",
    "pca = PCA(n_components=2)\n",
    "results=pca.fit_transform(embedding)\n",
    "print(results)\n"
   ]
  },
  {
   "cell_type": "code",
   "execution_count": 26,
   "metadata": {},
   "outputs": [
    {
     "data": {
      "image/png": "[encoded data removed]",
      "text/plain": [
       "<Figure size 432x288 with 1 Axes>"
      ]
     },
     "metadata": {
      "needs_background": "light"
     },
     "output_type": "display_data"
    }
   ],
   "source": [
    "x= [i[0] for i in results]\n",
    "y=[i[1] for i in results]\n",
    "x_andesite=x[:5000]\n",
    "y_andesite=y[:5000]\n",
    "x_gneiss=x[5000:10000]\n",
    "y_gneiss=y[5000:10000]\n",
    "x_marble=x[10000:14998]\n",
    "y_marble=y[10000:14998]\n",
    "x_quartzite=x[14998:19998]\n",
    "y_quartzite=y[14998:19998]\n",
    "x_rhyolite=x[19998:24998]\n",
    "y_rhyolite=y[19998:24998]\n",
    "x_schist=x[24998:29998]\n",
    "y_schist=y[24998:29998]\n",
    "plt.scatter(x_andesite,y_andesite,c=\"r\")\n",
    "plt.scatter(x_gneiss,y_gneiss,c=\"g\")\n",
    "plt.scatter(x_marble,y_marble,c=\"b\")\n",
    "plt.scatter(x_quartzite,y_quartzite,c=\"#8c564b\")\n",
    "plt.scatter(x_rhyolite,y_rhyolite,c=\"#9467bd\")\n",
    "plt.scatter(x_schist,y_schist,c=\"#ff7f0e\")\n",
    "plt.show()"
   ]
  },
  {
   "cell_type": "code",
   "execution_count": 296,
   "metadata": {},
   "outputs": [],
   "source": [
    "def write_to_file(test_img_path,indices_list,file_name):\n",
    "    indices = indices_list[0]\n",
    "    results=[]\n",
    "    for index in indices:\n",
    "        img_path = image_paths[index]\n",
    "        results.append(img_path)\n",
    "    #results_string=' '.join(i for i in results)\n",
    "    #print(results)\n",
    "    with open(file_name, 'r', encoding='utf-8') as f:\n",
    "        current_dir=json.load(f)\n",
    "    current_dir[test_img_path]=results\n",
    "    with open(file_name, \"w\") as outfile:\n",
    "        json.dump(current_dir, outfile)\n"
   ]
  },
  {
   "cell_type": "code",
   "execution_count": 297,
   "metadata": {},
   "outputs": [],
   "source": [
    "testing_times=[]"
   ]
  },
  {
   "cell_type": "code",
   "execution_count": 298,
   "metadata": {},
   "outputs": [],
   "source": [
    "def test_method(test_img_path,file_name):\n",
    "    test_img = Image.open(test_img_path).convert(\"RGB\")\n",
    "    # plt.imshow(test_img)\n",
    "    # plt.show()\n",
    "    indices_list,time_taken = compute_similar_images(test_img_path, NUM_IMAGES, embedding, device)\n",
    "    #write_to_file(test_img_path,indices_list,file_name)\n",
    "    #plot_similar_images(indices_list)\n",
    "    testing_times.append(time_taken)\n",
    "    return time_taken"
   ]
  },
  {
   "cell_type": "code",
   "execution_count": 299,
   "metadata": {},
   "outputs": [
    {
     "name": "stdout",
     "output_type": "stream",
     "text": [
      "0.10400271415710449\n",
      "0.14098906517028809\n",
      "0.08999848365783691\n",
      "0.08243918418884277\n",
      "0.07900214195251465\n",
      "0.06600046157836914\n",
      "0.06700372695922852\n",
      "0.07898306846618652\n",
      "0.06894922256469727\n",
      "0.07100057601928711\n",
      "0.0670006275177002\n",
      "0.07100176811218262\n",
      "0.07399821281433105\n",
      "0.07600092887878418\n",
      "0.06800007820129395\n",
      "0.07699918746948242\n",
      "0.06600117683410645\n",
      "0.06600046157836914\n",
      "0.07500004768371582\n",
      "0.07100296020507812\n",
      "0.06400203704833984\n",
      "0.07999992370605469\n",
      "0.06699919700622559\n",
      "0.09123921394348145\n",
      "0.0670006275177002\n",
      "0.08100056648254395\n",
      "0.07100105285644531\n",
      "0.08000636100769043\n",
      "0.06699919700622559\n",
      "0.0780029296875\n",
      "0.06499624252319336\n",
      "0.07599878311157227\n",
      "0.06800007820129395\n",
      "0.07400155067443848\n",
      "0.07035684585571289\n",
      "0.07300186157226562\n",
      "0.07300019264221191\n",
      "0.0650014877319336\n",
      "0.07599973678588867\n",
      "0.07000017166137695\n",
      "0.07399797439575195\n",
      "0.0670003890991211\n",
      "0.08300232887268066\n",
      "0.06800031661987305\n",
      "0.06594133377075195\n",
      "0.07094717025756836\n",
      "0.06599950790405273\n",
      "0.06500244140625\n",
      "0.0690004825592041\n",
      "0.06800198554992676\n",
      "0.06499910354614258\n",
      "0.07601022720336914\n",
      "0.06600046157836914\n",
      "0.0670013427734375\n",
      "0.08118128776550293\n",
      "0.08900141716003418\n",
      "0.09399628639221191\n",
      "0.06599903106689453\n",
      "0.0693666934967041\n",
      "0.06499958038330078\n",
      "0.07035398483276367\n",
      "0.06899094581604004\n",
      "0.06603050231933594\n",
      "0.069549560546875\n",
      "0.06599879264831543\n",
      "0.06599998474121094\n",
      "0.08046913146972656\n",
      "0.06599903106689453\n",
      "0.07400035858154297\n",
      "0.07205414772033691\n",
      "0.07699799537658691\n",
      "0.07199740409851074\n",
      "0.0670008659362793\n",
      "0.07899665832519531\n",
      "0.0650022029876709\n",
      "0.07100296020507812\n",
      "0.0710000991821289\n",
      "0.06899881362915039\n",
      "0.06896352767944336\n",
      "0.07100224494934082\n",
      "0.06599998474121094\n",
      "0.07940149307250977\n",
      "0.06800103187561035\n",
      "0.06600046157836914\n",
      "0.082000732421875\n",
      "0.06699776649475098\n",
      "0.07399678230285645\n",
      "0.07099795341491699\n",
      "0.14299964904785156\n",
      "0.08400154113769531\n",
      "0.07599782943725586\n",
      "0.07100224494934082\n",
      "0.06500053405761719\n",
      "0.0690007209777832\n",
      "0.06299972534179688\n",
      "0.06399965286254883\n",
      "0.06800031661987305\n",
      "0.10698652267456055\n",
      "0.09099864959716797\n",
      "0.07399988174438477\n"
     ]
    }
   ],
   "source": [
    "testing_images=[]\n",
    "for i in range(0,100):\n",
    "    random_index=random.randint(0, len(image_paths)-1)\n",
    "    testing_images.append(image_paths[random_index])\n",
    "\n",
    "for i in range(len(testing_images)):\n",
    "    time_taken=test_method(testing_images[i],\"jaccard_knn_results.json\")\n",
    "    print(time_taken)"
   ]
  },
  {
   "cell_type": "code",
   "execution_count": 286,
   "metadata": {},
   "outputs": [],
   "source": [
    "# dic={\"Hello\":\"Wow\"}\n",
    "# with open(\"cosine_knn_results.json\", \"w\") as outfile:\n",
    "#     json.dump(dic, outfile)"
   ]
  },
  {
   "cell_type": "code",
   "execution_count": 301,
   "metadata": {},
   "outputs": [
    {
     "name": "stdout",
     "output_type": "stream",
     "text": [
      "0.07410224199295044\n"
     ]
    }
   ],
   "source": [
    "avg_test_time=sum(testing_times)/len(testing_times)\n",
    "print(avg_test_time)"
   ]
  },
  {
   "cell_type": "code",
   "execution_count": 173,
   "metadata": {},
   "outputs": [
    {
     "name": "stdout",
     "output_type": "stream",
     "text": [
      "100\n"
     ]
    }
   ],
   "source": [
    "with open(\"jaccard_knn_results.json\", 'r', encoding='utf-8') as f:\n",
    "    content=json.load(f)\n",
    "print(len(content.keys()))"
   ]
  },
  {
   "cell_type": "code",
   "execution_count": 174,
   "metadata": {},
   "outputs": [],
   "source": [
    "textfile = open(\"timing_results/jaccard_knn_timings.txt\", \"w\")\n",
    "for i in range(len(testing_times)):\n",
    "\n",
    "    textfile.write(str(testing_times[i])+\"\\n\")\n",
    "\n",
    "textfile.close()"
   ]
  },
  {
   "cell_type": "markdown",
   "metadata": {},
   "source": [
    "### Next cell is to read the timings files"
   ]
  },
  {
   "cell_type": "code",
   "execution_count": 9,
   "metadata": {},
   "outputs": [
    {
     "name": "stdout",
     "output_type": "stream",
     "text": [
      "100\n"
     ]
    }
   ],
   "source": [
    "stored_times=[]\n",
    "with open(\"timing_results/cosine_knn_timings.txt\",\"r\") as f:\n",
    "    content=f.read()\n",
    "stored_times=content.split('\\n')\n",
    "print(len(stored_times))"
   ]
  },
  {
   "cell_type": "code",
   "execution_count": 10,
   "metadata": {},
   "outputs": [
    {
     "data": {
      "text/plain": [
       "0.0992603874206543"
      ]
     },
     "execution_count": 10,
     "metadata": {},
     "output_type": "execute_result"
    }
   ],
   "source": [
    "stored_times= [float(i) for i in stored_times]\n",
    "sum(stored_times)/len(stored_times)"
   ]
  },
  {
   "cell_type": "code",
   "execution_count": null,
   "metadata": {},
   "outputs": [],
   "source": []
  }
 ],
 "metadata": {
  "interpreter": {
   "hash": "b3ba2566441a7c06988d0923437866b63cedc61552a5af99d1f4fb67d367b25f"
  },
  "kernelspec": {
   "display_name": "Python 3.7.6 64-bit ('sandbox': conda)",
   "language": "python",
   "name": "python3"
  },
  "language_info": {
   "codemirror_mode": {
    "name": "ipython",
    "version": 3
   },
   "file_extension": ".py",
   "mimetype": "text/x-python",
   "name": "python",
   "nbconvert_exporter": "python",
   "pygments_lexer": "ipython3",
   "version": "3.7.4"
  },
  "orig_nbformat": 2
 },
 "nbformat": 4,
 "nbformat_minor": 2
}
