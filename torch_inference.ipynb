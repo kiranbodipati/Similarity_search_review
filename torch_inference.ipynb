{
 "cells": [
  {
   "cell_type": "code",
   "execution_count": 161,
   "metadata": {
    "tags": []
   },
   "outputs": [],
   "source": [
    "\n",
    "import torch\n",
    "import numpy as np\n",
    "from autoencoder import ConvDecoder, ConvEncoder\n",
    "from sklearn.neighbors import NearestNeighbors\n",
    "import torchvision.transforms as T\n",
    "import os\n",
    "from PIL import Image\n",
    "import matplotlib.pyplot as plt\n",
    "import json\n",
    "import time\n",
    "import random\n",
    "%matplotlib inline"
   ]
  },
  {
   "cell_type": "code",
   "execution_count": 162,
   "metadata": {},
   "outputs": [],
   "source": [
    "def load_image_tensor(image_path, device):\n",
    "    image_tensor = T.ToTensor()(Image.open(image_path))\n",
    "    image_tensor = image_tensor.unsqueeze(0)\n",
    "    #print(image_tensor.shape)\n",
    "    # input_images = image_tensor.to(device)\n",
    "    return image_tensor"
   ]
  },
  {
   "cell_type": "code",
   "execution_count": 163,
   "metadata": {},
   "outputs": [
    {
     "name": "stdout",
     "output_type": "stream",
     "text": [
      "29998\n"
     ]
    }
   ],
   "source": [
    "image_paths=[]\n",
    "with open(\"geological_map.json\", 'r', encoding='utf-8') as f:\n",
    "    image_paths=json.load(f)\n",
    "print(len(image_paths))"
   ]
  },
  {
   "cell_type": "code",
   "execution_count": 164,
   "metadata": {},
   "outputs": [],
   "source": [
    "def compute_similar_images(image_path, num_images, embedding, device):\n",
    "    image_tensor = load_image_tensor(image_path, device)\n",
    "    # image_tensor = image_tensor.to(device)\n",
    "\n",
    "    with torch.no_grad():\n",
    "        image_embedding = encoder(image_tensor).cpu().detach().numpy()\n",
    "\n",
    "    #print(image_embedding.shape)\n",
    "\n",
    "    flattened_embedding = image_embedding.reshape((image_embedding.shape[0], -1))\n",
    "    #print(flattened_embedding.shape)\n",
    "\n",
    "    knn = NearestNeighbors(n_neighbors=num_images, metric=\"jaccard\")\n",
    "    knn.fit(embedding)\n",
    "    start_time=time.time()\n",
    "    _, indices = knn.kneighbors(flattened_embedding)\n",
    "    end_time=time.time()\n",
    "    time_taken=end_time-start_time\n",
    "    #print(\"Time taken: \",end_time-start_time)\n",
    "    indices_list = indices.tolist()\n",
    "    \n",
    "    #print(indices_list)\n",
    "    return indices_list,time_taken\n"
   ]
  },
  {
   "cell_type": "code",
   "execution_count": 165,
   "metadata": {},
   "outputs": [],
   "source": [
    "def plot_similar_images(indices_list):\n",
    "    indices = indices_list[0]\n",
    "    print(\"total indices: \", len(indices))\n",
    "    print(indices_list)\n",
    "    for index in indices:\n",
    "        # img_name = str(index - 1) + \".jpg\"\n",
    "        # print(img_name)\n",
    "        img_path = image_paths[index]\n",
    "        print(img_path)\n",
    "        img = Image.open(img_path).convert(\"RGB\")\n",
    "        plt.imshow(img)\n",
    "        plt.show()"
   ]
  },
  {
   "cell_type": "code",
   "execution_count": 166,
   "metadata": {},
   "outputs": [],
   "source": [
    "TEST_IMAGE_PATH = \"geological_similarity/schist/ZZ5Z5.jpg\"\n",
    "NUM_IMAGES = 50\n",
    "ENCODER_MODEL_PATH = \"geological_encoding.pt\"\n",
    "EMBEDDING_PATH = \"geological_embed.npy\""
   ]
  },
  {
   "cell_type": "code",
   "execution_count": 167,
   "metadata": {
    "tags": []
   },
   "outputs": [],
   "source": [
    "device = torch.device(\"cuda\") if torch.cuda.is_available() else torch.device(\"cpu\")\n",
    "encoder = ConvEncoder()\n",
    "\n",
    "# Load the state dict of encoder\n",
    "encoder.load_state_dict(torch.load(ENCODER_MODEL_PATH, map_location=device))\n",
    "encoder.eval()\n",
    "encoder.to(device)\n",
    "\n",
    "# Loads the embedding\n",
    "embedding = np.load(EMBEDDING_PATH)\n",
    "# test_img = Image.open(TEST_IMAGE_PATH).convert(\"RGB\")\n",
    "# plt.imshow(test_img)\n",
    "# plt.show()\n",
    "# indices_list = compute_similar_images(TEST_IMAGE_PATH, NUM_IMAGES, embedding, device)\n",
    "# plot_similar_images(indices_list)"
   ]
  },
  {
   "cell_type": "code",
   "execution_count": 168,
   "metadata": {},
   "outputs": [],
   "source": [
    "def write_to_file(test_img_path,indices_list,file_name):\n",
    "    indices = indices_list[0]\n",
    "    results=[]\n",
    "    for index in indices:\n",
    "        img_path = image_paths[index]\n",
    "        results.append(img_path)\n",
    "    #results_string=' '.join(i for i in results)\n",
    "    #print(results)\n",
    "    with open(file_name, 'r', encoding='utf-8') as f:\n",
    "        current_dir=json.load(f)\n",
    "    current_dir[test_img_path]=results\n",
    "    with open(file_name, \"w\") as outfile:\n",
    "        json.dump(current_dir, outfile)\n"
   ]
  },
  {
   "cell_type": "code",
   "execution_count": 169,
   "metadata": {},
   "outputs": [],
   "source": [
    "testing_times=[]"
   ]
  },
  {
   "cell_type": "code",
   "execution_count": 170,
   "metadata": {},
   "outputs": [],
   "source": [
    "def test_method(test_img_path,file_name):\n",
    "    test_img = Image.open(test_img_path).convert(\"RGB\")\n",
    "    # plt.imshow(test_img)\n",
    "    # plt.show()\n",
    "    indices_list,time_taken = compute_similar_images(test_img_path, NUM_IMAGES, embedding, device)\n",
    "    write_to_file(test_img_path,indices_list,file_name)\n",
    "    #plot_similar_images(indices_list)\n",
    "    testing_times.append(time_taken)\n",
    "    return time_taken"
   ]
  },
  {
   "cell_type": "code",
   "execution_count": 171,
   "metadata": {},
   "outputs": [
    {
     "name": "stdout",
     "output_type": "stream",
     "text": [
      "Done with :  0\n",
      "Done with :  1\n",
      "Done with :  2\n",
      "Done with :  3\n",
      "Done with :  4\n",
      "Done with :  5\n",
      "Done with :  6\n",
      "Done with :  7\n",
      "Done with :  8\n",
      "Done with :  9\n",
      "Done with :  10\n",
      "Done with :  11\n",
      "Done with :  12\n",
      "Done with :  13\n",
      "Done with :  14\n",
      "Done with :  15\n",
      "Done with :  16\n",
      "Done with :  17\n",
      "Done with :  18\n",
      "Done with :  19\n",
      "Done with :  20\n",
      "Done with :  21\n",
      "Done with :  22\n",
      "Done with :  23\n",
      "Done with :  24\n",
      "Done with :  25\n",
      "Done with :  26\n",
      "Done with :  27\n",
      "Done with :  28\n",
      "Done with :  29\n",
      "Done with :  30\n",
      "Done with :  31\n",
      "Done with :  32\n",
      "Done with :  33\n",
      "Done with :  34\n",
      "Done with :  35\n",
      "Done with :  36\n",
      "Done with :  37\n",
      "Done with :  38\n",
      "Done with :  39\n",
      "Done with :  40\n",
      "Done with :  41\n",
      "Done with :  42\n",
      "Done with :  43\n",
      "Done with :  44\n",
      "Done with :  45\n",
      "Done with :  46\n",
      "Done with :  47\n",
      "Done with :  48\n",
      "Done with :  49\n",
      "Done with :  50\n",
      "Done with :  51\n",
      "Done with :  52\n",
      "Done with :  53\n",
      "Done with :  54\n",
      "Done with :  55\n",
      "Done with :  56\n",
      "Done with :  57\n",
      "Done with :  58\n",
      "Done with :  59\n",
      "Done with :  60\n",
      "Done with :  61\n",
      "Done with :  62\n",
      "Done with :  63\n",
      "Done with :  64\n",
      "Done with :  65\n",
      "Done with :  66\n",
      "Done with :  67\n",
      "Done with :  68\n",
      "Done with :  69\n",
      "Done with :  70\n",
      "Done with :  71\n",
      "Done with :  72\n",
      "Done with :  73\n",
      "Done with :  74\n",
      "Done with :  75\n",
      "Done with :  76\n",
      "Done with :  77\n",
      "Done with :  78\n",
      "Done with :  79\n",
      "Done with :  80\n",
      "Done with :  81\n",
      "Done with :  82\n",
      "Done with :  83\n",
      "Done with :  84\n",
      "Done with :  85\n",
      "Done with :  86\n",
      "Done with :  87\n",
      "Done with :  88\n",
      "Done with :  89\n",
      "Done with :  90\n",
      "Done with :  91\n",
      "Done with :  92\n",
      "Done with :  93\n",
      "Done with :  94\n",
      "Done with :  95\n",
      "Done with :  96\n",
      "Done with :  97\n",
      "Done with :  98\n",
      "Done with :  99\n"
     ]
    }
   ],
   "source": [
    "testing_images=[]\n",
    "for i in range(0,100):\n",
    "    random_index=random.randint(0, len(image_paths)-1)\n",
    "    testing_images.append(image_paths[random_index])\n",
    "\n",
    "for i in range(len(testing_images)):\n",
    "    time_taken=test_method(testing_images[i],\"jaccard_knn_results.json\")\n",
    "    #print(time_taken)\n",
    "    print(\"Done with : \", i)"
   ]
  },
  {
   "cell_type": "code",
   "execution_count": 47,
   "metadata": {},
   "outputs": [],
   "source": [
    "# dic={\"Hello\":\"Wow\"}\n",
    "# with open(\"cosine_knn_results.json\", \"w\") as outfile:\n",
    "#     json.dump(dic, outfile)"
   ]
  },
  {
   "cell_type": "code",
   "execution_count": 172,
   "metadata": {},
   "outputs": [
    {
     "data": {
      "text/plain": [
       "[0.042998552322387695,\n",
       " 0.0449984073638916,\n",
       " 0.04399871826171875,\n",
       " 0.04800057411193848,\n",
       " 0.06400179862976074,\n",
       " 0.018003463745117188,\n",
       " 0.04400157928466797,\n",
       " 0.062000274658203125,\n",
       " 0.04704618453979492,\n",
       " 0.04599905014038086,\n",
       " 0.04799914360046387,\n",
       " 0.02096843719482422,\n",
       " 0.04430103302001953,\n",
       " 0.04596757888793945,\n",
       " 0.04305076599121094,\n",
       " 0.055005788803100586,\n",
       " 0.07800436019897461,\n",
       " 0.04404759407043457,\n",
       " 0.044049978256225586,\n",
       " 0.04798436164855957,\n",
       " 0.05100250244140625,\n",
       " 0.04400324821472168,\n",
       " 0.04398322105407715,\n",
       " 0.04700446128845215,\n",
       " 0.04402875900268555,\n",
       " 0.04705405235290527,\n",
       " 0.05299639701843262,\n",
       " 0.04605436325073242,\n",
       " 0.04496407508850098,\n",
       " 0.046003103256225586,\n",
       " 0.051011085510253906,\n",
       " 0.056000471115112305,\n",
       " 0.044043779373168945,\n",
       " 0.0439457893371582,\n",
       " 0.04504656791687012,\n",
       " 0.04300045967102051,\n",
       " 0.04994535446166992,\n",
       " 0.04294776916503906,\n",
       " 0.06400060653686523,\n",
       " 0.06417465209960938,\n",
       " 0.05300021171569824,\n",
       " 0.048996686935424805,\n",
       " 0.06503701210021973,\n",
       " 0.046944618225097656,\n",
       " 0.04293942451477051,\n",
       " 0.020174026489257812,\n",
       " 0.05100297927856445,\n",
       " 0.0489957332611084,\n",
       " 0.0540003776550293,\n",
       " 0.05500316619873047,\n",
       " 0.04999852180480957,\n",
       " 0.04599595069885254,\n",
       " 0.04899764060974121,\n",
       " 0.07199668884277344,\n",
       " 0.05099916458129883,\n",
       " 0.054001569747924805,\n",
       " 0.048996925354003906,\n",
       " 0.04494428634643555,\n",
       " 0.043997764587402344,\n",
       " 0.047057151794433594,\n",
       " 0.044998884201049805,\n",
       " 0.05105257034301758,\n",
       " 0.04600167274475098,\n",
       " 0.05099797248840332,\n",
       " 0.06999850273132324,\n",
       " 0.05098724365234375,\n",
       " 0.04106545448303223,\n",
       " 0.04238104820251465,\n",
       " 0.04199624061584473,\n",
       " 0.042952537536621094,\n",
       " 0.057999372482299805,\n",
       " 0.04300355911254883,\n",
       " 0.04304671287536621,\n",
       " 0.04398655891418457,\n",
       " 0.04300642013549805,\n",
       " 0.04394841194152832,\n",
       " 0.01999831199645996,\n",
       " 0.04304981231689453,\n",
       " 0.04105019569396973,\n",
       " 0.04199671745300293,\n",
       " 0.04299783706665039,\n",
       " 0.04200005531311035,\n",
       " 0.04299759864807129,\n",
       " 0.04400134086608887,\n",
       " 0.04199934005737305,\n",
       " 0.04198312759399414,\n",
       " 0.04300069808959961,\n",
       " 0.04399871826171875,\n",
       " 0.042009830474853516,\n",
       " 0.04205131530761719,\n",
       " 0.04299569129943848,\n",
       " 0.04099535942077637,\n",
       " 0.04299783706665039,\n",
       " 0.0429987907409668,\n",
       " 0.041999101638793945,\n",
       " 0.04995393753051758,\n",
       " 0.04099845886230469,\n",
       " 0.0410006046295166,\n",
       " 0.04199790954589844,\n",
       " 0.04199862480163574]"
      ]
     },
     "execution_count": 172,
     "metadata": {},
     "output_type": "execute_result"
    }
   ],
   "source": [
    "testing_times"
   ]
  },
  {
   "cell_type": "code",
   "execution_count": 173,
   "metadata": {},
   "outputs": [
    {
     "name": "stdout",
     "output_type": "stream",
     "text": [
      "100\n"
     ]
    }
   ],
   "source": [
    "with open(\"jaccard_knn_results.json\", 'r', encoding='utf-8') as f:\n",
    "    content=json.load(f)\n",
    "print(len(content.keys()))"
   ]
  },
  {
   "cell_type": "code",
   "execution_count": 174,
   "metadata": {},
   "outputs": [],
   "source": [
    "textfile = open(\"timing_results/jaccard_knn_timings.txt\", \"w\")\n",
    "for i in range(len(testing_times)):\n",
    "\n",
    "    textfile.write(str(testing_times[i])+\"\\n\")\n",
    "\n",
    "textfile.close()"
   ]
  },
  {
   "cell_type": "markdown",
   "metadata": {},
   "source": [
    "### Next cell is to read the timings files"
   ]
  },
  {
   "cell_type": "code",
   "execution_count": 160,
   "metadata": {},
   "outputs": [
    {
     "name": "stdout",
     "output_type": "stream",
     "text": [
      "101\n"
     ]
    }
   ],
   "source": [
    "stored_times=[]\n",
    "with open(\"timing_results/jaccard_knn_timings.txt\",\"r\") as f:\n",
    "    content=f.read()\n",
    "stored_times=content.split('\\n')\n",
    "print(len(stored_times))"
   ]
  },
  {
   "cell_type": "code",
   "execution_count": null,
   "metadata": {},
   "outputs": [],
   "source": []
  }
 ],
 "metadata": {
  "interpreter": {
   "hash": "b3ba2566441a7c06988d0923437866b63cedc61552a5af99d1f4fb67d367b25f"
  },
  "kernelspec": {
   "display_name": "Python 3.7.6 64-bit ('sandbox': conda)",
   "language": "python",
   "name": "python3"
  },
  "language_info": {
   "codemirror_mode": {
    "name": "ipython",
    "version": 3
   },
   "file_extension": ".py",
   "mimetype": "text/x-python",
   "name": "python",
   "nbconvert_exporter": "python",
   "pygments_lexer": "ipython3",
   "version": "3.7.4"
  },
  "orig_nbformat": 2
 },
 "nbformat": 4,
 "nbformat_minor": 2
}
