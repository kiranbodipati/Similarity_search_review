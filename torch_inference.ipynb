{
 "cells": [
  {
   "cell_type": "code",
   "execution_count": 111,
   "metadata": {
    "tags": []
   },
   "outputs": [],
   "source": [
    "\n",
    "import torch\n",
    "import numpy as np\n",
    "from autoencoder import ConvDecoder, ConvEncoder\n",
    "from sklearn.neighbors import NearestNeighbors\n",
    "import torchvision.transforms as T\n",
    "import os\n",
    "from PIL import Image\n",
    "import matplotlib.pyplot as plt\n",
    "import pandas as pd\n",
    "import json\n",
    "import time\n",
    "import random\n",
    "%matplotlib inline"
   ]
  },
  {
   "cell_type": "code",
   "execution_count": 3,
   "metadata": {},
   "outputs": [],
   "source": [
    "def load_image_tensor(image_path, device):\n",
    "    image_tensor = T.ToTensor()(Image.open(image_path))\n",
    "    image_tensor = image_tensor.unsqueeze(0)\n",
    "    #print(image_tensor.shape)\n",
    "    # input_images = image_tensor.to(device)\n",
    "    return image_tensor"
   ]
  },
  {
   "cell_type": "code",
   "execution_count": 18,
   "metadata": {},
   "outputs": [
    {
     "name": "stdout",
     "output_type": "stream",
     "text": [
      "29998\n"
     ]
    }
   ],
   "source": [
    "image_paths=[]\n",
    "# with open(\"geological_map.json\", 'r', encoding='utf-8') as f:\n",
    "#     image_paths=json.load(f)\n",
    "with open(\"geological_mapping_data.json\", 'r', encoding='utf-8') as f:\n",
    "    image_paths=json.load(f)\n",
    "print(len(image_paths))"
   ]
  },
  {
   "cell_type": "code",
   "execution_count": 119,
   "metadata": {},
   "outputs": [],
   "source": [
    "def compute_similar_images(image_path, num_images, embedding, device):\n",
    "    image_tensor = load_image_tensor(image_path, device)\n",
    "    # image_tensor = image_tensor.to(device)\n",
    "\n",
    "    with torch.no_grad():\n",
    "        image_embedding = encoder(image_tensor).cpu().detach().numpy()\n",
    "\n",
    "    #print(image_embedding.shape)\n",
    "\n",
    "    flattened_embedding = image_embedding.reshape((image_embedding.shape[0], -1))\n",
    "    #print(flattened_embedding.shape)\n",
    "\n",
    "    knn = NearestNeighbors(n_neighbors=num_images, metric=\"hamming\")\n",
    "    knn.fit(embedding)\n",
    "    start_time=time.time()\n",
    "    _, indices = knn.kneighbors(flattened_embedding)\n",
    "    end_time=time.time()\n",
    "    time_taken=end_time-start_time\n",
    "    #print(\"Time taken: \",end_time-start_time)\n",
    "    indices_list = indices.tolist()\n",
    "    \n",
    "    #print(indices_list)\n",
    "    return indices_list,time_taken\n"
   ]
  },
  {
   "cell_type": "code",
   "execution_count": 102,
   "metadata": {},
   "outputs": [],
   "source": [
    "def plot_similar_images(indices_list):\n",
    "    indices = indices_list[0]\n",
    "    print(\"total indices: \", len(indices))\n",
    "    print(indices_list)\n",
    "    for index in indices:\n",
    "        # img_name = str(index - 1) + \".jpg\"\n",
    "        # print(img_name)\n",
    "        img_path = image_paths[index]\n",
    "        print(img_path)\n",
    "        img = Image.open(img_path).convert(\"RGB\")\n",
    "        plt.imshow(img)\n",
    "        plt.show()"
   ]
  },
  {
   "cell_type": "code",
   "execution_count": 103,
   "metadata": {},
   "outputs": [],
   "source": [
    "TEST_IMAGE_PATH = \"geological_similarity/schist/ZZ5Z5.jpg\"\n",
    "NUM_IMAGES = 50\n",
    "ENCODER_MODEL_PATH = \"geological_encoding.pt\"\n",
    "EMBEDDING_PATH = \"geological_embed.npy\""
   ]
  },
  {
   "cell_type": "code",
   "execution_count": 104,
   "metadata": {
    "tags": []
   },
   "outputs": [],
   "source": [
    "device = torch.device(\"cuda\") if torch.cuda.is_available() else torch.device(\"cpu\")\n",
    "encoder = ConvEncoder()\n",
    "\n",
    "# Load the state dict of encoder\n",
    "encoder.load_state_dict(torch.load(ENCODER_MODEL_PATH, map_location=device))\n",
    "encoder.eval()\n",
    "encoder.to(device)\n",
    "\n",
    "# Loads the embedding\n",
    "embedding = np.load(EMBEDDING_PATH)\n",
    "# test_img = Image.open(TEST_IMAGE_PATH).convert(\"RGB\")\n",
    "# plt.imshow(test_img)\n",
    "# plt.show()\n",
    "# indices_list = compute_similar_images(TEST_IMAGE_PATH, NUM_IMAGES, embedding, device)\n",
    "# plot_similar_images(indices_list)"
   ]
  },
  {
   "cell_type": "code",
   "execution_count": 105,
   "metadata": {},
   "outputs": [
    {
     "data": {
      "text/plain": [
       "(29998, 576)"
      ]
     },
     "execution_count": 105,
     "metadata": {},
     "output_type": "execute_result"
    }
   ],
   "source": [
    "embedding.shape"
   ]
  },
  {
   "cell_type": "code",
   "execution_count": 24,
   "metadata": {},
   "outputs": [
    {
     "name": "stdout",
     "output_type": "stream",
     "text": [
      "[[-2.806802   -3.0075257 ]\n",
      " [-7.1530347   0.21610254]\n",
      " [-3.515173   -2.1083107 ]\n",
      " ...\n",
      " [ 0.5316822   0.8761277 ]\n",
      " [ 1.4209647   3.0928488 ]\n",
      " [ 3.3972976  -1.1067998 ]]\n"
     ]
    }
   ],
   "source": [
    "#trying out Principal Component Analysis\n",
    "import numpy as np\n",
    "from sklearn.decomposition import PCA\n",
    "\n",
    "pca = PCA(n_components=2)\n",
    "results=pca.fit_transform(embedding)\n",
    "print(results)\n"
   ]
  },
  {
   "cell_type": "code",
   "execution_count": 106,
   "metadata": {},
   "outputs": [
    {
     "data": {
      "image/png": "[encoded data removed]",
      "text/plain": [
       "<Figure size 432x288 with 1 Axes>"
      ]
     },
     "metadata": {
      "needs_background": "light"
     },
     "output_type": "display_data"
    }
   ],
   "source": [
    "x= [i[0] for i in results]\n",
    "y=[i[1] for i in results]\n",
    "x_andesite=x[:5000]\n",
    "y_andesite=y[:5000]\n",
    "x_gneiss=x[5000:10000]\n",
    "y_gneiss=y[5000:10000]\n",
    "x_marble=x[10000:14998]\n",
    "y_marble=y[10000:14998]\n",
    "x_quartzite=x[14998:19998]\n",
    "y_quartzite=y[14998:19998]\n",
    "x_rhyolite=x[19998:24998]\n",
    "y_rhyolite=y[19998:24998]\n",
    "x_schist=x[24998:29998]\n",
    "y_schist=y[24998:29998]\n",
    "plt.scatter(x_andesite,y_andesite,c=\"r\")\n",
    "plt.scatter(x_gneiss,y_gneiss,c=\"g\")\n",
    "plt.scatter(x_marble,y_marble,c=\"b\")\n",
    "plt.scatter(x_quartzite,y_quartzite,c=\"#8c564b\")\n",
    "plt.scatter(x_rhyolite,y_rhyolite,c=\"#9467bd\")\n",
    "plt.scatter(x_schist,y_schist,c=\"#ff7f0e\")\n",
    "plt.show()"
   ]
  },
  {
   "cell_type": "code",
   "execution_count": 96,
   "metadata": {},
   "outputs": [],
   "source": [
    "def write_to_file(test_img_path,indices_list,file_name):\n",
    "    indices = indices_list[0]\n",
    "    results=[]\n",
    "    current_dir = {}\n",
    "    for index in indices:\n",
    "        img_path = image_paths[index]\n",
    "        results.append(img_path)\n",
    "    #results_string=' '.join(i for i in results)\n",
    "    #print(results)\n",
    "    with open(file_name, 'r', encoding='utf-8') as f:\n",
    "        current_dir=json.load(f)\n",
    "    current_dir[test_img_path]=indices\n",
    "    # print(current_dir[test_img_path])\n",
    "    with open(file_name, \"w\") as outfile:\n",
    "        json.dump(current_dir, outfile)\n"
   ]
  },
  {
   "cell_type": "code",
   "execution_count": 97,
   "metadata": {},
   "outputs": [],
   "source": [
    "testing_times=[]"
   ]
  },
  {
   "cell_type": "code",
   "execution_count": 98,
   "metadata": {},
   "outputs": [],
   "source": [
    "def test_method(test_img_path,file_name):\n",
    "    test_img = Image.open(test_img_path).convert(\"RGB\")\n",
    "    # plt.imshow(test_img)\n",
    "    # plt.show()\n",
    "    indices_list,time_taken = compute_similar_images(test_img_path, NUM_IMAGES, embedding, device)\n",
    "    write_to_file(test_img_path,indices_list,file_name)\n",
    "    #plot_similar_images(indices_list)\n",
    "    testing_times.append(time_taken)\n",
    "    return time_taken,indices_list"
   ]
  },
  {
   "cell_type": "code",
   "execution_count": 120,
   "metadata": {},
   "outputs": [],
   "source": [
    "testing_images=[]\n",
    "testing = pd.DataFrame({\n",
    "        'testing_image': \"dummy_data\",\n",
    "        'time_taken': 0,\n",
    "        'indices_list': []\n",
    "    })\n",
    "for i in range(0,100):\n",
    "    random_index=random.randint(0, len(image_paths)-1)\n",
    "    testing_images.append(image_paths[random_index])\n",
    "\n",
    "for i in range(len(testing_images)):\n",
    "    time_taken,indices_list=test_method(testing_images[i],\"hamming_knn_results.json\")\n",
    "    testing = testing.append(pd.DataFrame({\n",
    "                'testing_image': testing_images[i],\n",
    "                'time_taken': time_taken,\n",
    "                'indices_list' : list(indices_list)\n",
    "            }), ignore_index=True)\n",
    "testing.to_csv(\"./hamming_knn_results.csv\",index=False)\n",
    "    # print(time_taken)"
   ]
  },
  {
   "cell_type": "code",
   "execution_count": 100,
   "metadata": {},
   "outputs": [],
   "source": [
    "# dic={\"Hello\":\"Wow\"}\n",
    "# with open(\"cosine_knn_results.json\", \"w\") as outfile:\n",
    "#     json.dump(dic, outfile)"
   ]
  },
  {
   "cell_type": "code",
   "execution_count": 55,
   "metadata": {},
   "outputs": [
    {
     "name": "stdout",
     "output_type": "stream",
     "text": [
      "0.05612516164779663\n"
     ]
    }
   ],
   "source": [
    "avg_test_time=sum(testing_times)/len(testing_times)\n",
    "print(avg_test_time)"
   ]
  },
  {
   "cell_type": "code",
   "execution_count": 56,
   "metadata": {},
   "outputs": [
    {
     "name": "stdout",
     "output_type": "stream",
     "text": [
      "200\n"
     ]
    }
   ],
   "source": [
    "with open(\"jaccard_knn_results.json\", 'r', encoding='utf-8') as f:\n",
    "    content=json.load(f)\n",
    "print(len(content.keys()))"
   ]
  },
  {
   "cell_type": "code",
   "execution_count": 57,
   "metadata": {},
   "outputs": [],
   "source": [
    "textfile = open(\"timing_results/jaccard_knn_timings.txt\", \"w\")\n",
    "for i in range(len(testing_times)):\n",
    "\n",
    "    textfile.write(str(testing_times[i])+\"\\n\")\n",
    "\n",
    "textfile.close()"
   ]
  },
  {
   "cell_type": "markdown",
   "metadata": {},
   "source": [
    "### Next cell is to read the timings files"
   ]
  },
  {
   "cell_type": "code",
   "execution_count": 58,
   "metadata": {},
   "outputs": [
    {
     "name": "stdout",
     "output_type": "stream",
     "text": [
      "100\n"
     ]
    }
   ],
   "source": [
    "stored_times=[]\n",
    "with open(\"timing_results/cosine_knn_timings.txt\",\"r\") as f:\n",
    "    content=f.read()\n",
    "stored_times=content.split('\\n')\n",
    "print(len(stored_times))"
   ]
  },
  {
   "cell_type": "code",
   "execution_count": 59,
   "metadata": {},
   "outputs": [
    {
     "data": {
      "text/plain": [
       "0.0992603874206543"
      ]
     },
     "execution_count": 59,
     "metadata": {},
     "output_type": "execute_result"
    }
   ],
   "source": [
    "stored_times= [float(i) for i in stored_times]\n",
    "sum(stored_times)/len(stored_times)"
   ]
  },
  {
   "cell_type": "code",
   "execution_count": null,
   "metadata": {},
   "outputs": [],
   "source": []
  }
 ],
 "metadata": {
  "interpreter": {
   "hash": "b3ba2566441a7c06988d0923437866b63cedc61552a5af99d1f4fb67d367b25f"
  },
  "kernelspec": {
   "display_name": "Python 3.7.6 64-bit ('sandbox': conda)",
   "language": "python",
   "name": "python3"
  },
  "language_info": {
   "codemirror_mode": {
    "name": "ipython",
    "version": 3
   },
   "file_extension": ".py",
   "mimetype": "text/x-python",
   "name": "python",
   "nbconvert_exporter": "python",
   "pygments_lexer": "ipython3",
   "version": "3.8.9"
  },
  "orig_nbformat": 2
 },
 "nbformat": 4,
 "nbformat_minor": 2
}
