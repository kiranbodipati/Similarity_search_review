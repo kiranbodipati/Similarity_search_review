{
 "cells": [
  {
   "cell_type": "code",
   "execution_count": 20,
   "id": "49109640",
   "metadata": {},
   "outputs": [],
   "source": [
    "import pandas as pd\n",
    "import numpy as np\n",
    "import os\n",
    "import random"
   ]
  },
  {
   "cell_type": "code",
   "execution_count": 4,
   "id": "75f30c06",
   "metadata": {},
   "outputs": [
    {
     "name": "stdout",
     "output_type": "stream",
     "text": [
      "\n",
      "andesite\n",
      "gneiss\n",
      "marble\n",
      "quartzite\n",
      "rhyolite\n",
      "schist\n"
     ]
    }
   ],
   "source": [
    "# ONLY WORKS FOR THIS SPECIFIC DATSET, CHANGE ACCORDINGLY\n",
    "rootdir = '../geological_similarity'\n",
    "image_files = []\n",
    "image_labels = []\n",
    "for subdir, dirs, files in os.walk(rootdir):\n",
    "    print(subdir[25:])\n",
    "    for file in files:\n",
    "        image_files.append(os.path.join(subdir, file))\n",
    "        image_labels.append(subdir[25:])"
   ]
  },
  {
   "cell_type": "code",
   "execution_count": 10,
   "id": "eafa413d",
   "metadata": {},
   "outputs": [
    {
     "data": {
      "text/plain": [
       "{'andesite': 0,\n",
       " 'gneiss': 1,\n",
       " 'marble': 2,\n",
       " 'quartzite': 3,\n",
       " 'rhyolite': 4,\n",
       " 'schist': 5}"
      ]
     },
     "execution_count": 10,
     "metadata": {},
     "output_type": "execute_result"
    }
   ],
   "source": [
    "label_dict = {}\n",
    "encoded_labels = []\n",
    "for l in image_labels:\n",
    "    if l not in label_dict:\n",
    "        label_dict[l] = len(label_dict)\n",
    "    encoded_labels.append(label_dict[l])\n",
    "label_dict"
   ]
  },
  {
   "cell_type": "code",
   "execution_count": 13,
   "id": "2e31af92",
   "metadata": {},
   "outputs": [
    {
     "data": {
      "text/html": [
       "<div>\n",
       "<style scoped>\n",
       "    .dataframe tbody tr th:only-of-type {\n",
       "        vertical-align: middle;\n",
       "    }\n",
       "\n",
       "    .dataframe tbody tr th {\n",
       "        vertical-align: top;\n",
       "    }\n",
       "\n",
       "    .dataframe thead th {\n",
       "        text-align: right;\n",
       "    }\n",
       "</style>\n",
       "<table border=\"1\" class=\"dataframe\">\n",
       "  <thead>\n",
       "    <tr style=\"text-align: right;\">\n",
       "      <th></th>\n",
       "      <th>location</th>\n",
       "      <th>label</th>\n",
       "    </tr>\n",
       "  </thead>\n",
       "  <tbody>\n",
       "    <tr>\n",
       "      <th>0</th>\n",
       "      <td>../geological_similarity\\andesite\\012L6.jpg</td>\n",
       "      <td>0</td>\n",
       "    </tr>\n",
       "    <tr>\n",
       "      <th>1</th>\n",
       "      <td>../geological_similarity\\andesite\\01ITR.jpg</td>\n",
       "      <td>0</td>\n",
       "    </tr>\n",
       "    <tr>\n",
       "      <th>2</th>\n",
       "      <td>../geological_similarity\\andesite\\01LQQ.jpg</td>\n",
       "      <td>0</td>\n",
       "    </tr>\n",
       "    <tr>\n",
       "      <th>3</th>\n",
       "      <td>../geological_similarity\\andesite\\0230P.jpg</td>\n",
       "      <td>0</td>\n",
       "    </tr>\n",
       "    <tr>\n",
       "      <th>4</th>\n",
       "      <td>../geological_similarity\\andesite\\02741.jpg</td>\n",
       "      <td>0</td>\n",
       "    </tr>\n",
       "  </tbody>\n",
       "</table>\n",
       "</div>"
      ],
      "text/plain": [
       "                                      location  label\n",
       "0  ../geological_similarity\\andesite\\012L6.jpg      0\n",
       "1  ../geological_similarity\\andesite\\01ITR.jpg      0\n",
       "2  ../geological_similarity\\andesite\\01LQQ.jpg      0\n",
       "3  ../geological_similarity\\andesite\\0230P.jpg      0\n",
       "4  ../geological_similarity\\andesite\\02741.jpg      0"
      ]
     },
     "execution_count": 13,
     "metadata": {},
     "output_type": "execute_result"
    }
   ],
   "source": [
    "image_locs = pd.DataFrame({'location':image_files, 'label':encoded_labels})\n",
    "image_locs.head()"
   ]
  },
  {
   "cell_type": "code",
   "execution_count": 17,
   "id": "662ec3b8",
   "metadata": {},
   "outputs": [
    {
     "name": "stdout",
     "output_type": "stream",
     "text": [
      "<class 'pandas.core.frame.DataFrame'>\n",
      "RangeIndex: 29998 entries, 0 to 29997\n",
      "Data columns (total 2 columns):\n",
      " #   Column    Non-Null Count  Dtype \n",
      "---  ------    --------------  ----- \n",
      " 0   location  29998 non-null  object\n",
      " 1   label     29998 non-null  int64 \n",
      "dtypes: int64(1), object(1)\n",
      "memory usage: 468.8+ KB\n"
     ]
    }
   ],
   "source": [
    "image_locs.info()"
   ]
  },
  {
   "cell_type": "code",
   "execution_count": null,
   "id": "bd224a08",
   "metadata": {},
   "outputs": [],
   "source": [
    "# generating all possible pairs, will take a long time to run (~90 minutes on a fast CPU)\n",
    "# total_pairs = []\n",
    "# for i in range(len(image_locs)-1):\n",
    "#     for j in range(i+1, len(image_locs)):\n",
    "#         total_pairs.append([image_locs['location'][i], image_locs['location'][j], int(image_locs['label'][i]==image_locs['label'][j])])\n",
    "# pairs_df = pd.DataFrame(total_pairs, columns=['inputA', 'inputB', 'label'])\n",
    "# pairs_df.head()"
   ]
  },
  {
   "cell_type": "code",
   "execution_count": null,
   "id": "c5f1b454",
   "metadata": {},
   "outputs": [],
   "source": [
    "# matched_df = pairs_df[pairs_df['label']==1].copy()\n",
    "# mismatched_df = pairs_df[pairs_df['label']==0].copy()"
   ]
  },
  {
   "cell_type": "code",
   "execution_count": null,
   "id": "efebf607",
   "metadata": {},
   "outputs": [],
   "source": [
    "# shuffling\n",
    "# matched_df = matched_df.sample(frac=1).reset_index(drop=True)\n",
    "# mismatched_df = mismatched_df.sample(frac=1).reset_index(drop=True)"
   ]
  },
  {
   "cell_type": "code",
   "execution_count": null,
   "id": "d50a78e5",
   "metadata": {},
   "outputs": [],
   "source": [
    "# 50:50 downsampling\n",
    "# downsampled_df = pd.concat([matched_df, mismatched_df[:len(matched_df)].copy()], ignore_index=True)"
   ]
  },
  {
   "cell_type": "code",
   "execution_count": null,
   "id": "93b4ff2b",
   "metadata": {},
   "outputs": [],
   "source": []
  },
  {
   "cell_type": "code",
   "execution_count": 24,
   "id": "a9416fe4",
   "metadata": {},
   "outputs": [
    {
     "name": "stdout",
     "output_type": "stream",
     "text": [
      "Done for 0 pairs\n",
      "Done for 200000 pairs\n",
      "Done for 400000 pairs\n",
      "Done for 600000 pairs\n",
      "Done for 800000 pairs\n",
      "Done for 1000000 pairs\n",
      "Done for 1200000 pairs\n",
      "Done for 1400000 pairs\n",
      "Done for 1600000 pairs\n",
      "Done for 1800000 pairs\n"
     ]
    }
   ],
   "source": [
    "# faster approximation of getting a 50:50 downsampling\n",
    "NUM_ITERS = 1000000  # number of iterations to run - dataset size will be 2x this\n",
    "total_pairs = []\n",
    "for k in range(NUM_ITERS):\n",
    "    i = random.randint(0, len(image_locs)-1)\n",
    "    # looping to find matching pair\n",
    "    while True:\n",
    "        j = random.randint(0, len(image_locs)-1)\n",
    "        if image_locs['label'][i]==image_locs['label'][j] and i!=j:\n",
    "            total_pairs.append([image_locs['location'][i], image_locs['location'][j], 1])\n",
    "            break\n",
    "    # looping to find mismatched pair\n",
    "    while True:\n",
    "        j = random.randint(0, len(image_locs)-1)\n",
    "        if image_locs['label'][i]!=image_locs['label'][j]:\n",
    "            total_pairs.append([image_locs['location'][i], image_locs['location'][j], 0])\n",
    "            break\n",
    "    if k%100000 == 0:\n",
    "        print(\"Done for {} pairs\".format(k*2))"
   ]
  },
  {
   "cell_type": "code",
   "execution_count": 25,
   "id": "d0571c99",
   "metadata": {},
   "outputs": [
    {
     "data": {
      "text/html": [
       "<div>\n",
       "<style scoped>\n",
       "    .dataframe tbody tr th:only-of-type {\n",
       "        vertical-align: middle;\n",
       "    }\n",
       "\n",
       "    .dataframe tbody tr th {\n",
       "        vertical-align: top;\n",
       "    }\n",
       "\n",
       "    .dataframe thead th {\n",
       "        text-align: right;\n",
       "    }\n",
       "</style>\n",
       "<table border=\"1\" class=\"dataframe\">\n",
       "  <thead>\n",
       "    <tr style=\"text-align: right;\">\n",
       "      <th></th>\n",
       "      <th>inputA</th>\n",
       "      <th>inputB</th>\n",
       "      <th>label</th>\n",
       "    </tr>\n",
       "  </thead>\n",
       "  <tbody>\n",
       "    <tr>\n",
       "      <th>0</th>\n",
       "      <td>../geological_similarity\\marble\\KRW5E.jpg</td>\n",
       "      <td>../geological_similarity\\marble\\D4LHE.jpg</td>\n",
       "      <td>1</td>\n",
       "    </tr>\n",
       "    <tr>\n",
       "      <th>1</th>\n",
       "      <td>../geological_similarity\\marble\\KRW5E.jpg</td>\n",
       "      <td>../geological_similarity\\gneiss\\6SR9M.jpg</td>\n",
       "      <td>0</td>\n",
       "    </tr>\n",
       "    <tr>\n",
       "      <th>2</th>\n",
       "      <td>../geological_similarity\\quartzite\\G5W57.jpg</td>\n",
       "      <td>../geological_similarity\\quartzite\\LSIXH.jpg</td>\n",
       "      <td>1</td>\n",
       "    </tr>\n",
       "    <tr>\n",
       "      <th>3</th>\n",
       "      <td>../geological_similarity\\quartzite\\G5W57.jpg</td>\n",
       "      <td>../geological_similarity\\marble\\YQCAX.jpg</td>\n",
       "      <td>0</td>\n",
       "    </tr>\n",
       "    <tr>\n",
       "      <th>4</th>\n",
       "      <td>../geological_similarity\\schist\\BCLF6.jpg</td>\n",
       "      <td>../geological_similarity\\schist\\PY1QD.jpg</td>\n",
       "      <td>1</td>\n",
       "    </tr>\n",
       "  </tbody>\n",
       "</table>\n",
       "</div>"
      ],
      "text/plain": [
       "                                         inputA  \\\n",
       "0     ../geological_similarity\\marble\\KRW5E.jpg   \n",
       "1     ../geological_similarity\\marble\\KRW5E.jpg   \n",
       "2  ../geological_similarity\\quartzite\\G5W57.jpg   \n",
       "3  ../geological_similarity\\quartzite\\G5W57.jpg   \n",
       "4     ../geological_similarity\\schist\\BCLF6.jpg   \n",
       "\n",
       "                                         inputB  label  \n",
       "0     ../geological_similarity\\marble\\D4LHE.jpg      1  \n",
       "1     ../geological_similarity\\gneiss\\6SR9M.jpg      0  \n",
       "2  ../geological_similarity\\quartzite\\LSIXH.jpg      1  \n",
       "3     ../geological_similarity\\marble\\YQCAX.jpg      0  \n",
       "4     ../geological_similarity\\schist\\PY1QD.jpg      1  "
      ]
     },
     "execution_count": 25,
     "metadata": {},
     "output_type": "execute_result"
    }
   ],
   "source": [
    "downsampled_df = pd.DataFrame(total_pairs, columns=['inputA', 'inputB', 'label'])\n",
    "downsampled_df.head()"
   ]
  },
  {
   "cell_type": "code",
   "execution_count": 26,
   "id": "fb251a4c",
   "metadata": {},
   "outputs": [
    {
     "data": {
      "text/html": [
       "<div>\n",
       "<style scoped>\n",
       "    .dataframe tbody tr th:only-of-type {\n",
       "        vertical-align: middle;\n",
       "    }\n",
       "\n",
       "    .dataframe tbody tr th {\n",
       "        vertical-align: top;\n",
       "    }\n",
       "\n",
       "    .dataframe thead th {\n",
       "        text-align: right;\n",
       "    }\n",
       "</style>\n",
       "<table border=\"1\" class=\"dataframe\">\n",
       "  <thead>\n",
       "    <tr style=\"text-align: right;\">\n",
       "      <th></th>\n",
       "      <th>label</th>\n",
       "    </tr>\n",
       "  </thead>\n",
       "  <tbody>\n",
       "    <tr>\n",
       "      <th>count</th>\n",
       "      <td>2000000.0</td>\n",
       "    </tr>\n",
       "    <tr>\n",
       "      <th>mean</th>\n",
       "      <td>0.5</td>\n",
       "    </tr>\n",
       "    <tr>\n",
       "      <th>std</th>\n",
       "      <td>0.5</td>\n",
       "    </tr>\n",
       "    <tr>\n",
       "      <th>min</th>\n",
       "      <td>0.0</td>\n",
       "    </tr>\n",
       "    <tr>\n",
       "      <th>25%</th>\n",
       "      <td>0.0</td>\n",
       "    </tr>\n",
       "    <tr>\n",
       "      <th>50%</th>\n",
       "      <td>0.5</td>\n",
       "    </tr>\n",
       "    <tr>\n",
       "      <th>75%</th>\n",
       "      <td>1.0</td>\n",
       "    </tr>\n",
       "    <tr>\n",
       "      <th>max</th>\n",
       "      <td>1.0</td>\n",
       "    </tr>\n",
       "  </tbody>\n",
       "</table>\n",
       "</div>"
      ],
      "text/plain": [
       "           label\n",
       "count  2000000.0\n",
       "mean         0.5\n",
       "std          0.5\n",
       "min          0.0\n",
       "25%          0.0\n",
       "50%          0.5\n",
       "75%          1.0\n",
       "max          1.0"
      ]
     },
     "execution_count": 26,
     "metadata": {},
     "output_type": "execute_result"
    }
   ],
   "source": [
    "downsampled_df.describe()"
   ]
  },
  {
   "cell_type": "code",
   "execution_count": 27,
   "id": "ed702ecf",
   "metadata": {},
   "outputs": [],
   "source": [
    "# shuffling and taking train-test split\n",
    "\n",
    "downsampled_df = downsampled_df.sample(frac=1).reset_index(drop=True)\n",
    "train_size = int(0.7*len(downsampled_df))\n",
    "train_df = downsampled_df[:train_size].copy()\n",
    "test_df = downsampled_df[train_size+1:].copy()\n",
    "test_df.reset_index(drop=True, inplace=True)"
   ]
  },
  {
   "cell_type": "code",
   "execution_count": 32,
   "id": "714a65ea",
   "metadata": {},
   "outputs": [],
   "source": [
    "downsampled_df.to_csv('siamese_pairs.csv', index=False)"
   ]
  },
  {
   "cell_type": "code",
   "execution_count": 37,
   "id": "3e63292e",
   "metadata": {},
   "outputs": [],
   "source": [
    "image_locs.to_csv('geo_image_locations.csv', index=False)"
   ]
  },
  {
   "cell_type": "code",
   "execution_count": null,
   "id": "98bb3b3a",
   "metadata": {},
   "outputs": [],
   "source": []
  }
 ],
 "metadata": {
  "kernelspec": {
   "display_name": "Python 3",
   "language": "python",
   "name": "python3"
  },
  "language_info": {
   "codemirror_mode": {
    "name": "ipython",
    "version": 3
   },
   "file_extension": ".py",
   "mimetype": "text/x-python",
   "name": "python",
   "nbconvert_exporter": "python",
   "pygments_lexer": "ipython3",
   "version": "3.8.8"
  }
 },
 "nbformat": 4,
 "nbformat_minor": 5
}
