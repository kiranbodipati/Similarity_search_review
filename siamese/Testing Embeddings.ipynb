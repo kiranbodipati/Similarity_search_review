{
 "cells": [
  {
   "cell_type": "code",
   "execution_count": 1,
   "id": "38fea909",
   "metadata": {},
   "outputs": [],
   "source": [
    "import numpy as np\n",
    "import pandas as pd\n",
    "from scipy import spatial\n",
    "import random\n",
    "import matplotlib.pyplot as plt\n",
    "import seaborn as sns\n",
    "import time\n",
    "\n",
    "from sklearn.metrics import confusion_matrix\n",
    "from sklearn.metrics import classification_report\n",
    "from sklearn.decomposition import PCA"
   ]
  },
  {
   "cell_type": "code",
   "execution_count": 2,
   "id": "290ab852",
   "metadata": {},
   "outputs": [
    {
     "data": {
      "text/html": [
       "<div>\n",
       "<style scoped>\n",
       "    .dataframe tbody tr th:only-of-type {\n",
       "        vertical-align: middle;\n",
       "    }\n",
       "\n",
       "    .dataframe tbody tr th {\n",
       "        vertical-align: top;\n",
       "    }\n",
       "\n",
       "    .dataframe thead th {\n",
       "        text-align: right;\n",
       "    }\n",
       "</style>\n",
       "<table border=\"1\" class=\"dataframe\">\n",
       "  <thead>\n",
       "    <tr style=\"text-align: right;\">\n",
       "      <th></th>\n",
       "      <th>location</th>\n",
       "      <th>label</th>\n",
       "    </tr>\n",
       "  </thead>\n",
       "  <tbody>\n",
       "    <tr>\n",
       "      <th>0</th>\n",
       "      <td>../geological_similarity\\andesite\\012L6.jpg</td>\n",
       "      <td>0</td>\n",
       "    </tr>\n",
       "    <tr>\n",
       "      <th>1</th>\n",
       "      <td>../geological_similarity\\andesite\\01ITR.jpg</td>\n",
       "      <td>0</td>\n",
       "    </tr>\n",
       "    <tr>\n",
       "      <th>2</th>\n",
       "      <td>../geological_similarity\\andesite\\01LQQ.jpg</td>\n",
       "      <td>0</td>\n",
       "    </tr>\n",
       "    <tr>\n",
       "      <th>3</th>\n",
       "      <td>../geological_similarity\\andesite\\0230P.jpg</td>\n",
       "      <td>0</td>\n",
       "    </tr>\n",
       "    <tr>\n",
       "      <th>4</th>\n",
       "      <td>../geological_similarity\\andesite\\02741.jpg</td>\n",
       "      <td>0</td>\n",
       "    </tr>\n",
       "  </tbody>\n",
       "</table>\n",
       "</div>"
      ],
      "text/plain": [
       "                                      location  label\n",
       "0  ../geological_similarity\\andesite\\012L6.jpg      0\n",
       "1  ../geological_similarity\\andesite\\01ITR.jpg      0\n",
       "2  ../geological_similarity\\andesite\\01LQQ.jpg      0\n",
       "3  ../geological_similarity\\andesite\\0230P.jpg      0\n",
       "4  ../geological_similarity\\andesite\\02741.jpg      0"
      ]
     },
     "execution_count": 2,
     "metadata": {},
     "output_type": "execute_result"
    }
   ],
   "source": [
    "image_locs = pd.read_csv('geo_image_locations.csv')\n",
    "image_locs.head()"
   ]
  },
  {
   "cell_type": "code",
   "execution_count": 3,
   "id": "f784aec2",
   "metadata": {},
   "outputs": [
    {
     "data": {
      "text/plain": [
       "(29998, 50)"
      ]
     },
     "execution_count": 3,
     "metadata": {},
     "output_type": "execute_result"
    }
   ],
   "source": [
    "embeddings = np.load(\"geo_siamese_embeds.npy\")\n",
    "embeddings.shape"
   ]
  },
  {
   "cell_type": "code",
   "execution_count": 4,
   "id": "2ec8fc60",
   "metadata": {},
   "outputs": [
    {
     "data": {
      "text/plain": [
       "array([  904.29456  ,   131.86935  ,    -6.560202 ,    -1.8538573,\n",
       "          40.24828  ,   551.6593   ,   500.05997  ,   150.38301  ,\n",
       "        -514.0599   ,   281.09772  ,   826.24896  ,   256.21228  ,\n",
       "         219.105    ,  -288.60437  ,   585.09357  ,  -126.90682  ,\n",
       "         255.22958  ,   -40.375412 ,   143.65877  ,   119.090416 ,\n",
       "        -184.0937   ,    59.40103  ,    30.300495 ,   427.7617   ,\n",
       "         122.07479  ,  -266.16373  ,   -45.379    ,   686.51465  ,\n",
       "         238.9694   ,   188.52693  ,   322.23862  ,  -109.87884  ,\n",
       "          10.448791 ,   343.5501   ,   727.57196  ,   569.9228   ,\n",
       "        -346.09323  ,   407.59903  ,  -282.3198   , -1009.6946   ,\n",
       "        -316.68015  ,  -469.92825  ,   188.51903  ,  -639.3193   ,\n",
       "         190.08571  ,    89.05893  ,  -322.31918  ,  -220.85052  ,\n",
       "        -806.314    ,  -242.79004  ], dtype=float32)"
      ]
     },
     "execution_count": 4,
     "metadata": {},
     "output_type": "execute_result"
    }
   ],
   "source": [
    "embeddings[0]"
   ]
  },
  {
   "cell_type": "code",
   "execution_count": 18,
   "id": "77b44b09",
   "metadata": {},
   "outputs": [
    {
     "data": {
      "text/html": [
       "<div>\n",
       "<style scoped>\n",
       "    .dataframe tbody tr th:only-of-type {\n",
       "        vertical-align: middle;\n",
       "    }\n",
       "\n",
       "    .dataframe tbody tr th {\n",
       "        vertical-align: top;\n",
       "    }\n",
       "\n",
       "    .dataframe thead th {\n",
       "        text-align: right;\n",
       "    }\n",
       "</style>\n",
       "<table border=\"1\" class=\"dataframe\">\n",
       "  <thead>\n",
       "    <tr style=\"text-align: right;\">\n",
       "      <th></th>\n",
       "      <th>indexA</th>\n",
       "      <th>indexB</th>\n",
       "      <th>label</th>\n",
       "    </tr>\n",
       "  </thead>\n",
       "  <tbody>\n",
       "    <tr>\n",
       "      <th>0</th>\n",
       "      <td>25280</td>\n",
       "      <td>10540</td>\n",
       "      <td>0</td>\n",
       "    </tr>\n",
       "    <tr>\n",
       "      <th>1</th>\n",
       "      <td>18931</td>\n",
       "      <td>16418</td>\n",
       "      <td>1</td>\n",
       "    </tr>\n",
       "    <tr>\n",
       "      <th>2</th>\n",
       "      <td>26017</td>\n",
       "      <td>27118</td>\n",
       "      <td>1</td>\n",
       "    </tr>\n",
       "    <tr>\n",
       "      <th>3</th>\n",
       "      <td>20307</td>\n",
       "      <td>23235</td>\n",
       "      <td>1</td>\n",
       "    </tr>\n",
       "    <tr>\n",
       "      <th>4</th>\n",
       "      <td>4332</td>\n",
       "      <td>13193</td>\n",
       "      <td>0</td>\n",
       "    </tr>\n",
       "  </tbody>\n",
       "</table>\n",
       "</div>"
      ],
      "text/plain": [
       "   indexA  indexB  label\n",
       "0   25280   10540      0\n",
       "1   18931   16418      1\n",
       "2   26017   27118      1\n",
       "3   20307   23235      1\n",
       "4    4332   13193      0"
      ]
     },
     "execution_count": 18,
     "metadata": {},
     "output_type": "execute_result"
    }
   ],
   "source": [
    "# test_df with 50/50 downsampling\n",
    "NUM_ITERS = 10000  # number of iterations to run - dataset size will be 2x this\n",
    "total_pairs = []\n",
    "for k in range(NUM_ITERS):\n",
    "    i = random.randint(0, len(image_locs)-1)\n",
    "    # looping to find matching pair\n",
    "    while True:\n",
    "        j = random.randint(0, len(image_locs)-1)\n",
    "        if image_locs['label'][i]==image_locs['label'][j] and i!=j:\n",
    "            total_pairs.append([i, j, 1])\n",
    "            break\n",
    "    # looping to find mismatched pair\n",
    "    while True:\n",
    "        j = random.randint(0, len(image_locs)-1)\n",
    "        if image_locs['label'][i]!=image_locs['label'][j]:\n",
    "            total_pairs.append([i, j, 0])\n",
    "            break\n",
    "test_df = pd.DataFrame(total_pairs, columns=['indexA', 'indexB', 'label'])\n",
    "test_df = test_df.sample(frac=1).reset_index(drop=True)\n",
    "test_df.head()"
   ]
  },
  {
   "cell_type": "code",
   "execution_count": 19,
   "id": "5c7e5819",
   "metadata": {},
   "outputs": [],
   "source": [
    "orig_test_df = test_df.copy()  # saving for future tests"
   ]
  },
  {
   "cell_type": "code",
   "execution_count": 41,
   "id": "8c61a599",
   "metadata": {},
   "outputs": [],
   "source": [
    "test_df = orig_test_df.copy()"
   ]
  },
  {
   "cell_type": "code",
   "execution_count": 42,
   "id": "22c03d8d",
   "metadata": {},
   "outputs": [
    {
     "data": {
      "text/html": [
       "<div>\n",
       "<style scoped>\n",
       "    .dataframe tbody tr th:only-of-type {\n",
       "        vertical-align: middle;\n",
       "    }\n",
       "\n",
       "    .dataframe tbody tr th {\n",
       "        vertical-align: top;\n",
       "    }\n",
       "\n",
       "    .dataframe thead th {\n",
       "        text-align: right;\n",
       "    }\n",
       "</style>\n",
       "<table border=\"1\" class=\"dataframe\">\n",
       "  <thead>\n",
       "    <tr style=\"text-align: right;\">\n",
       "      <th></th>\n",
       "      <th>indexA</th>\n",
       "      <th>indexB</th>\n",
       "      <th>label</th>\n",
       "      <th>sim</th>\n",
       "      <th>dist</th>\n",
       "    </tr>\n",
       "  </thead>\n",
       "  <tbody>\n",
       "    <tr>\n",
       "      <th>0</th>\n",
       "      <td>25280</td>\n",
       "      <td>10540</td>\n",
       "      <td>0</td>\n",
       "      <td>-0.026333</td>\n",
       "      <td>10540.703125</td>\n",
       "    </tr>\n",
       "    <tr>\n",
       "      <th>1</th>\n",
       "      <td>18931</td>\n",
       "      <td>16418</td>\n",
       "      <td>1</td>\n",
       "      <td>0.999046</td>\n",
       "      <td>188.170654</td>\n",
       "    </tr>\n",
       "    <tr>\n",
       "      <th>2</th>\n",
       "      <td>26017</td>\n",
       "      <td>27118</td>\n",
       "      <td>1</td>\n",
       "      <td>0.995053</td>\n",
       "      <td>3348.709961</td>\n",
       "    </tr>\n",
       "    <tr>\n",
       "      <th>3</th>\n",
       "      <td>20307</td>\n",
       "      <td>23235</td>\n",
       "      <td>1</td>\n",
       "      <td>0.999769</td>\n",
       "      <td>900.548706</td>\n",
       "    </tr>\n",
       "    <tr>\n",
       "      <th>4</th>\n",
       "      <td>4332</td>\n",
       "      <td>13193</td>\n",
       "      <td>0</td>\n",
       "      <td>-0.022431</td>\n",
       "      <td>7599.547363</td>\n",
       "    </tr>\n",
       "    <tr>\n",
       "      <th>5</th>\n",
       "      <td>18024</td>\n",
       "      <td>7222</td>\n",
       "      <td>0</td>\n",
       "      <td>-0.048228</td>\n",
       "      <td>16457.455078</td>\n",
       "    </tr>\n",
       "    <tr>\n",
       "      <th>6</th>\n",
       "      <td>20921</td>\n",
       "      <td>22214</td>\n",
       "      <td>1</td>\n",
       "      <td>0.999765</td>\n",
       "      <td>377.615601</td>\n",
       "    </tr>\n",
       "    <tr>\n",
       "      <th>7</th>\n",
       "      <td>25507</td>\n",
       "      <td>5637</td>\n",
       "      <td>0</td>\n",
       "      <td>-0.045545</td>\n",
       "      <td>4569.943848</td>\n",
       "    </tr>\n",
       "    <tr>\n",
       "      <th>8</th>\n",
       "      <td>18425</td>\n",
       "      <td>15565</td>\n",
       "      <td>1</td>\n",
       "      <td>0.999045</td>\n",
       "      <td>11593.896484</td>\n",
       "    </tr>\n",
       "    <tr>\n",
       "      <th>9</th>\n",
       "      <td>24814</td>\n",
       "      <td>19667</td>\n",
       "      <td>0</td>\n",
       "      <td>-0.075711</td>\n",
       "      <td>7178.784668</td>\n",
       "    </tr>\n",
       "  </tbody>\n",
       "</table>\n",
       "</div>"
      ],
      "text/plain": [
       "   indexA  indexB  label       sim          dist\n",
       "0   25280   10540      0 -0.026333  10540.703125\n",
       "1   18931   16418      1  0.999046    188.170654\n",
       "2   26017   27118      1  0.995053   3348.709961\n",
       "3   20307   23235      1  0.999769    900.548706\n",
       "4    4332   13193      0 -0.022431   7599.547363\n",
       "5   18024    7222      0 -0.048228  16457.455078\n",
       "6   20921   22214      1  0.999765    377.615601\n",
       "7   25507    5637      0 -0.045545   4569.943848\n",
       "8   18425   15565      1  0.999045  11593.896484\n",
       "9   24814   19667      0 -0.075711   7178.784668"
      ]
     },
     "execution_count": 42,
     "metadata": {},
     "output_type": "execute_result"
    }
   ],
   "source": [
    "test_df['sim'] = test_df.apply(lambda x: (1 - spatial.distance.cosine(embeddings[int(x['indexA'])], embeddings[int(x['indexB'])])), axis=1)\n",
    "test_df['dist'] = test_df.apply(lambda x: spatial.distance.euclidean(embeddings[int(x['indexA'])], embeddings[int(x['indexB'])]), axis=1)\n",
    "test_df[:10]"
   ]
  },
  {
   "cell_type": "code",
   "execution_count": 43,
   "id": "44499cba",
   "metadata": {},
   "outputs": [
    {
     "data": {
      "text/plain": [
       "<AxesSubplot:title={'center':'sim'}, xlabel='label'>"
      ]
     },
     "execution_count": 43,
     "metadata": {},
     "output_type": "execute_result"
    },
    {
     "data": {
      "image/png": "[encoded data removed]",
      "text/plain": [
       "<Figure size 576x576 with 1 Axes>"
      ]
     },
     "metadata": {
      "needs_background": "light"
     },
     "output_type": "display_data"
    }
   ],
   "source": [
    "test_df.boxplot(column='sim', by='label', figsize=(8, 8))"
   ]
  },
  {
   "cell_type": "code",
   "execution_count": 44,
   "id": "714e7b08",
   "metadata": {},
   "outputs": [
    {
     "data": {
      "text/plain": [
       "<AxesSubplot:xlabel='label', ylabel='sim'>"
      ]
     },
     "execution_count": 44,
     "metadata": {},
     "output_type": "execute_result"
    },
    {
     "data": {
      "image/png": "[encoded data removed]",
      "text/plain": [
       "<Figure size 576x576 with 1 Axes>"
      ]
     },
     "metadata": {
      "needs_background": "light"
     },
     "output_type": "display_data"
    }
   ],
   "source": [
    "fig, ax = plt.subplots(figsize=(8, 8))\n",
    "sns.violinplot(ax=ax, x=\"label\", y=\"sim\", data=test_df)"
   ]
  },
  {
   "cell_type": "code",
   "execution_count": 45,
   "id": "431c0c6e",
   "metadata": {},
   "outputs": [
    {
     "data": {
      "text/plain": [
       "<AxesSubplot:title={'center':'dist'}, xlabel='label'>"
      ]
     },
     "execution_count": 45,
     "metadata": {},
     "output_type": "execute_result"
    },
    {
     "data": {
      "image/png": "[encoded data removed]",
      "text/plain": [
       "<Figure size 576x576 with 1 Axes>"
      ]
     },
     "metadata": {
      "needs_background": "light"
     },
     "output_type": "display_data"
    }
   ],
   "source": [
    "test_df.boxplot(column='dist', by='label', figsize=(8, 8))"
   ]
  },
  {
   "cell_type": "code",
   "execution_count": 46,
   "id": "07993621",
   "metadata": {},
   "outputs": [
    {
     "data": {
      "text/plain": [
       "<AxesSubplot:xlabel='label', ylabel='dist'>"
      ]
     },
     "execution_count": 46,
     "metadata": {},
     "output_type": "execute_result"
    },
    {
     "data": {
      "image/png": "[encoded data removed]",
      "text/plain": [
       "<Figure size 576x576 with 1 Axes>"
      ]
     },
     "metadata": {
      "needs_background": "light"
     },
     "output_type": "display_data"
    }
   ],
   "source": [
    "fig, ax = plt.subplots(figsize=(8, 8))\n",
    "sns.violinplot(ax=ax, x=\"label\", y=\"dist\", data=test_df)"
   ]
  },
  {
   "cell_type": "code",
   "execution_count": 48,
   "id": "6e293503",
   "metadata": {},
   "outputs": [
    {
     "data": {
      "text/html": [
       "<div>\n",
       "<style scoped>\n",
       "    .dataframe tbody tr th:only-of-type {\n",
       "        vertical-align: middle;\n",
       "    }\n",
       "\n",
       "    .dataframe tbody tr th {\n",
       "        vertical-align: top;\n",
       "    }\n",
       "\n",
       "    .dataframe thead th {\n",
       "        text-align: right;\n",
       "    }\n",
       "</style>\n",
       "<table border=\"1\" class=\"dataframe\">\n",
       "  <thead>\n",
       "    <tr style=\"text-align: right;\">\n",
       "      <th></th>\n",
       "      <th>indexA</th>\n",
       "      <th>indexB</th>\n",
       "      <th>label</th>\n",
       "      <th>sim</th>\n",
       "      <th>dist</th>\n",
       "      <th>preds</th>\n",
       "    </tr>\n",
       "  </thead>\n",
       "  <tbody>\n",
       "    <tr>\n",
       "      <th>0</th>\n",
       "      <td>25280</td>\n",
       "      <td>10540</td>\n",
       "      <td>0</td>\n",
       "      <td>-0.026333</td>\n",
       "      <td>10540.703125</td>\n",
       "      <td>0</td>\n",
       "    </tr>\n",
       "    <tr>\n",
       "      <th>1</th>\n",
       "      <td>18931</td>\n",
       "      <td>16418</td>\n",
       "      <td>1</td>\n",
       "      <td>0.999046</td>\n",
       "      <td>188.170654</td>\n",
       "      <td>1</td>\n",
       "    </tr>\n",
       "    <tr>\n",
       "      <th>2</th>\n",
       "      <td>26017</td>\n",
       "      <td>27118</td>\n",
       "      <td>1</td>\n",
       "      <td>0.995053</td>\n",
       "      <td>3348.709961</td>\n",
       "      <td>1</td>\n",
       "    </tr>\n",
       "    <tr>\n",
       "      <th>3</th>\n",
       "      <td>20307</td>\n",
       "      <td>23235</td>\n",
       "      <td>1</td>\n",
       "      <td>0.999769</td>\n",
       "      <td>900.548706</td>\n",
       "      <td>1</td>\n",
       "    </tr>\n",
       "    <tr>\n",
       "      <th>4</th>\n",
       "      <td>4332</td>\n",
       "      <td>13193</td>\n",
       "      <td>0</td>\n",
       "      <td>-0.022431</td>\n",
       "      <td>7599.547363</td>\n",
       "      <td>0</td>\n",
       "    </tr>\n",
       "  </tbody>\n",
       "</table>\n",
       "</div>"
      ],
      "text/plain": [
       "   indexA  indexB  label       sim          dist  preds\n",
       "0   25280   10540      0 -0.026333  10540.703125      0\n",
       "1   18931   16418      1  0.999046    188.170654      1\n",
       "2   26017   27118      1  0.995053   3348.709961      1\n",
       "3   20307   23235      1  0.999769    900.548706      1\n",
       "4    4332   13193      0 -0.022431   7599.547363      0"
      ]
     },
     "execution_count": 48,
     "metadata": {},
     "output_type": "execute_result"
    }
   ],
   "source": [
    "threshold = 0.5\n",
    "test_df['preds'] = test_df.apply(lambda x: int(x['sim']>=threshold), axis=1)\n",
    "test_df.head()"
   ]
  },
  {
   "cell_type": "code",
   "execution_count": 49,
   "id": "3afae364",
   "metadata": {},
   "outputs": [
    {
     "name": "stdout",
     "output_type": "stream",
     "text": [
      "[[10000     0]\n",
      " [    0 10000]]\n",
      "\n",
      "\n",
      "              precision    recall  f1-score   support\n",
      "\n",
      "           0       1.00      1.00      1.00     10000\n",
      "           1       1.00      1.00      1.00     10000\n",
      "\n",
      "    accuracy                           1.00     20000\n",
      "   macro avg       1.00      1.00      1.00     20000\n",
      "weighted avg       1.00      1.00      1.00     20000\n",
      "\n"
     ]
    }
   ],
   "source": [
    "print(confusion_matrix(test_df.label, test_df.preds))\n",
    "print('\\n')\n",
    "print(classification_report(test_df.label, test_df.preds))"
   ]
  },
  {
   "cell_type": "code",
   "execution_count": 29,
   "id": "cbac9a43",
   "metadata": {},
   "outputs": [],
   "source": [
    "test_df.to_csv('geo_emb_siam_classification.csv', index=False)"
   ]
  },
  {
   "cell_type": "code",
   "execution_count": null,
   "id": "ec461a63",
   "metadata": {},
   "outputs": [],
   "source": []
  },
  {
   "cell_type": "markdown",
   "id": "acc9ccb8",
   "metadata": {},
   "source": [
    "# Visualizing Embeddings"
   ]
  },
  {
   "cell_type": "code",
   "execution_count": 26,
   "id": "40f028fb",
   "metadata": {},
   "outputs": [
    {
     "data": {
      "image/png": "[encoded data removed]",
      "text/plain": [
       "<Figure size 432x288 with 1 Axes>"
      ]
     },
     "metadata": {
      "needs_background": "light"
     },
     "output_type": "display_data"
    }
   ],
   "source": [
    "pca = PCA(n_components=2)\n",
    "pca_results=pca.fit_transform(embeddings)\n",
    "x=[i[0] for i in pca_results]\n",
    "y=[i[1] for i in pca_results]\n",
    "x_andesite=x[:5000]\n",
    "y_andesite=y[:5000]\n",
    "x_gneiss=x[5000:10000]\n",
    "y_gneiss=y[5000:10000]\n",
    "x_marble=x[10000:14998]\n",
    "y_marble=y[10000:14998]\n",
    "x_quartzite=x[14998:19998]\n",
    "y_quartzite=y[14998:19998]\n",
    "x_rhyolite=x[19998:24998]\n",
    "y_rhyolite=y[19998:24998]\n",
    "x_schist=x[24998:29998]\n",
    "y_schist=y[24998:29998]\n",
    "plt.scatter(x_andesite,y_andesite,c=\"r\", label=\"Andesite\")\n",
    "plt.scatter(x_gneiss,y_gneiss,c=\"g\", label=\"Gneiss\")\n",
    "plt.scatter(x_marble,y_marble,c=\"b\", label=\"Marble\")\n",
    "plt.scatter(x_quartzite,y_quartzite,c=\"#8c564b\", label=\"Quartzite\")\n",
    "plt.scatter(x_rhyolite,y_rhyolite,c=\"#9467bd\", label=\"Rhyolite\")\n",
    "plt.scatter(x_schist,y_schist,c=\"#ff7f0e\", label=\"Schist\")\n",
    "plt.legend()\n",
    "plt.show()"
   ]
  },
  {
   "cell_type": "code",
   "execution_count": null,
   "id": "b309336e",
   "metadata": {},
   "outputs": [],
   "source": []
  },
  {
   "cell_type": "markdown",
   "id": "ce1b500a",
   "metadata": {},
   "source": [
    "# Comparing against Autoencoder Embeddings"
   ]
  },
  {
   "cell_type": "code",
   "execution_count": 27,
   "id": "23afc402",
   "metadata": {},
   "outputs": [
    {
     "data": {
      "text/plain": [
       "(29998, 576)"
      ]
     },
     "execution_count": 27,
     "metadata": {},
     "output_type": "execute_result"
    }
   ],
   "source": [
    "auto_embeddings = np.load(\"../encoders/geological_embed.npy\")\n",
    "auto_embeddings.shape"
   ]
  },
  {
   "cell_type": "code",
   "execution_count": 28,
   "id": "1b6ac9e5",
   "metadata": {},
   "outputs": [
    {
     "data": {
      "text/plain": [
       "array([0.        , 0.        , 0.        , 0.        , 0.        ,\n",
       "       0.        , 0.        , 0.        , 0.        , 0.92324466,\n",
       "       1.1035817 , 1.3151283 , 0.9489004 , 1.1111138 , 1.2720572 ,\n",
       "       0.80796504, 0.9424423 , 1.0349318 , 1.3441896 , 1.5864834 ,\n",
       "       1.7067717 , 1.2645333 , 1.3477683 , 1.7268443 , 1.2927625 ,\n",
       "       1.2797947 , 1.7001997 , 0.        , 0.        , 0.        ,\n",
       "       0.        , 0.        , 0.        , 0.        , 0.        ,\n",
       "       0.        , 0.96878463, 0.64284813, 1.1162584 , 0.6268837 ,\n",
       "       0.32760963, 0.79526585, 0.87082607, 0.5991248 , 0.6714915 ,\n",
       "       0.        , 0.        , 0.        , 0.        , 0.        ,\n",
       "       0.        , 0.        , 0.        , 0.        , 0.6625147 ,\n",
       "       0.80393696, 0.7179037 , 0.68854386, 0.8637062 , 0.81698364,\n",
       "       0.6469826 , 0.7459212 , 0.68027836, 0.9746281 , 0.6957492 ,\n",
       "       0.93295795, 0.77836794, 0.5969037 , 0.8751661 , 0.8170896 ,\n",
       "       0.66565174, 0.6613794 , 0.        , 0.        , 0.        ,\n",
       "       0.        , 0.        , 0.        , 0.        , 0.        ,\n",
       "       0.        , 0.        , 0.        , 0.        , 0.        ,\n",
       "       0.        , 0.        , 0.        , 0.        , 0.        ,\n",
       "       0.        , 0.        , 0.        , 0.        , 0.        ,\n",
       "       0.        , 0.        , 0.        , 0.        , 0.9900292 ,\n",
       "       1.0726748 , 1.2276938 , 0.9511323 , 1.0245845 , 1.2433197 ,\n",
       "       0.91396844, 0.8482863 , 1.0173988 , 0.        , 0.        ,\n",
       "       0.        , 0.        , 0.        , 0.        , 0.        ,\n",
       "       0.        , 0.        , 0.        , 0.        , 0.        ,\n",
       "       0.        , 0.        , 0.        , 0.        , 0.        ,\n",
       "       0.        , 0.6206064 , 0.6915344 , 0.77745533, 0.68956417,\n",
       "       0.7641241 , 0.90059406, 0.6321517 , 0.70899093, 0.67702   ,\n",
       "       0.806784  , 0.92907244, 1.0211345 , 0.7983623 , 0.87177646,\n",
       "       1.0892365 , 0.7518987 , 0.7584158 , 0.94892657, 0.        ,\n",
       "       0.        , 0.        , 0.        , 0.        , 0.        ,\n",
       "       0.        , 0.        , 0.        , 1.1574881 , 1.3251659 ,\n",
       "       1.3474238 , 1.2220317 , 1.3574711 , 1.4528675 , 1.1017628 ,\n",
       "       1.1686177 , 1.2573509 , 1.2076637 , 1.209496  , 1.3680719 ,\n",
       "       1.1973062 , 0.9052556 , 1.445131  , 1.2061769 , 0.87280667,\n",
       "       1.2776095 , 0.8878741 , 0.9064696 , 0.7803012 , 0.6117942 ,\n",
       "       0.6189366 , 0.7220557 , 0.77718806, 0.73774076, 0.9113414 ,\n",
       "       1.4377842 , 1.5070908 , 1.6090916 , 1.3909117 , 1.4216487 ,\n",
       "       1.4739501 , 1.3698431 , 1.3517797 , 1.3206636 , 0.32486168,\n",
       "       0.5031775 , 0.35035646, 0.35625133, 0.20665061, 0.76985586,\n",
       "       0.5351289 , 0.24480698, 0.8685612 , 0.        , 0.        ,\n",
       "       0.        , 0.        , 0.        , 0.        , 0.        ,\n",
       "       0.        , 0.        , 0.        , 0.        , 0.        ,\n",
       "       0.        , 0.        , 0.        , 0.        , 0.        ,\n",
       "       0.        , 0.        , 0.        , 0.        , 0.        ,\n",
       "       0.        , 0.        , 0.        , 0.        , 0.        ,\n",
       "       1.230083  , 1.3967696 , 1.3502282 , 1.2463809 , 1.3266784 ,\n",
       "       1.400334  , 1.2150234 , 1.2332537 , 1.349744  , 1.2065423 ,\n",
       "       1.2690564 , 1.2372038 , 1.0948144 , 1.0686238 , 1.1168841 ,\n",
       "       1.0615324 , 0.93346715, 1.0766587 , 0.7717419 , 0.8411346 ,\n",
       "       1.0131493 , 0.8863343 , 0.8602626 , 0.9711086 , 0.87763834,\n",
       "       0.87539405, 0.7890679 , 0.        , 0.        , 0.        ,\n",
       "       0.        , 0.        , 0.        , 0.        , 0.        ,\n",
       "       0.        , 1.0291831 , 0.99596506, 1.4717588 , 1.0484257 ,\n",
       "       0.97522277, 1.4825816 , 0.9866138 , 0.9639672 , 1.3372872 ,\n",
       "       0.        , 0.        , 0.        , 0.        , 0.        ,\n",
       "       0.        , 0.        , 0.        , 0.        , 0.8809407 ,\n",
       "       1.0165592 , 1.105358  , 0.8504451 , 0.99317217, 1.0599166 ,\n",
       "       0.85776246, 0.989155  , 0.990653  , 0.        , 0.        ,\n",
       "       0.        , 0.        , 0.        , 0.        , 0.        ,\n",
       "       0.        , 0.        , 1.3501375 , 1.2956582 , 1.8553548 ,\n",
       "       1.4544421 , 1.3697615 , 1.8653994 , 1.3422517 , 1.2643657 ,\n",
       "       1.6806887 , 0.85522044, 0.8787299 , 1.08834   , 0.88133675,\n",
       "       0.8803794 , 1.2089537 , 0.8389725 , 0.80120695, 1.1013188 ,\n",
       "       0.72814876, 0.6617041 , 0.8015143 , 0.66153467, 0.57256526,\n",
       "       0.81253844, 0.562865  , 0.63964224, 0.7690749 , 1.1844707 ,\n",
       "       1.3101038 , 1.3537401 , 1.2089773 , 1.2698636 , 1.3647599 ,\n",
       "       1.1810858 , 1.1945022 , 1.1708839 , 0.        , 0.        ,\n",
       "       0.        , 0.        , 0.        , 0.        , 0.        ,\n",
       "       0.        , 0.        , 0.9639446 , 1.0222149 , 1.316176  ,\n",
       "       0.85320044, 0.87448406, 1.2772588 , 0.9710441 , 0.88237655,\n",
       "       1.1391202 , 0.        , 0.        , 0.        , 0.        ,\n",
       "       0.        , 0.        , 0.        , 0.        , 0.        ,\n",
       "       1.4835422 , 1.5958908 , 1.5574036 , 1.3269926 , 1.3107638 ,\n",
       "       1.3459371 , 1.3632665 , 1.2537261 , 1.44034   , 0.6615956 ,\n",
       "       0.7000786 , 1.0830739 , 0.66608405, 0.7414581 , 0.9397698 ,\n",
       "       0.6039453 , 0.65382683, 0.8030802 , 0.        , 0.        ,\n",
       "       0.        , 0.        , 0.        , 0.        , 0.        ,\n",
       "       0.        , 0.        , 0.        , 0.        , 0.        ,\n",
       "       0.        , 0.        , 0.        , 0.        , 0.        ,\n",
       "       0.        , 1.057407  , 1.1749582 , 1.1388667 , 1.0045574 ,\n",
       "       1.0040954 , 1.1710801 , 1.042156  , 0.98146033, 1.1810014 ,\n",
       "       0.5618288 , 0.73140293, 0.74053943, 0.51477623, 0.6618801 ,\n",
       "       0.62476325, 0.43796316, 0.57915044, 0.53862405, 0.8936391 ,\n",
       "       0.95596397, 1.116968  , 0.9244096 , 0.856479  , 1.101885  ,\n",
       "       0.98114336, 0.8410639 , 0.9606339 , 1.3334763 , 1.5278629 ,\n",
       "       1.7322379 , 1.4204197 , 1.549103  , 1.7826331 , 1.3360696 ,\n",
       "       1.3734921 , 1.5733634 , 1.0350095 , 1.0026923 , 0.970366  ,\n",
       "       0.9464151 , 0.8861191 , 0.9801819 , 0.97389525, 0.8930997 ,\n",
       "       1.046318  , 0.08913931, 0.07227927, 0.6088756 , 0.        ,\n",
       "       0.05628771, 0.28224084, 0.        , 0.        , 0.16267511,\n",
       "       0.        , 0.        , 0.        , 0.        , 0.        ,\n",
       "       0.        , 0.        , 0.        , 0.        , 0.9876738 ,\n",
       "       0.9816921 , 1.0209428 , 0.99368036, 0.96740925, 1.0384386 ,\n",
       "       0.96241987, 0.87485546, 0.9135573 , 0.59200954, 0.75917673,\n",
       "       0.7079103 , 0.6237008 , 0.72561604, 0.7118331 , 0.58120316,\n",
       "       0.56876785, 0.5982245 , 0.        , 0.        , 0.        ,\n",
       "       0.        , 0.        , 0.        , 0.        , 0.        ,\n",
       "       0.        , 0.        , 0.        , 0.        , 0.        ,\n",
       "       0.        , 0.        , 0.        , 0.        , 0.        ,\n",
       "       0.7413345 , 0.4732822 , 0.8140412 , 0.67975515, 0.45469028,\n",
       "       0.69786644, 0.7097002 , 0.5600964 , 0.7240622 , 0.89286584,\n",
       "       0.5176143 , 1.3078802 , 0.7784204 , 0.48611075, 1.1122351 ,\n",
       "       0.8280404 , 0.70376676, 1.0907075 , 1.0017465 , 0.88305634,\n",
       "       1.3727238 , 0.90173304, 0.84643304, 1.1844522 , 0.92020595,\n",
       "       0.8402184 , 1.1947457 , 0.        , 0.        , 0.        ,\n",
       "       0.        , 0.        , 0.        , 0.        , 0.        ,\n",
       "       0.        , 0.88366264, 0.91437185, 1.1283089 , 0.7694633 ,\n",
       "       0.67579377, 1.0534726 , 0.6871546 , 0.6646981 , 0.7918016 ,\n",
       "       0.        , 0.        , 0.        , 0.        , 0.        ,\n",
       "       0.        , 0.        , 0.        , 0.        , 0.        ,\n",
       "       0.        , 0.        , 0.        , 0.        , 0.        ,\n",
       "       0.        , 0.        , 0.        , 0.        , 0.        ,\n",
       "       0.        , 0.        , 0.        , 0.        , 0.        ,\n",
       "       0.        , 0.        , 0.96267134, 1.0275121 , 1.0559877 ,\n",
       "       0.99918646, 1.004307  , 1.0196415 , 0.9381355 , 0.90479535,\n",
       "       0.80979663], dtype=float32)"
      ]
     },
     "execution_count": 28,
     "metadata": {},
     "output_type": "execute_result"
    }
   ],
   "source": [
    "auto_embeddings[0]"
   ]
  },
  {
   "cell_type": "code",
   "execution_count": 30,
   "id": "8917ffa3",
   "metadata": {},
   "outputs": [],
   "source": [
    "test_df = orig_test_df.copy()"
   ]
  },
  {
   "cell_type": "code",
   "execution_count": 31,
   "id": "77d3de7d",
   "metadata": {},
   "outputs": [
    {
     "data": {
      "text/html": [
       "<div>\n",
       "<style scoped>\n",
       "    .dataframe tbody tr th:only-of-type {\n",
       "        vertical-align: middle;\n",
       "    }\n",
       "\n",
       "    .dataframe tbody tr th {\n",
       "        vertical-align: top;\n",
       "    }\n",
       "\n",
       "    .dataframe thead th {\n",
       "        text-align: right;\n",
       "    }\n",
       "</style>\n",
       "<table border=\"1\" class=\"dataframe\">\n",
       "  <thead>\n",
       "    <tr style=\"text-align: right;\">\n",
       "      <th></th>\n",
       "      <th>indexA</th>\n",
       "      <th>indexB</th>\n",
       "      <th>label</th>\n",
       "      <th>sim</th>\n",
       "      <th>dist</th>\n",
       "    </tr>\n",
       "  </thead>\n",
       "  <tbody>\n",
       "    <tr>\n",
       "      <th>0</th>\n",
       "      <td>25280</td>\n",
       "      <td>10540</td>\n",
       "      <td>0</td>\n",
       "      <td>0.960581</td>\n",
       "      <td>5.793905</td>\n",
       "    </tr>\n",
       "    <tr>\n",
       "      <th>1</th>\n",
       "      <td>18931</td>\n",
       "      <td>16418</td>\n",
       "      <td>1</td>\n",
       "      <td>0.997090</td>\n",
       "      <td>2.118713</td>\n",
       "    </tr>\n",
       "    <tr>\n",
       "      <th>2</th>\n",
       "      <td>26017</td>\n",
       "      <td>27118</td>\n",
       "      <td>1</td>\n",
       "      <td>0.984009</td>\n",
       "      <td>6.803957</td>\n",
       "    </tr>\n",
       "    <tr>\n",
       "      <th>3</th>\n",
       "      <td>20307</td>\n",
       "      <td>23235</td>\n",
       "      <td>1</td>\n",
       "      <td>0.946300</td>\n",
       "      <td>5.618042</td>\n",
       "    </tr>\n",
       "    <tr>\n",
       "      <th>4</th>\n",
       "      <td>4332</td>\n",
       "      <td>13193</td>\n",
       "      <td>0</td>\n",
       "      <td>0.902101</td>\n",
       "      <td>9.567781</td>\n",
       "    </tr>\n",
       "    <tr>\n",
       "      <th>5</th>\n",
       "      <td>18024</td>\n",
       "      <td>7222</td>\n",
       "      <td>0</td>\n",
       "      <td>0.974690</td>\n",
       "      <td>10.960176</td>\n",
       "    </tr>\n",
       "    <tr>\n",
       "      <th>6</th>\n",
       "      <td>20921</td>\n",
       "      <td>22214</td>\n",
       "      <td>1</td>\n",
       "      <td>0.975442</td>\n",
       "      <td>4.264272</td>\n",
       "    </tr>\n",
       "    <tr>\n",
       "      <th>7</th>\n",
       "      <td>25507</td>\n",
       "      <td>5637</td>\n",
       "      <td>0</td>\n",
       "      <td>0.972225</td>\n",
       "      <td>7.890961</td>\n",
       "    </tr>\n",
       "    <tr>\n",
       "      <th>8</th>\n",
       "      <td>18425</td>\n",
       "      <td>15565</td>\n",
       "      <td>1</td>\n",
       "      <td>0.986125</td>\n",
       "      <td>4.474632</td>\n",
       "    </tr>\n",
       "    <tr>\n",
       "      <th>9</th>\n",
       "      <td>24814</td>\n",
       "      <td>19667</td>\n",
       "      <td>0</td>\n",
       "      <td>0.926913</td>\n",
       "      <td>10.567428</td>\n",
       "    </tr>\n",
       "  </tbody>\n",
       "</table>\n",
       "</div>"
      ],
      "text/plain": [
       "   indexA  indexB  label       sim       dist\n",
       "0   25280   10540      0  0.960581   5.793905\n",
       "1   18931   16418      1  0.997090   2.118713\n",
       "2   26017   27118      1  0.984009   6.803957\n",
       "3   20307   23235      1  0.946300   5.618042\n",
       "4    4332   13193      0  0.902101   9.567781\n",
       "5   18024    7222      0  0.974690  10.960176\n",
       "6   20921   22214      1  0.975442   4.264272\n",
       "7   25507    5637      0  0.972225   7.890961\n",
       "8   18425   15565      1  0.986125   4.474632\n",
       "9   24814   19667      0  0.926913  10.567428"
      ]
     },
     "execution_count": 31,
     "metadata": {},
     "output_type": "execute_result"
    }
   ],
   "source": [
    "test_df['sim'] = test_df.apply(lambda x: (1 - spatial.distance.cosine(auto_embeddings[int(x['indexA'])], auto_embeddings[int(x['indexB'])])), axis=1)\n",
    "test_df['dist'] = test_df.apply(lambda x: spatial.distance.euclidean(auto_embeddings[int(x['indexA'])], auto_embeddings[int(x['indexB'])]), axis=1)\n",
    "test_df[:10]"
   ]
  },
  {
   "cell_type": "code",
   "execution_count": 32,
   "id": "b69387ba",
   "metadata": {},
   "outputs": [
    {
     "data": {
      "text/plain": [
       "<AxesSubplot:title={'center':'sim'}, xlabel='label'>"
      ]
     },
     "execution_count": 32,
     "metadata": {},
     "output_type": "execute_result"
    },
    {
     "data": {
      "image/png": "[encoded data removed]",
      "text/plain": [
       "<Figure size 576x576 with 1 Axes>"
      ]
     },
     "metadata": {
      "needs_background": "light"
     },
     "output_type": "display_data"
    }
   ],
   "source": [
    "test_df.boxplot(column='sim', by='label', figsize=(8, 8))"
   ]
  },
  {
   "cell_type": "code",
   "execution_count": 34,
   "id": "f1a5409f",
   "metadata": {},
   "outputs": [
    {
     "data": {
      "text/plain": [
       "<AxesSubplot:xlabel='label', ylabel='sim'>"
      ]
     },
     "execution_count": 34,
     "metadata": {},
     "output_type": "execute_result"
    },
    {
     "data": {
      "image/png": "[encoded data removed]",
      "text/plain": [
       "<Figure size 576x576 with 1 Axes>"
      ]
     },
     "metadata": {
      "needs_background": "light"
     },
     "output_type": "display_data"
    }
   ],
   "source": [
    "fig, ax = plt.subplots(figsize=(8, 8))\n",
    "sns.violinplot(ax=ax, x=\"label\", y=\"sim\", data=test_df)"
   ]
  },
  {
   "cell_type": "code",
   "execution_count": 33,
   "id": "c86c45d3",
   "metadata": {},
   "outputs": [
    {
     "data": {
      "text/plain": [
       "<AxesSubplot:title={'center':'dist'}, xlabel='label'>"
      ]
     },
     "execution_count": 33,
     "metadata": {},
     "output_type": "execute_result"
    },
    {
     "data": {
      "image/png": "[encoded data removed]",
      "text/plain": [
       "<Figure size 576x576 with 1 Axes>"
      ]
     },
     "metadata": {
      "needs_background": "light"
     },
     "output_type": "display_data"
    }
   ],
   "source": [
    "test_df.boxplot(column='dist', by='label', figsize=(8, 8))"
   ]
  },
  {
   "cell_type": "code",
   "execution_count": 35,
   "id": "60c6c4b8",
   "metadata": {},
   "outputs": [
    {
     "data": {
      "text/plain": [
       "<AxesSubplot:xlabel='label', ylabel='dist'>"
      ]
     },
     "execution_count": 35,
     "metadata": {},
     "output_type": "execute_result"
    },
    {
     "data": {
      "image/png": "[encoded data removed]",
      "text/plain": [
       "<Figure size 576x576 with 1 Axes>"
      ]
     },
     "metadata": {
      "needs_background": "light"
     },
     "output_type": "display_data"
    }
   ],
   "source": [
    "fig, ax = plt.subplots(figsize=(8, 8))\n",
    "sns.violinplot(ax=ax, x=\"label\", y=\"dist\", data=test_df)"
   ]
  },
  {
   "cell_type": "code",
   "execution_count": 36,
   "id": "9b0c0a96",
   "metadata": {},
   "outputs": [
    {
     "data": {
      "text/html": [
       "<div>\n",
       "<style scoped>\n",
       "    .dataframe tbody tr th:only-of-type {\n",
       "        vertical-align: middle;\n",
       "    }\n",
       "\n",
       "    .dataframe tbody tr th {\n",
       "        vertical-align: top;\n",
       "    }\n",
       "\n",
       "    .dataframe thead th {\n",
       "        text-align: right;\n",
       "    }\n",
       "</style>\n",
       "<table border=\"1\" class=\"dataframe\">\n",
       "  <thead>\n",
       "    <tr style=\"text-align: right;\">\n",
       "      <th></th>\n",
       "      <th>indexA</th>\n",
       "      <th>indexB</th>\n",
       "      <th>label</th>\n",
       "      <th>sim</th>\n",
       "      <th>dist</th>\n",
       "      <th>preds</th>\n",
       "    </tr>\n",
       "  </thead>\n",
       "  <tbody>\n",
       "    <tr>\n",
       "      <th>0</th>\n",
       "      <td>25280</td>\n",
       "      <td>10540</td>\n",
       "      <td>0</td>\n",
       "      <td>0.960581</td>\n",
       "      <td>5.793905</td>\n",
       "      <td>1</td>\n",
       "    </tr>\n",
       "    <tr>\n",
       "      <th>1</th>\n",
       "      <td>18931</td>\n",
       "      <td>16418</td>\n",
       "      <td>1</td>\n",
       "      <td>0.997090</td>\n",
       "      <td>2.118713</td>\n",
       "      <td>1</td>\n",
       "    </tr>\n",
       "    <tr>\n",
       "      <th>2</th>\n",
       "      <td>26017</td>\n",
       "      <td>27118</td>\n",
       "      <td>1</td>\n",
       "      <td>0.984009</td>\n",
       "      <td>6.803957</td>\n",
       "      <td>1</td>\n",
       "    </tr>\n",
       "    <tr>\n",
       "      <th>3</th>\n",
       "      <td>20307</td>\n",
       "      <td>23235</td>\n",
       "      <td>1</td>\n",
       "      <td>0.946300</td>\n",
       "      <td>5.618042</td>\n",
       "      <td>0</td>\n",
       "    </tr>\n",
       "    <tr>\n",
       "      <th>4</th>\n",
       "      <td>4332</td>\n",
       "      <td>13193</td>\n",
       "      <td>0</td>\n",
       "      <td>0.902101</td>\n",
       "      <td>9.567781</td>\n",
       "      <td>0</td>\n",
       "    </tr>\n",
       "  </tbody>\n",
       "</table>\n",
       "</div>"
      ],
      "text/plain": [
       "   indexA  indexB  label       sim      dist  preds\n",
       "0   25280   10540      0  0.960581  5.793905      1\n",
       "1   18931   16418      1  0.997090  2.118713      1\n",
       "2   26017   27118      1  0.984009  6.803957      1\n",
       "3   20307   23235      1  0.946300  5.618042      0\n",
       "4    4332   13193      0  0.902101  9.567781      0"
      ]
     },
     "execution_count": 36,
     "metadata": {},
     "output_type": "execute_result"
    }
   ],
   "source": [
    "test_df['preds'] = test_df.apply(lambda x: int((x['sim']>=0.95) and(x['dist']<=7)), axis=1)\n",
    "test_df.head()"
   ]
  },
  {
   "cell_type": "code",
   "execution_count": 38,
   "id": "0ffb9910",
   "metadata": {},
   "outputs": [
    {
     "name": "stdout",
     "output_type": "stream",
     "text": [
      "[[8784 1216]\n",
      " [4716 5284]]\n",
      "\n",
      "\n",
      "              precision    recall  f1-score   support\n",
      "\n",
      "           0       0.65      0.88      0.75     10000\n",
      "           1       0.81      0.53      0.64     10000\n",
      "\n",
      "    accuracy                           0.70     20000\n",
      "   macro avg       0.73      0.70      0.69     20000\n",
      "weighted avg       0.73      0.70      0.69     20000\n",
      "\n"
     ]
    }
   ],
   "source": [
    "print(confusion_matrix(test_df.label, test_df.preds))\n",
    "print('\\n')\n",
    "print(classification_report(test_df.label, test_df.preds))"
   ]
  },
  {
   "cell_type": "code",
   "execution_count": 39,
   "id": "2fc5feb2",
   "metadata": {},
   "outputs": [],
   "source": [
    "test_df.to_csv('geo_emb_autoenc_classification.csv', index=False)"
   ]
  },
  {
   "cell_type": "code",
   "execution_count": 40,
   "id": "c9cf460d",
   "metadata": {},
   "outputs": [
    {
     "data": {
      "image/png": "[encoded data removed]",
      "text/plain": [
       "<Figure size 432x288 with 1 Axes>"
      ]
     },
     "metadata": {
      "needs_background": "light"
     },
     "output_type": "display_data"
    }
   ],
   "source": [
    "pca = PCA(n_components=2)\n",
    "pca_results=pca.fit_transform(auto_embeddings)\n",
    "x=[i[0] for i in pca_results]\n",
    "y=[i[1] for i in pca_results]\n",
    "x_andesite=x[:5000]\n",
    "y_andesite=y[:5000]\n",
    "x_gneiss=x[5000:10000]\n",
    "y_gneiss=y[5000:10000]\n",
    "x_marble=x[10000:14998]\n",
    "y_marble=y[10000:14998]\n",
    "x_quartzite=x[14998:19998]\n",
    "y_quartzite=y[14998:19998]\n",
    "x_rhyolite=x[19998:24998]\n",
    "y_rhyolite=y[19998:24998]\n",
    "x_schist=x[24998:29998]\n",
    "y_schist=y[24998:29998]\n",
    "plt.scatter(x_andesite,y_andesite,c=\"r\", label=\"Andesite\")\n",
    "plt.scatter(x_gneiss,y_gneiss,c=\"g\", label=\"Gneiss\")\n",
    "plt.scatter(x_marble,y_marble,c=\"b\", label=\"Marble\")\n",
    "plt.scatter(x_quartzite,y_quartzite,c=\"#8c564b\", label=\"Quartzite\")\n",
    "plt.scatter(x_rhyolite,y_rhyolite,c=\"#9467bd\", label=\"Rhyolite\")\n",
    "plt.scatter(x_schist,y_schist,c=\"#ff7f0e\", label=\"Schist\")\n",
    "plt.legend()\n",
    "plt.show()"
   ]
  },
  {
   "cell_type": "code",
   "execution_count": null,
   "id": "0fa7d8ce",
   "metadata": {},
   "outputs": [],
   "source": []
  },
  {
   "cell_type": "markdown",
   "id": "e1290fc4",
   "metadata": {},
   "source": [
    "# Testing similarity search"
   ]
  },
  {
   "cell_type": "code",
   "execution_count": 42,
   "id": "0ba6afab",
   "metadata": {},
   "outputs": [],
   "source": [
    "import torch\n",
    "import torch.nn as nn\n",
    "import torchvision\n",
    "import torchvision.transforms as T\n",
    "from PIL import Image"
   ]
  },
  {
   "cell_type": "code",
   "execution_count": 43,
   "id": "1ee5f193",
   "metadata": {},
   "outputs": [
    {
     "name": "stdout",
     "output_type": "stream",
     "text": [
      "cuda\n"
     ]
    }
   ],
   "source": [
    "device = torch.device(\"cuda\" if torch.cuda.is_available() else \"cpu\")\n",
    "print(device)"
   ]
  },
  {
   "cell_type": "code",
   "execution_count": 44,
   "id": "ab6c8a24",
   "metadata": {
    "scrolled": true
   },
   "outputs": [
    {
     "data": {
      "text/plain": [
       "SiameseNetwork(\n",
       "  (cnn1): Sequential(\n",
       "    (0): ReflectionPad2d((1, 1, 1, 1))\n",
       "    (1): Conv2d(3, 4, kernel_size=(3, 3), stride=(1, 1))\n",
       "    (2): ReLU(inplace=True)\n",
       "    (3): BatchNorm2d(4, eps=1e-05, momentum=0.1, affine=True, track_running_stats=True)\n",
       "    (4): Dropout2d(p=0.2, inplace=False)\n",
       "    (5): ReflectionPad2d((1, 1, 1, 1))\n",
       "    (6): Conv2d(4, 8, kernel_size=(3, 3), stride=(1, 1))\n",
       "    (7): ReLU(inplace=True)\n",
       "    (8): BatchNorm2d(8, eps=1e-05, momentum=0.1, affine=True, track_running_stats=True)\n",
       "    (9): Dropout2d(p=0.2, inplace=False)\n",
       "    (10): ReflectionPad2d((1, 1, 1, 1))\n",
       "    (11): Conv2d(8, 8, kernel_size=(3, 3), stride=(1, 1))\n",
       "    (12): ReLU(inplace=True)\n",
       "    (13): BatchNorm2d(8, eps=1e-05, momentum=0.1, affine=True, track_running_stats=True)\n",
       "    (14): Dropout2d(p=0.2, inplace=False)\n",
       "  )\n",
       "  (fc1): Sequential(\n",
       "    (0): Linear(in_features=6272, out_features=500, bias=True)\n",
       "    (1): ReLU(inplace=True)\n",
       "    (2): Linear(in_features=500, out_features=200, bias=True)\n",
       "    (3): ReLU(inplace=True)\n",
       "    (4): Linear(in_features=200, out_features=50, bias=True)\n",
       "  )\n",
       ")"
      ]
     },
     "execution_count": 44,
     "metadata": {},
     "output_type": "execute_result"
    }
   ],
   "source": [
    "with open('best_model.pt', 'rb') as f:\n",
    "    model = torch.load(f, map_location=device)\n",
    "model.eval()"
   ]
  },
  {
   "cell_type": "code",
   "execution_count": 51,
   "id": "4cd5a9a7",
   "metadata": {},
   "outputs": [],
   "source": [
    "def get_top_k_idx(new_emb, embeddings, k):\n",
    "    similarities = np.array([(1 - spatial.distance.cosine(new_emb, embeddings[i])) for i in range(len(embeddings))])\n",
    "    # getting top k indexes in O(n + klogk) instead of sorting the whole list in O(nlogn)\n",
    "    topk_idx = np.argpartition(similarities, -k)[-k:]\n",
    "    topk_idx = topk_idx[np.argsort(similarities[topk_idx])[::-1]]\n",
    "    return topk_idx"
   ]
  },
  {
   "cell_type": "code",
   "execution_count": 49,
   "id": "6ffd02b5",
   "metadata": {},
   "outputs": [],
   "source": [
    "def similarity_search(img_path, embeddings, k, model=model, device=device):\n",
    "    start = time.time()\n",
    "    img = Image.open(img_path).convert(\"RGB\")\n",
    "    img = T.ToTensor()(img)\n",
    "    img = img.unsqueeze(0)  # adds dimension at 0 to represent batch size of 1\n",
    "    with torch.no_grad():\n",
    "        img = img.to(device)\n",
    "        v1, v2 = model(img, img)\n",
    "    temp_embedding = v1.cpu().detach().numpy()[0]\n",
    "    topk_idx = get_top_k_idx(temp_embedding, embeddings, k)\n",
    "    elapsed = time.time() - start\n",
    "    return topk_idx, elapsed"
   ]
  },
  {
   "cell_type": "code",
   "execution_count": 52,
   "id": "f324b001",
   "metadata": {},
   "outputs": [
    {
     "data": {
      "text/plain": [
       "(array([   0, 4064, 2854, 3166, 1793, 4700, 2458, 3089, 1666, 4735],\n",
       "       dtype=int64),\n",
       " 0.961430549621582)"
      ]
     },
     "execution_count": 52,
     "metadata": {},
     "output_type": "execute_result"
    }
   ],
   "source": [
    "similarity_search(image_locs['location'][0], embeddings, 10)"
   ]
  },
  {
   "cell_type": "code",
   "execution_count": 54,
   "id": "8b0b2b37",
   "metadata": {
    "scrolled": true
   },
   "outputs": [
    {
     "name": "stdout",
     "output_type": "stream",
     "text": [
      "0.9817793369293213\n",
      "0.9781107902526855\n",
      "0.9753921031951904\n",
      "0.9764001369476318\n",
      "0.9723515510559082\n",
      "0.9771084785461426\n",
      "0.9630546569824219\n",
      "0.9799563884735107\n",
      "0.9770407676696777\n",
      "0.9739923477172852\n",
      "1.002992868423462\n",
      "0.9571022987365723\n",
      "0.9778938293457031\n",
      "0.9730050563812256\n",
      "0.9680895805358887\n",
      "0.9625697135925293\n",
      "0.9783079624176025\n",
      "0.9800076484680176\n",
      "0.9576103687286377\n",
      "0.9737191200256348\n",
      "0.9836938381195068\n",
      "0.9779951572418213\n",
      "0.9647645950317383\n",
      "0.9793455600738525\n",
      "0.9798614978790283\n",
      "0.9710440635681152\n",
      "0.978644609451294\n",
      "0.97491455078125\n",
      "0.9473931789398193\n",
      "1.0243847370147705\n",
      "1.0362293720245361\n",
      "1.065669298171997\n",
      "1.0572466850280762\n",
      "1.0666534900665283\n",
      "1.020087718963623\n",
      "1.028648853302002\n",
      "1.0332393646240234\n",
      "1.0468385219573975\n",
      "1.12125563621521\n",
      "1.0163426399230957\n",
      "0.9823758602142334\n",
      "0.9660303592681885\n",
      "0.979189395904541\n",
      "0.9728407859802246\n",
      "0.9810068607330322\n",
      "0.9624271392822266\n",
      "0.9634582996368408\n",
      "0.9733977317810059\n",
      "0.9755852222442627\n",
      "0.9823713302612305\n",
      "0.9664111137390137\n",
      "0.9675073623657227\n",
      "0.9733967781066895\n",
      "0.9604582786560059\n",
      "0.9820163249969482\n",
      "0.9730441570281982\n",
      "0.9873602390289307\n",
      "0.990642786026001\n",
      "0.9719560146331787\n",
      "0.9729087352752686\n",
      "0.9659311771392822\n",
      "0.9871864318847656\n",
      "0.9760081768035889\n",
      "0.9830095767974854\n",
      "0.9640145301818848\n",
      "0.9769806861877441\n",
      "0.9769997596740723\n",
      "0.9630072116851807\n",
      "0.9698584079742432\n",
      "0.9654054641723633\n",
      "0.9676694869995117\n",
      "0.9713547229766846\n",
      "0.966411828994751\n",
      "0.9843683242797852\n",
      "1.0402190685272217\n",
      "1.0203039646148682\n",
      "1.0286734104156494\n",
      "1.0262246131896973\n",
      "1.0164155960083008\n",
      "1.021848440170288\n",
      "1.0382239818572998\n",
      "1.0020620822906494\n",
      "1.0157296657562256\n",
      "1.032527208328247\n",
      "1.0427587032318115\n",
      "1.0101044178009033\n",
      "0.9846904277801514\n",
      "0.991480827331543\n",
      "0.9825947284698486\n",
      "1.0060276985168457\n",
      "0.972036600112915\n",
      "0.9881856441497803\n",
      "0.9824061393737793\n",
      "0.9873418807983398\n",
      "0.9534533023834229\n",
      "0.972510814666748\n",
      "0.9849739074707031\n",
      "0.9641590118408203\n",
      "0.9815366268157959\n",
      "0.9703786373138428\n",
      "--------------------------------------------------\n",
      "Average time taken: 0.9888019633293151\n"
     ]
    }
   ],
   "source": [
    "test_timings = []\n",
    "testing_images=[]\n",
    "for i in range(0,100):\n",
    "    random_index=random.randint(0, len(image_locs)-1)\n",
    "    testing_images.append(image_locs['location'][random_index])\n",
    "\n",
    "for i in range(len(testing_images)):\n",
    "    _, time_taken=similarity_search(image_locs['location'][i], embeddings, 10)\n",
    "    print(time_taken)\n",
    "    test_timings.append(time_taken)\n",
    "\n",
    "print('-'*50)\n",
    "print(\"Average time taken:\", np.mean(test_timings))"
   ]
  },
  {
   "cell_type": "code",
   "execution_count": null,
   "id": "36a81901",
   "metadata": {},
   "outputs": [],
   "source": []
  }
 ],
 "metadata": {
  "kernelspec": {
   "display_name": "Python 3",
   "language": "python",
   "name": "python3"
  },
  "language_info": {
   "codemirror_mode": {
    "name": "ipython",
    "version": 3
   },
   "file_extension": ".py",
   "mimetype": "text/x-python",
   "name": "python",
   "nbconvert_exporter": "python",
   "pygments_lexer": "ipython3",
   "version": "3.8.8"
  }
 },
 "nbformat": 4,
 "nbformat_minor": 5
}
