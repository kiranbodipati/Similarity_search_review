{
 "cells": [
  {
   "cell_type": "code",
   "execution_count": 47,
   "id": "38fea909",
   "metadata": {},
   "outputs": [],
   "source": [
    "import numpy as np\n",
    "import pandas as pd\n",
    "from scipy import spatial\n",
    "import random\n",
    "import matplotlib.pyplot as plt\n",
    "import seaborn as sns\n",
    "import time\n",
    "\n",
    "from sklearn.metrics import confusion_matrix\n",
    "from sklearn.metrics import classification_report\n",
    "from sklearn.decomposition import PCA"
   ]
  },
  {
   "cell_type": "code",
   "execution_count": 3,
   "id": "290ab852",
   "metadata": {},
   "outputs": [
    {
     "data": {
      "text/html": [
       "<div>\n",
       "<style scoped>\n",
       "    .dataframe tbody tr th:only-of-type {\n",
       "        vertical-align: middle;\n",
       "    }\n",
       "\n",
       "    .dataframe tbody tr th {\n",
       "        vertical-align: top;\n",
       "    }\n",
       "\n",
       "    .dataframe thead th {\n",
       "        text-align: right;\n",
       "    }\n",
       "</style>\n",
       "<table border=\"1\" class=\"dataframe\">\n",
       "  <thead>\n",
       "    <tr style=\"text-align: right;\">\n",
       "      <th></th>\n",
       "      <th>location</th>\n",
       "      <th>label</th>\n",
       "    </tr>\n",
       "  </thead>\n",
       "  <tbody>\n",
       "    <tr>\n",
       "      <th>0</th>\n",
       "      <td>../geological_similarity\\andesite\\012L6.jpg</td>\n",
       "      <td>0</td>\n",
       "    </tr>\n",
       "    <tr>\n",
       "      <th>1</th>\n",
       "      <td>../geological_similarity\\andesite\\01ITR.jpg</td>\n",
       "      <td>0</td>\n",
       "    </tr>\n",
       "    <tr>\n",
       "      <th>2</th>\n",
       "      <td>../geological_similarity\\andesite\\01LQQ.jpg</td>\n",
       "      <td>0</td>\n",
       "    </tr>\n",
       "    <tr>\n",
       "      <th>3</th>\n",
       "      <td>../geological_similarity\\andesite\\0230P.jpg</td>\n",
       "      <td>0</td>\n",
       "    </tr>\n",
       "    <tr>\n",
       "      <th>4</th>\n",
       "      <td>../geological_similarity\\andesite\\02741.jpg</td>\n",
       "      <td>0</td>\n",
       "    </tr>\n",
       "  </tbody>\n",
       "</table>\n",
       "</div>"
      ],
      "text/plain": [
       "                                      location  label\n",
       "0  ../geological_similarity\\andesite\\012L6.jpg      0\n",
       "1  ../geological_similarity\\andesite\\01ITR.jpg      0\n",
       "2  ../geological_similarity\\andesite\\01LQQ.jpg      0\n",
       "3  ../geological_similarity\\andesite\\0230P.jpg      0\n",
       "4  ../geological_similarity\\andesite\\02741.jpg      0"
      ]
     },
     "execution_count": 3,
     "metadata": {},
     "output_type": "execute_result"
    }
   ],
   "source": [
    "image_locs = pd.read_csv('geo_image_locations.csv')\n",
    "image_locs.head()"
   ]
  },
  {
   "cell_type": "code",
   "execution_count": 4,
   "id": "f784aec2",
   "metadata": {},
   "outputs": [
    {
     "data": {
      "text/plain": [
       "(29998, 50)"
      ]
     },
     "execution_count": 4,
     "metadata": {},
     "output_type": "execute_result"
    }
   ],
   "source": [
    "embeddings = np.load(\"geo_siamese_embeds.npy\")\n",
    "embeddings.shape"
   ]
  },
  {
   "cell_type": "code",
   "execution_count": 5,
   "id": "2ec8fc60",
   "metadata": {},
   "outputs": [
    {
     "data": {
      "text/plain": [
       "array([  904.29456  ,   131.86935  ,    -6.560202 ,    -1.8538573,\n",
       "          40.24828  ,   551.6593   ,   500.05997  ,   150.38301  ,\n",
       "        -514.0599   ,   281.09772  ,   826.24896  ,   256.21228  ,\n",
       "         219.105    ,  -288.60437  ,   585.09357  ,  -126.90682  ,\n",
       "         255.22958  ,   -40.375412 ,   143.65877  ,   119.090416 ,\n",
       "        -184.0937   ,    59.40103  ,    30.300495 ,   427.7617   ,\n",
       "         122.07479  ,  -266.16373  ,   -45.379    ,   686.51465  ,\n",
       "         238.9694   ,   188.52693  ,   322.23862  ,  -109.87884  ,\n",
       "          10.448791 ,   343.5501   ,   727.57196  ,   569.9228   ,\n",
       "        -346.09323  ,   407.59903  ,  -282.3198   , -1009.6946   ,\n",
       "        -316.68015  ,  -469.92825  ,   188.51903  ,  -639.3193   ,\n",
       "         190.08571  ,    89.05893  ,  -322.31918  ,  -220.85052  ,\n",
       "        -806.314    ,  -242.79004  ], dtype=float32)"
      ]
     },
     "execution_count": 5,
     "metadata": {},
     "output_type": "execute_result"
    }
   ],
   "source": [
    "embeddings[0]"
   ]
  },
  {
   "cell_type": "code",
   "execution_count": 6,
   "id": "77b44b09",
   "metadata": {},
   "outputs": [
    {
     "data": {
      "text/html": [
       "<div>\n",
       "<style scoped>\n",
       "    .dataframe tbody tr th:only-of-type {\n",
       "        vertical-align: middle;\n",
       "    }\n",
       "\n",
       "    .dataframe tbody tr th {\n",
       "        vertical-align: top;\n",
       "    }\n",
       "\n",
       "    .dataframe thead th {\n",
       "        text-align: right;\n",
       "    }\n",
       "</style>\n",
       "<table border=\"1\" class=\"dataframe\">\n",
       "  <thead>\n",
       "    <tr style=\"text-align: right;\">\n",
       "      <th></th>\n",
       "      <th>indexA</th>\n",
       "      <th>indexB</th>\n",
       "      <th>label</th>\n",
       "    </tr>\n",
       "  </thead>\n",
       "  <tbody>\n",
       "    <tr>\n",
       "      <th>0</th>\n",
       "      <td>16781</td>\n",
       "      <td>18001</td>\n",
       "      <td>1</td>\n",
       "    </tr>\n",
       "    <tr>\n",
       "      <th>1</th>\n",
       "      <td>161</td>\n",
       "      <td>7203</td>\n",
       "      <td>0</td>\n",
       "    </tr>\n",
       "    <tr>\n",
       "      <th>2</th>\n",
       "      <td>9072</td>\n",
       "      <td>9064</td>\n",
       "      <td>1</td>\n",
       "    </tr>\n",
       "    <tr>\n",
       "      <th>3</th>\n",
       "      <td>26779</td>\n",
       "      <td>25477</td>\n",
       "      <td>1</td>\n",
       "    </tr>\n",
       "    <tr>\n",
       "      <th>4</th>\n",
       "      <td>5832</td>\n",
       "      <td>4308</td>\n",
       "      <td>0</td>\n",
       "    </tr>\n",
       "  </tbody>\n",
       "</table>\n",
       "</div>"
      ],
      "text/plain": [
       "   indexA  indexB  label\n",
       "0   16781   18001      1\n",
       "1     161    7203      0\n",
       "2    9072    9064      1\n",
       "3   26779   25477      1\n",
       "4    5832    4308      0"
      ]
     },
     "execution_count": 6,
     "metadata": {},
     "output_type": "execute_result"
    }
   ],
   "source": [
    "# test_df with 50/50 downsampling\n",
    "NUM_ITERS = 10000  # number of iterations to run - dataset size will be 2x this\n",
    "total_pairs = []\n",
    "for k in range(NUM_ITERS):\n",
    "    i = random.randint(0, len(image_locs)-1)\n",
    "    # looping to find matching pair\n",
    "    while True:\n",
    "        j = random.randint(0, len(image_locs)-1)\n",
    "        if image_locs['label'][i]==image_locs['label'][j] and i!=j:\n",
    "            total_pairs.append([i, j, 1])\n",
    "            break\n",
    "    # looping to find mismatched pair\n",
    "    while True:\n",
    "        j = random.randint(0, len(image_locs)-1)\n",
    "        if image_locs['label'][i]!=image_locs['label'][j]:\n",
    "            total_pairs.append([i, j, 0])\n",
    "            break\n",
    "test_df = pd.DataFrame(total_pairs, columns=['indexA', 'indexB', 'label'])\n",
    "test_df = test_df.sample(frac=1).reset_index(drop=True)\n",
    "test_df.head()"
   ]
  },
  {
   "cell_type": "code",
   "execution_count": 23,
   "id": "22c03d8d",
   "metadata": {},
   "outputs": [
    {
     "data": {
      "text/html": [
       "<div>\n",
       "<style scoped>\n",
       "    .dataframe tbody tr th:only-of-type {\n",
       "        vertical-align: middle;\n",
       "    }\n",
       "\n",
       "    .dataframe tbody tr th {\n",
       "        vertical-align: top;\n",
       "    }\n",
       "\n",
       "    .dataframe thead th {\n",
       "        text-align: right;\n",
       "    }\n",
       "</style>\n",
       "<table border=\"1\" class=\"dataframe\">\n",
       "  <thead>\n",
       "    <tr style=\"text-align: right;\">\n",
       "      <th></th>\n",
       "      <th>indexA</th>\n",
       "      <th>indexB</th>\n",
       "      <th>label</th>\n",
       "      <th>sim</th>\n",
       "      <th>dist</th>\n",
       "    </tr>\n",
       "  </thead>\n",
       "  <tbody>\n",
       "    <tr>\n",
       "      <th>0</th>\n",
       "      <td>16781</td>\n",
       "      <td>18001</td>\n",
       "      <td>1</td>\n",
       "      <td>0.997752</td>\n",
       "      <td>1917.292847</td>\n",
       "    </tr>\n",
       "    <tr>\n",
       "      <th>1</th>\n",
       "      <td>161</td>\n",
       "      <td>7203</td>\n",
       "      <td>0</td>\n",
       "      <td>-0.031361</td>\n",
       "      <td>7499.234863</td>\n",
       "    </tr>\n",
       "    <tr>\n",
       "      <th>2</th>\n",
       "      <td>9072</td>\n",
       "      <td>9064</td>\n",
       "      <td>1</td>\n",
       "      <td>0.999772</td>\n",
       "      <td>3969.956543</td>\n",
       "    </tr>\n",
       "    <tr>\n",
       "      <th>3</th>\n",
       "      <td>26779</td>\n",
       "      <td>25477</td>\n",
       "      <td>1</td>\n",
       "      <td>0.999592</td>\n",
       "      <td>1861.972290</td>\n",
       "    </tr>\n",
       "    <tr>\n",
       "      <th>4</th>\n",
       "      <td>5832</td>\n",
       "      <td>4308</td>\n",
       "      <td>0</td>\n",
       "      <td>-0.021486</td>\n",
       "      <td>4637.646484</td>\n",
       "    </tr>\n",
       "    <tr>\n",
       "      <th>5</th>\n",
       "      <td>21136</td>\n",
       "      <td>20838</td>\n",
       "      <td>1</td>\n",
       "      <td>0.999809</td>\n",
       "      <td>208.932068</td>\n",
       "    </tr>\n",
       "    <tr>\n",
       "      <th>6</th>\n",
       "      <td>28583</td>\n",
       "      <td>25359</td>\n",
       "      <td>1</td>\n",
       "      <td>0.999696</td>\n",
       "      <td>2215.176270</td>\n",
       "    </tr>\n",
       "    <tr>\n",
       "      <th>7</th>\n",
       "      <td>7453</td>\n",
       "      <td>48</td>\n",
       "      <td>0</td>\n",
       "      <td>-0.022794</td>\n",
       "      <td>8733.091797</td>\n",
       "    </tr>\n",
       "    <tr>\n",
       "      <th>8</th>\n",
       "      <td>12967</td>\n",
       "      <td>14388</td>\n",
       "      <td>1</td>\n",
       "      <td>0.999943</td>\n",
       "      <td>304.657471</td>\n",
       "    </tr>\n",
       "    <tr>\n",
       "      <th>9</th>\n",
       "      <td>16845</td>\n",
       "      <td>19151</td>\n",
       "      <td>1</td>\n",
       "      <td>0.999654</td>\n",
       "      <td>8783.197266</td>\n",
       "    </tr>\n",
       "  </tbody>\n",
       "</table>\n",
       "</div>"
      ],
      "text/plain": [
       "   indexA  indexB  label       sim         dist\n",
       "0   16781   18001      1  0.997752  1917.292847\n",
       "1     161    7203      0 -0.031361  7499.234863\n",
       "2    9072    9064      1  0.999772  3969.956543\n",
       "3   26779   25477      1  0.999592  1861.972290\n",
       "4    5832    4308      0 -0.021486  4637.646484\n",
       "5   21136   20838      1  0.999809   208.932068\n",
       "6   28583   25359      1  0.999696  2215.176270\n",
       "7    7453      48      0 -0.022794  8733.091797\n",
       "8   12967   14388      1  0.999943   304.657471\n",
       "9   16845   19151      1  0.999654  8783.197266"
      ]
     },
     "execution_count": 23,
     "metadata": {},
     "output_type": "execute_result"
    }
   ],
   "source": [
    "test_df['sim'] = test_df.apply(lambda x: (1 - spatial.distance.cosine(embeddings[int(x['indexA'])], embeddings[int(x['indexB'])])), axis=1)\n",
    "test_df['dist'] = test_df.apply(lambda x: spatial.distance.euclidean(embeddings[int(x['indexA'])], embeddings[int(x['indexB'])]), axis=1)\n",
    "test_df[:10]"
   ]
  },
  {
   "cell_type": "code",
   "execution_count": 24,
   "id": "44499cba",
   "metadata": {},
   "outputs": [
    {
     "data": {
      "text/plain": [
       "<AxesSubplot:title={'center':'sim'}, xlabel='label'>"
      ]
     },
     "execution_count": 24,
     "metadata": {},
     "output_type": "execute_result"
    },
    {
     "data": {
      "image/png": "[encoded data removed]",
      "text/plain": [
       "<Figure size 576x576 with 1 Axes>"
      ]
     },
     "metadata": {
      "needs_background": "light"
     },
     "output_type": "display_data"
    }
   ],
   "source": [
    "test_df.boxplot(column='sim', by='label', figsize=(8, 8))"
   ]
  },
  {
   "cell_type": "code",
   "execution_count": 30,
   "id": "714e7b08",
   "metadata": {},
   "outputs": [
    {
     "data": {
      "text/plain": [
       "<AxesSubplot:xlabel='label', ylabel='sim'>"
      ]
     },
     "execution_count": 30,
     "metadata": {},
     "output_type": "execute_result"
    },
    {
     "data": {
      "image/png": "[encoded data removed]",
      "text/plain": [
       "<Figure size 576x576 with 1 Axes>"
      ]
     },
     "metadata": {
      "needs_background": "light"
     },
     "output_type": "display_data"
    }
   ],
   "source": [
    "fig, ax = plt.subplots(figsize=(8, 8))\n",
    "sns.violinplot(ax=ax, x=\"label\", y=\"sim\", data=test_df)"
   ]
  },
  {
   "cell_type": "code",
   "execution_count": 31,
   "id": "6e293503",
   "metadata": {},
   "outputs": [
    {
     "data": {
      "text/html": [
       "<div>\n",
       "<style scoped>\n",
       "    .dataframe tbody tr th:only-of-type {\n",
       "        vertical-align: middle;\n",
       "    }\n",
       "\n",
       "    .dataframe tbody tr th {\n",
       "        vertical-align: top;\n",
       "    }\n",
       "\n",
       "    .dataframe thead th {\n",
       "        text-align: right;\n",
       "    }\n",
       "</style>\n",
       "<table border=\"1\" class=\"dataframe\">\n",
       "  <thead>\n",
       "    <tr style=\"text-align: right;\">\n",
       "      <th></th>\n",
       "      <th>indexA</th>\n",
       "      <th>indexB</th>\n",
       "      <th>label</th>\n",
       "      <th>sim</th>\n",
       "      <th>dist</th>\n",
       "      <th>preds</th>\n",
       "    </tr>\n",
       "  </thead>\n",
       "  <tbody>\n",
       "    <tr>\n",
       "      <th>0</th>\n",
       "      <td>16781</td>\n",
       "      <td>18001</td>\n",
       "      <td>1</td>\n",
       "      <td>0.997752</td>\n",
       "      <td>1917.292847</td>\n",
       "      <td>1</td>\n",
       "    </tr>\n",
       "    <tr>\n",
       "      <th>1</th>\n",
       "      <td>161</td>\n",
       "      <td>7203</td>\n",
       "      <td>0</td>\n",
       "      <td>-0.031361</td>\n",
       "      <td>7499.234863</td>\n",
       "      <td>0</td>\n",
       "    </tr>\n",
       "    <tr>\n",
       "      <th>2</th>\n",
       "      <td>9072</td>\n",
       "      <td>9064</td>\n",
       "      <td>1</td>\n",
       "      <td>0.999772</td>\n",
       "      <td>3969.956543</td>\n",
       "      <td>1</td>\n",
       "    </tr>\n",
       "    <tr>\n",
       "      <th>3</th>\n",
       "      <td>26779</td>\n",
       "      <td>25477</td>\n",
       "      <td>1</td>\n",
       "      <td>0.999592</td>\n",
       "      <td>1861.972290</td>\n",
       "      <td>1</td>\n",
       "    </tr>\n",
       "    <tr>\n",
       "      <th>4</th>\n",
       "      <td>5832</td>\n",
       "      <td>4308</td>\n",
       "      <td>0</td>\n",
       "      <td>-0.021486</td>\n",
       "      <td>4637.646484</td>\n",
       "      <td>0</td>\n",
       "    </tr>\n",
       "  </tbody>\n",
       "</table>\n",
       "</div>"
      ],
      "text/plain": [
       "   indexA  indexB  label       sim         dist  preds\n",
       "0   16781   18001      1  0.997752  1917.292847      1\n",
       "1     161    7203      0 -0.031361  7499.234863      0\n",
       "2    9072    9064      1  0.999772  3969.956543      1\n",
       "3   26779   25477      1  0.999592  1861.972290      1\n",
       "4    5832    4308      0 -0.021486  4637.646484      0"
      ]
     },
     "execution_count": 31,
     "metadata": {},
     "output_type": "execute_result"
    }
   ],
   "source": [
    "threshold = 0.4\n",
    "test_df['preds'] = test_df.apply(lambda x: int(x['sim']>=threshold), axis=1)\n",
    "test_df.head()"
   ]
  },
  {
   "cell_type": "code",
   "execution_count": 34,
   "id": "5579384c",
   "metadata": {},
   "outputs": [
    {
     "name": "stdout",
     "output_type": "stream",
     "text": [
      "[[9998    2]\n",
      " [   3 9997]]\n"
     ]
    }
   ],
   "source": [
    "print(confusion_matrix(test_df.label, test_df.preds))"
   ]
  },
  {
   "cell_type": "code",
   "execution_count": 35,
   "id": "10919abf",
   "metadata": {},
   "outputs": [
    {
     "name": "stdout",
     "output_type": "stream",
     "text": [
      "              precision    recall  f1-score   support\n",
      "\n",
      "           0       1.00      1.00      1.00     10000\n",
      "           1       1.00      1.00      1.00     10000\n",
      "\n",
      "    accuracy                           1.00     20000\n",
      "   macro avg       1.00      1.00      1.00     20000\n",
      "weighted avg       1.00      1.00      1.00     20000\n",
      "\n"
     ]
    }
   ],
   "source": [
    "print(classification_report(test_df.label, test_df.preds))"
   ]
  },
  {
   "cell_type": "code",
   "execution_count": null,
   "id": "ec461a63",
   "metadata": {},
   "outputs": [],
   "source": []
  },
  {
   "cell_type": "markdown",
   "id": "acc9ccb8",
   "metadata": {},
   "source": [
    "# Visualizing Embeddings"
   ]
  },
  {
   "cell_type": "code",
   "execution_count": 38,
   "id": "40f028fb",
   "metadata": {},
   "outputs": [
    {
     "data": {
      "image/png": "[encoded data removed]",
      "text/plain": [
       "<Figure size 432x288 with 1 Axes>"
      ]
     },
     "metadata": {
      "needs_background": "light"
     },
     "output_type": "display_data"
    }
   ],
   "source": [
    "pca = PCA(n_components=2)\n",
    "pca_results=pca.fit_transform(embeddings)\n",
    "x=[i[0] for i in pca_results]\n",
    "y=[i[1] for i in pca_results]\n",
    "x_andesite=x[:5000]\n",
    "y_andesite=y[:5000]\n",
    "x_gneiss=x[5000:10000]\n",
    "y_gneiss=y[5000:10000]\n",
    "x_marble=x[10000:14998]\n",
    "y_marble=y[10000:14998]\n",
    "x_quartzite=x[14998:19998]\n",
    "y_quartzite=y[14998:19998]\n",
    "x_rhyolite=x[19998:24998]\n",
    "y_rhyolite=y[19998:24998]\n",
    "x_schist=x[24998:29998]\n",
    "y_schist=y[24998:29998]\n",
    "plt.scatter(x_andesite,y_andesite,c=\"r\")\n",
    "plt.scatter(x_gneiss,y_gneiss,c=\"g\")\n",
    "plt.scatter(x_marble,y_marble,c=\"b\")\n",
    "plt.scatter(x_quartzite,y_quartzite,c=\"#8c564b\")\n",
    "plt.scatter(x_rhyolite,y_rhyolite,c=\"#9467bd\")\n",
    "plt.scatter(x_schist,y_schist,c=\"#ff7f0e\")\n",
    "plt.show()"
   ]
  },
  {
   "cell_type": "code",
   "execution_count": null,
   "id": "b309336e",
   "metadata": {},
   "outputs": [],
   "source": []
  },
  {
   "cell_type": "markdown",
   "id": "e1290fc4",
   "metadata": {},
   "source": [
    "# Testing similarity search"
   ]
  },
  {
   "cell_type": "code",
   "execution_count": 42,
   "id": "0ba6afab",
   "metadata": {},
   "outputs": [],
   "source": [
    "import torch\n",
    "import torch.nn as nn\n",
    "import torchvision\n",
    "import torchvision.transforms as T\n",
    "from PIL import Image"
   ]
  },
  {
   "cell_type": "code",
   "execution_count": 43,
   "id": "1ee5f193",
   "metadata": {},
   "outputs": [
    {
     "name": "stdout",
     "output_type": "stream",
     "text": [
      "cuda\n"
     ]
    }
   ],
   "source": [
    "device = torch.device(\"cuda\" if torch.cuda.is_available() else \"cpu\")\n",
    "print(device)"
   ]
  },
  {
   "cell_type": "code",
   "execution_count": 44,
   "id": "ab6c8a24",
   "metadata": {
    "scrolled": true
   },
   "outputs": [
    {
     "data": {
      "text/plain": [
       "SiameseNetwork(\n",
       "  (cnn1): Sequential(\n",
       "    (0): ReflectionPad2d((1, 1, 1, 1))\n",
       "    (1): Conv2d(3, 4, kernel_size=(3, 3), stride=(1, 1))\n",
       "    (2): ReLU(inplace=True)\n",
       "    (3): BatchNorm2d(4, eps=1e-05, momentum=0.1, affine=True, track_running_stats=True)\n",
       "    (4): Dropout2d(p=0.2, inplace=False)\n",
       "    (5): ReflectionPad2d((1, 1, 1, 1))\n",
       "    (6): Conv2d(4, 8, kernel_size=(3, 3), stride=(1, 1))\n",
       "    (7): ReLU(inplace=True)\n",
       "    (8): BatchNorm2d(8, eps=1e-05, momentum=0.1, affine=True, track_running_stats=True)\n",
       "    (9): Dropout2d(p=0.2, inplace=False)\n",
       "    (10): ReflectionPad2d((1, 1, 1, 1))\n",
       "    (11): Conv2d(8, 8, kernel_size=(3, 3), stride=(1, 1))\n",
       "    (12): ReLU(inplace=True)\n",
       "    (13): BatchNorm2d(8, eps=1e-05, momentum=0.1, affine=True, track_running_stats=True)\n",
       "    (14): Dropout2d(p=0.2, inplace=False)\n",
       "  )\n",
       "  (fc1): Sequential(\n",
       "    (0): Linear(in_features=6272, out_features=500, bias=True)\n",
       "    (1): ReLU(inplace=True)\n",
       "    (2): Linear(in_features=500, out_features=200, bias=True)\n",
       "    (3): ReLU(inplace=True)\n",
       "    (4): Linear(in_features=200, out_features=50, bias=True)\n",
       "  )\n",
       ")"
      ]
     },
     "execution_count": 44,
     "metadata": {},
     "output_type": "execute_result"
    }
   ],
   "source": [
    "with open('best_model.pt', 'rb') as f:\n",
    "    model = torch.load(f, map_location=device)\n",
    "model.eval()"
   ]
  },
  {
   "cell_type": "code",
   "execution_count": 51,
   "id": "4cd5a9a7",
   "metadata": {},
   "outputs": [],
   "source": [
    "def get_top_k_idx(new_emb, embeddings, k):\n",
    "    similarities = np.array([(1 - spatial.distance.cosine(new_emb, embeddings[i])) for i in range(len(embeddings))])\n",
    "    # getting top k indexes in O(n + klogk) instead of sorting the whole list in O(nlogn)\n",
    "    topk_idx = np.argpartition(similarities, -k)[-k:]\n",
    "    topk_idx = topk_idx[np.argsort(similarities[topk_idx])[::-1]]\n",
    "    return topk_idx"
   ]
  },
  {
   "cell_type": "code",
   "execution_count": 49,
   "id": "6ffd02b5",
   "metadata": {},
   "outputs": [],
   "source": [
    "def similarity_search(img_path, embeddings, k, model=model, device=device):\n",
    "    start = time.time()\n",
    "    img = Image.open(img_path).convert(\"RGB\")\n",
    "    img = T.ToTensor()(img)\n",
    "    img = img.unsqueeze(0)  # adds dimension at 0 to represent batch size of 1\n",
    "    with torch.no_grad():\n",
    "        img = img.to(device)\n",
    "        v1, v2 = model(img, img)\n",
    "    temp_embedding = v1.cpu().detach().numpy()[0]\n",
    "    topk_idx = get_top_k_idx(temp_embedding, embeddings, k)\n",
    "    elapsed = time.time() - start\n",
    "    return topk_idx, elapsed"
   ]
  },
  {
   "cell_type": "code",
   "execution_count": 52,
   "id": "f324b001",
   "metadata": {},
   "outputs": [
    {
     "data": {
      "text/plain": [
       "(array([   0, 4064, 2854, 3166, 1793, 4700, 2458, 3089, 1666, 4735],\n",
       "       dtype=int64),\n",
       " 0.961430549621582)"
      ]
     },
     "execution_count": 52,
     "metadata": {},
     "output_type": "execute_result"
    }
   ],
   "source": [
    "similarity_search(image_locs['location'][0], embeddings, 10)"
   ]
  },
  {
   "cell_type": "code",
   "execution_count": 54,
   "id": "8b0b2b37",
   "metadata": {
    "scrolled": true
   },
   "outputs": [
    {
     "name": "stdout",
     "output_type": "stream",
     "text": [
      "0.9817793369293213\n",
      "0.9781107902526855\n",
      "0.9753921031951904\n",
      "0.9764001369476318\n",
      "0.9723515510559082\n",
      "0.9771084785461426\n",
      "0.9630546569824219\n",
      "0.9799563884735107\n",
      "0.9770407676696777\n",
      "0.9739923477172852\n",
      "1.002992868423462\n",
      "0.9571022987365723\n",
      "0.9778938293457031\n",
      "0.9730050563812256\n",
      "0.9680895805358887\n",
      "0.9625697135925293\n",
      "0.9783079624176025\n",
      "0.9800076484680176\n",
      "0.9576103687286377\n",
      "0.9737191200256348\n",
      "0.9836938381195068\n",
      "0.9779951572418213\n",
      "0.9647645950317383\n",
      "0.9793455600738525\n",
      "0.9798614978790283\n",
      "0.9710440635681152\n",
      "0.978644609451294\n",
      "0.97491455078125\n",
      "0.9473931789398193\n",
      "1.0243847370147705\n",
      "1.0362293720245361\n",
      "1.065669298171997\n",
      "1.0572466850280762\n",
      "1.0666534900665283\n",
      "1.020087718963623\n",
      "1.028648853302002\n",
      "1.0332393646240234\n",
      "1.0468385219573975\n",
      "1.12125563621521\n",
      "1.0163426399230957\n",
      "0.9823758602142334\n",
      "0.9660303592681885\n",
      "0.979189395904541\n",
      "0.9728407859802246\n",
      "0.9810068607330322\n",
      "0.9624271392822266\n",
      "0.9634582996368408\n",
      "0.9733977317810059\n",
      "0.9755852222442627\n",
      "0.9823713302612305\n",
      "0.9664111137390137\n",
      "0.9675073623657227\n",
      "0.9733967781066895\n",
      "0.9604582786560059\n",
      "0.9820163249969482\n",
      "0.9730441570281982\n",
      "0.9873602390289307\n",
      "0.990642786026001\n",
      "0.9719560146331787\n",
      "0.9729087352752686\n",
      "0.9659311771392822\n",
      "0.9871864318847656\n",
      "0.9760081768035889\n",
      "0.9830095767974854\n",
      "0.9640145301818848\n",
      "0.9769806861877441\n",
      "0.9769997596740723\n",
      "0.9630072116851807\n",
      "0.9698584079742432\n",
      "0.9654054641723633\n",
      "0.9676694869995117\n",
      "0.9713547229766846\n",
      "0.966411828994751\n",
      "0.9843683242797852\n",
      "1.0402190685272217\n",
      "1.0203039646148682\n",
      "1.0286734104156494\n",
      "1.0262246131896973\n",
      "1.0164155960083008\n",
      "1.021848440170288\n",
      "1.0382239818572998\n",
      "1.0020620822906494\n",
      "1.0157296657562256\n",
      "1.032527208328247\n",
      "1.0427587032318115\n",
      "1.0101044178009033\n",
      "0.9846904277801514\n",
      "0.991480827331543\n",
      "0.9825947284698486\n",
      "1.0060276985168457\n",
      "0.972036600112915\n",
      "0.9881856441497803\n",
      "0.9824061393737793\n",
      "0.9873418807983398\n",
      "0.9534533023834229\n",
      "0.972510814666748\n",
      "0.9849739074707031\n",
      "0.9641590118408203\n",
      "0.9815366268157959\n",
      "0.9703786373138428\n",
      "--------------------------------------------------\n",
      "Average time taken: 0.9888019633293151\n"
     ]
    }
   ],
   "source": [
    "test_timings = []\n",
    "testing_images=[]\n",
    "for i in range(0,100):\n",
    "    random_index=random.randint(0, len(image_locs)-1)\n",
    "    testing_images.append(image_locs['location'][random_index])\n",
    "\n",
    "for i in range(len(testing_images)):\n",
    "    _, time_taken=similarity_search(image_locs['location'][i], embeddings, 10)\n",
    "    print(time_taken)\n",
    "    test_timings.append(time_taken)\n",
    "\n",
    "print('-'*50)\n",
    "print(\"Average time taken:\", np.mean(test_timings))"
   ]
  },
  {
   "cell_type": "code",
   "execution_count": null,
   "id": "36a81901",
   "metadata": {},
   "outputs": [],
   "source": []
  }
 ],
 "metadata": {
  "kernelspec": {
   "display_name": "Python 3",
   "language": "python",
   "name": "python3"
  },
  "language_info": {
   "codemirror_mode": {
    "name": "ipython",
    "version": 3
   },
   "file_extension": ".py",
   "mimetype": "text/x-python",
   "name": "python",
   "nbconvert_exporter": "python",
   "pygments_lexer": "ipython3",
   "version": "3.8.8"
  }
 },
 "nbformat": 4,
 "nbformat_minor": 5
}
