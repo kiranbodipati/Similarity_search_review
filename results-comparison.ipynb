{
 "cells": [
  {
   "cell_type": "code",
   "execution_count": 1,
   "metadata": {},
   "outputs": [],
   "source": [
    "import pandas as pd\n",
    "import numpy as np\n",
    "import matplotlib.pyplot as plt"
   ]
  },
  {
   "cell_type": "code",
   "execution_count": 7,
   "metadata": {},
   "outputs": [],
   "source": [
    "lsh_data = pd.read_csv(\"./lsh-results/final-results.csv\")\n",
    "cosine_sim_data = pd.read_csv(\"./knn-results/cosine-results.csv\")\n",
    "euclidean_sim = pd.read_csv(\"./knn-results/cosine-results.csv\")\n",
    "jaccard_sim = pd.read_csv(\"./knn-results/cosine-results.csv\")"
   ]
  },
  {
   "cell_type": "code",
   "execution_count": 8,
   "metadata": {},
   "outputs": [
    {
     "data": {
      "text/html": [
       "<div>\n",
       "<style scoped>\n",
       "    .dataframe tbody tr th:only-of-type {\n",
       "        vertical-align: middle;\n",
       "    }\n",
       "\n",
       "    .dataframe tbody tr th {\n",
       "        vertical-align: top;\n",
       "    }\n",
       "\n",
       "    .dataframe thead th {\n",
       "        text-align: right;\n",
       "    }\n",
       "</style>\n",
       "<table border=\"1\" class=\"dataframe\">\n",
       "  <thead>\n",
       "    <tr style=\"text-align: right;\">\n",
       "      <th></th>\n",
       "      <th>nbits</th>\n",
       "      <th>test_images</th>\n",
       "      <th>random_images_sim</th>\n",
       "      <th>time</th>\n",
       "      <th>output_indices</th>\n",
       "      <th>number_of_similar_images</th>\n",
       "    </tr>\n",
       "  </thead>\n",
       "  <tbody>\n",
       "    <tr>\n",
       "      <th>0</th>\n",
       "      <td>5.0</td>\n",
       "      <td>/Users/abhishekvaidyanathan/Downloads/geologic...</td>\n",
       "      <td>0.969417</td>\n",
       "      <td>0.000351</td>\n",
       "      <td>[0, 2, 3, 5, 6, 7, 8, 9, 10, 11]</td>\n",
       "      <td>10</td>\n",
       "    </tr>\n",
       "    <tr>\n",
       "      <th>1</th>\n",
       "      <td>10.0</td>\n",
       "      <td>/Users/abhishekvaidyanathan/Downloads/geologic...</td>\n",
       "      <td>0.988361</td>\n",
       "      <td>0.000251</td>\n",
       "      <td>[1157, 1488, 2502, 4281, 4485, 4737, 5004, 501...</td>\n",
       "      <td>10</td>\n",
       "    </tr>\n",
       "    <tr>\n",
       "      <th>2</th>\n",
       "      <td>15.0</td>\n",
       "      <td>/Users/abhishekvaidyanathan/Downloads/geologic...</td>\n",
       "      <td>0.974686</td>\n",
       "      <td>0.008529</td>\n",
       "      <td>[0, 1, 2, 3, 7, 8, 9, 11, 12, 13]</td>\n",
       "      <td>10</td>\n",
       "    </tr>\n",
       "    <tr>\n",
       "      <th>3</th>\n",
       "      <td>20.0</td>\n",
       "      <td>/Users/abhishekvaidyanathan/Downloads/geologic...</td>\n",
       "      <td>0.977878</td>\n",
       "      <td>0.404396</td>\n",
       "      <td>[0, 1, 2, 6, 7, 8, 11, 12, 13, 16]</td>\n",
       "      <td>10</td>\n",
       "    </tr>\n",
       "    <tr>\n",
       "      <th>4</th>\n",
       "      <td>5.0</td>\n",
       "      <td>/Users/abhishekvaidyanathan/Downloads/geologic...</td>\n",
       "      <td>0.968108</td>\n",
       "      <td>0.000331</td>\n",
       "      <td>[0, 1, 2, 3, 4, 5, 6, 7, 8, 9, 10, 11, 12, 13,...</td>\n",
       "      <td>20</td>\n",
       "    </tr>\n",
       "  </tbody>\n",
       "</table>\n",
       "</div>"
      ],
      "text/plain": [
       "   nbits                                        test_images  \\\n",
       "0    5.0  /Users/abhishekvaidyanathan/Downloads/geologic...   \n",
       "1   10.0  /Users/abhishekvaidyanathan/Downloads/geologic...   \n",
       "2   15.0  /Users/abhishekvaidyanathan/Downloads/geologic...   \n",
       "3   20.0  /Users/abhishekvaidyanathan/Downloads/geologic...   \n",
       "4    5.0  /Users/abhishekvaidyanathan/Downloads/geologic...   \n",
       "\n",
       "   random_images_sim      time  \\\n",
       "0           0.969417  0.000351   \n",
       "1           0.988361  0.000251   \n",
       "2           0.974686  0.008529   \n",
       "3           0.977878  0.404396   \n",
       "4           0.968108  0.000331   \n",
       "\n",
       "                                      output_indices  number_of_similar_images  \n",
       "0                   [0, 2, 3, 5, 6, 7, 8, 9, 10, 11]                        10  \n",
       "1  [1157, 1488, 2502, 4281, 4485, 4737, 5004, 501...                        10  \n",
       "2                  [0, 1, 2, 3, 7, 8, 9, 11, 12, 13]                        10  \n",
       "3                 [0, 1, 2, 6, 7, 8, 11, 12, 13, 16]                        10  \n",
       "4  [0, 1, 2, 3, 4, 5, 6, 7, 8, 9, 10, 11, 12, 13,...                        20  "
      ]
     },
     "execution_count": 8,
     "metadata": {},
     "output_type": "execute_result"
    }
   ],
   "source": [
    "lsh_data.head()"
   ]
  },
  {
   "cell_type": "code",
   "execution_count": 9,
   "metadata": {},
   "outputs": [],
   "source": [
    "lsh_data_50 = lsh_data[lsh_data['number_of_similar_images']==50]\n",
    "lsh_data_40 = lsh_data[lsh_data['number_of_similar_images']==40]\n",
    "lsh_data_30 = lsh_data[lsh_data['number_of_similar_images']==30]\n",
    "lsh_data_20 = lsh_data[lsh_data['number_of_similar_images']==20]\n",
    "lsh_data_10 = lsh_data[lsh_data['number_of_similar_images']==10]"
   ]
  },
  {
   "cell_type": "code",
   "execution_count": 13,
   "metadata": {},
   "outputs": [],
   "source": [
    "lsh_data_50_5_nbits = lsh_data_50[lsh_data_50['nbits']==5]\n",
    "lsh_data_50_10_nbits = lsh_data_50[lsh_data_50['nbits']==10]\n",
    "lsh_data_50_15_nbits = lsh_data_50[lsh_data_50['nbits']==15]\n",
    "lsh_data_50_20_nbits = lsh_data_50[lsh_data_50['nbits']==20]"
   ]
  },
  {
   "cell_type": "code",
   "execution_count": 18,
   "metadata": {},
   "outputs": [
    {
     "data": {
      "text/html": [
       "<div>\n",
       "<style scoped>\n",
       "    .dataframe tbody tr th:only-of-type {\n",
       "        vertical-align: middle;\n",
       "    }\n",
       "\n",
       "    .dataframe tbody tr th {\n",
       "        vertical-align: top;\n",
       "    }\n",
       "\n",
       "    .dataframe thead th {\n",
       "        text-align: right;\n",
       "    }\n",
       "</style>\n",
       "<table border=\"1\" class=\"dataframe\">\n",
       "  <thead>\n",
       "    <tr style=\"text-align: right;\">\n",
       "      <th></th>\n",
       "      <th>nbits</th>\n",
       "      <th>test_images</th>\n",
       "      <th>random_images_sim</th>\n",
       "      <th>time</th>\n",
       "      <th>output_indices</th>\n",
       "      <th>number_of_similar_images</th>\n",
       "    </tr>\n",
       "  </thead>\n",
       "  <tbody>\n",
       "    <tr>\n",
       "      <th>16</th>\n",
       "      <td>5.0</td>\n",
       "      <td>/Users/abhishekvaidyanathan/Downloads/geologic...</td>\n",
       "      <td>0.960049</td>\n",
       "      <td>0.000237</td>\n",
       "      <td>[0, 1, 2, 3, 4, 6, 7, 8, 9, 10, 11, 12, 13, 15...</td>\n",
       "      <td>50</td>\n",
       "    </tr>\n",
       "    <tr>\n",
       "      <th>36</th>\n",
       "      <td>5.0</td>\n",
       "      <td>/Users/abhishekvaidyanathan/Downloads/geologic...</td>\n",
       "      <td>0.974270</td>\n",
       "      <td>0.000326</td>\n",
       "      <td>[0, 1, 2, 3, 4, 5, 6, 7, 8, 9, 10, 11, 12, 13,...</td>\n",
       "      <td>50</td>\n",
       "    </tr>\n",
       "    <tr>\n",
       "      <th>56</th>\n",
       "      <td>5.0</td>\n",
       "      <td>/Users/abhishekvaidyanathan/Downloads/geologic...</td>\n",
       "      <td>0.969417</td>\n",
       "      <td>0.000236</td>\n",
       "      <td>[0, 1, 7, 9, 10, 11, 15, 16, 19, 20, 24, 26, 2...</td>\n",
       "      <td>50</td>\n",
       "    </tr>\n",
       "    <tr>\n",
       "      <th>76</th>\n",
       "      <td>5.0</td>\n",
       "      <td>/Users/abhishekvaidyanathan/Downloads/geologic...</td>\n",
       "      <td>0.974665</td>\n",
       "      <td>0.000235</td>\n",
       "      <td>[0, 2, 6, 7, 8, 12, 13, 14, 15, 16, 17, 18, 20...</td>\n",
       "      <td>50</td>\n",
       "    </tr>\n",
       "    <tr>\n",
       "      <th>96</th>\n",
       "      <td>5.0</td>\n",
       "      <td>/Users/abhishekvaidyanathan/Downloads/geologic...</td>\n",
       "      <td>0.986893</td>\n",
       "      <td>0.000291</td>\n",
       "      <td>[1, 2, 6, 7, 8, 11, 12, 13, 14, 15, 16, 17, 20...</td>\n",
       "      <td>50</td>\n",
       "    </tr>\n",
       "  </tbody>\n",
       "</table>\n",
       "</div>"
      ],
      "text/plain": [
       "    nbits                                        test_images  \\\n",
       "16    5.0  /Users/abhishekvaidyanathan/Downloads/geologic...   \n",
       "36    5.0  /Users/abhishekvaidyanathan/Downloads/geologic...   \n",
       "56    5.0  /Users/abhishekvaidyanathan/Downloads/geologic...   \n",
       "76    5.0  /Users/abhishekvaidyanathan/Downloads/geologic...   \n",
       "96    5.0  /Users/abhishekvaidyanathan/Downloads/geologic...   \n",
       "\n",
       "    random_images_sim      time  \\\n",
       "16           0.960049  0.000237   \n",
       "36           0.974270  0.000326   \n",
       "56           0.969417  0.000236   \n",
       "76           0.974665  0.000235   \n",
       "96           0.986893  0.000291   \n",
       "\n",
       "                                       output_indices  \\\n",
       "16  [0, 1, 2, 3, 4, 6, 7, 8, 9, 10, 11, 12, 13, 15...   \n",
       "36  [0, 1, 2, 3, 4, 5, 6, 7, 8, 9, 10, 11, 12, 13,...   \n",
       "56  [0, 1, 7, 9, 10, 11, 15, 16, 19, 20, 24, 26, 2...   \n",
       "76  [0, 2, 6, 7, 8, 12, 13, 14, 15, 16, 17, 18, 20...   \n",
       "96  [1, 2, 6, 7, 8, 11, 12, 13, 14, 15, 16, 17, 20...   \n",
       "\n",
       "    number_of_similar_images  \n",
       "16                        50  \n",
       "36                        50  \n",
       "56                        50  \n",
       "76                        50  \n",
       "96                        50  "
      ]
     },
     "execution_count": 18,
     "metadata": {},
     "output_type": "execute_result"
    }
   ],
   "source": [
    "lsh_data_50_5_nbits.head()"
   ]
  },
  {
   "cell_type": "code",
   "execution_count": 37,
   "metadata": {},
   "outputs": [],
   "source": [
    "data_list = [lsh_data_50,lsh_data_40,lsh_data_30,lsh_data_20,lsh_data_10]\n",
    "nbits = [5,10,15,20]\n",
    "kNearest = [50,40,30,20,10]\n",
    "combined = pd.DataFrame({\n",
    "        'kNearest': [0],\n",
    "        'nbits':[0],\n",
    "        'average_sim': [0],\n",
    "        'average_sim': [0]\n",
    "    })\n",
    "for data in range(len(data_list)):\n",
    "    for nbit in nbits:\n",
    "        dataset = data_list[data][data_list[data]['nbits']==nbit]\n",
    "        avergae_sim = dataset['random_images_sim'].mean()\n",
    "        average_time_for_each_image = dataset['time'].mean()\n",
    "        kNearest_value = kNearest[data]\n",
    "        combined = combined.append(pd.DataFrame({\n",
    "            'kNearest' : [kNearest_value],\n",
    "            'nbits' : [nbit],\n",
    "            'average_sim': [avergae_sim],\n",
    "            'average_time': [average_time_for_each_image]\n",
    "            }), ignore_index=True)"
   ]
  },
  {
   "cell_type": "code",
   "execution_count": 41,
   "metadata": {},
   "outputs": [],
   "source": [
    "combined = combined.iloc[1: , :]"
   ]
  },
  {
   "cell_type": "code",
   "execution_count": 42,
   "metadata": {},
   "outputs": [
    {
     "data": {
      "text/html": [
       "<div>\n",
       "<style scoped>\n",
       "    .dataframe tbody tr th:only-of-type {\n",
       "        vertical-align: middle;\n",
       "    }\n",
       "\n",
       "    .dataframe tbody tr th {\n",
       "        vertical-align: top;\n",
       "    }\n",
       "\n",
       "    .dataframe thead th {\n",
       "        text-align: right;\n",
       "    }\n",
       "</style>\n",
       "<table border=\"1\" class=\"dataframe\">\n",
       "  <thead>\n",
       "    <tr style=\"text-align: right;\">\n",
       "      <th></th>\n",
       "      <th>kNearest</th>\n",
       "      <th>nbits</th>\n",
       "      <th>average_sim</th>\n",
       "      <th>average_time</th>\n",
       "    </tr>\n",
       "  </thead>\n",
       "  <tbody>\n",
       "    <tr>\n",
       "      <th>1</th>\n",
       "      <td>50</td>\n",
       "      <td>5</td>\n",
       "      <td>0.973173</td>\n",
       "      <td>0.000306</td>\n",
       "    </tr>\n",
       "    <tr>\n",
       "      <th>2</th>\n",
       "      <td>50</td>\n",
       "      <td>10</td>\n",
       "      <td>0.976456</td>\n",
       "      <td>0.000380</td>\n",
       "    </tr>\n",
       "    <tr>\n",
       "      <th>3</th>\n",
       "      <td>50</td>\n",
       "      <td>15</td>\n",
       "      <td>0.980298</td>\n",
       "      <td>0.008862</td>\n",
       "    </tr>\n",
       "    <tr>\n",
       "      <th>4</th>\n",
       "      <td>50</td>\n",
       "      <td>20</td>\n",
       "      <td>0.981321</td>\n",
       "      <td>0.406010</td>\n",
       "    </tr>\n",
       "    <tr>\n",
       "      <th>5</th>\n",
       "      <td>40</td>\n",
       "      <td>5</td>\n",
       "      <td>0.975154</td>\n",
       "      <td>0.000299</td>\n",
       "    </tr>\n",
       "  </tbody>\n",
       "</table>\n",
       "</div>"
      ],
      "text/plain": [
       "   kNearest  nbits  average_sim  average_time\n",
       "1        50      5     0.973173      0.000306\n",
       "2        50     10     0.976456      0.000380\n",
       "3        50     15     0.980298      0.008862\n",
       "4        50     20     0.981321      0.406010\n",
       "5        40      5     0.975154      0.000299"
      ]
     },
     "execution_count": 42,
     "metadata": {},
     "output_type": "execute_result"
    }
   ],
   "source": [
    "combined.head()"
   ]
  },
  {
   "cell_type": "code",
   "execution_count": 70,
   "metadata": {},
   "outputs": [
    {
     "data": {
      "text/plain": [
       "array([ 5, 10, 15, 20])"
      ]
     },
     "execution_count": 70,
     "metadata": {},
     "output_type": "execute_result"
    }
   ],
   "source": [
    "combined['nbits'].unique()"
   ]
  },
  {
   "cell_type": "code",
   "execution_count": 112,
   "metadata": {},
   "outputs": [],
   "source": [
    "combined_5 = combined[combined['nbits']==5]\n",
    "combined_10 = combined[combined['nbits']==10]\n",
    "combined_15 = combined[combined['nbits']==15]\n",
    "combined_20 = combined[combined['nbits']==20]"
   ]
  },
  {
   "cell_type": "code",
   "execution_count": 113,
   "metadata": {},
   "outputs": [
    {
     "data": {
      "text/html": [
       "<div>\n",
       "<style scoped>\n",
       "    .dataframe tbody tr th:only-of-type {\n",
       "        vertical-align: middle;\n",
       "    }\n",
       "\n",
       "    .dataframe tbody tr th {\n",
       "        vertical-align: top;\n",
       "    }\n",
       "\n",
       "    .dataframe thead th {\n",
       "        text-align: right;\n",
       "    }\n",
       "</style>\n",
       "<table border=\"1\" class=\"dataframe\">\n",
       "  <thead>\n",
       "    <tr style=\"text-align: right;\">\n",
       "      <th></th>\n",
       "      <th>kNearest</th>\n",
       "      <th>nbits</th>\n",
       "      <th>average_sim</th>\n",
       "      <th>average_time</th>\n",
       "    </tr>\n",
       "  </thead>\n",
       "  <tbody>\n",
       "    <tr>\n",
       "      <th>2</th>\n",
       "      <td>50</td>\n",
       "      <td>10</td>\n",
       "      <td>0.976456</td>\n",
       "      <td>0.000380</td>\n",
       "    </tr>\n",
       "    <tr>\n",
       "      <th>6</th>\n",
       "      <td>40</td>\n",
       "      <td>10</td>\n",
       "      <td>0.977130</td>\n",
       "      <td>0.000386</td>\n",
       "    </tr>\n",
       "    <tr>\n",
       "      <th>10</th>\n",
       "      <td>30</td>\n",
       "      <td>10</td>\n",
       "      <td>0.977787</td>\n",
       "      <td>0.000454</td>\n",
       "    </tr>\n",
       "    <tr>\n",
       "      <th>14</th>\n",
       "      <td>20</td>\n",
       "      <td>10</td>\n",
       "      <td>0.979466</td>\n",
       "      <td>0.000409</td>\n",
       "    </tr>\n",
       "    <tr>\n",
       "      <th>18</th>\n",
       "      <td>10</td>\n",
       "      <td>10</td>\n",
       "      <td>0.978243</td>\n",
       "      <td>0.000374</td>\n",
       "    </tr>\n",
       "  </tbody>\n",
       "</table>\n",
       "</div>"
      ],
      "text/plain": [
       "    kNearest  nbits  average_sim  average_time\n",
       "2         50     10     0.976456      0.000380\n",
       "6         40     10     0.977130      0.000386\n",
       "10        30     10     0.977787      0.000454\n",
       "14        20     10     0.979466      0.000409\n",
       "18        10     10     0.978243      0.000374"
      ]
     },
     "execution_count": 113,
     "metadata": {},
     "output_type": "execute_result"
    }
   ],
   "source": [
    "combined_10"
   ]
  },
  {
   "cell_type": "code",
   "execution_count": 118,
   "metadata": {},
   "outputs": [
    {
     "data": {
      "text/plain": [
       "array([ 5, 10, 15, 20])"
      ]
     },
     "execution_count": 118,
     "metadata": {},
     "output_type": "execute_result"
    }
   ],
   "source": [
    "combined['nbits'].unique()"
   ]
  },
  {
   "cell_type": "code",
   "execution_count": 125,
   "metadata": {},
   "outputs": [],
   "source": [
    "dummy_array = combined_10['kNearest']\n",
    "list(dummy_array).reverse()"
   ]
  },
  {
   "cell_type": "code",
   "execution_count": 127,
   "metadata": {},
   "outputs": [],
   "source": [
    "dummy_array = list(dummy_array)\n",
    "dummy_array.reverse()"
   ]
  },
  {
   "cell_type": "code",
   "execution_count": 135,
   "metadata": {},
   "outputs": [],
   "source": [
    "combined5_dummy"
   ]
  },
  {
   "cell_type": "code",
   "execution_count": 143,
   "metadata": {},
   "outputs": [
    {
     "data": {
      "text/plain": [
       "<Figure size 432x288 with 0 Axes>"
      ]
     },
     "metadata": {},
     "output_type": "display_data"
    },
    {
     "data": {
      "image/png": "[encoded data removed]",
      "text/plain": [
       "<Figure size 648x432 with 1 Axes>"
      ]
     },
     "metadata": {
      "needs_background": "light"
     },
     "output_type": "display_data"
    }
   ],
   "source": [
    "plt.figure(1)\n",
    "fig, ax = plt.subplots(figsize=(9, 6))\n",
    "x = np.arange(0, 50, 10)\n",
    "ax.plot(combined_5['kNearest'],combined_5['average_sim'])\n",
    "ax.plot(combined_10['kNearest'],combined_10['average_sim'])\n",
    "ax.plot(combined_15['kNearest'],combined_15['average_sim'])\n",
    "ax.plot(combined_20['kNearest'],combined_20['average_sim'])\n",
    "plt.title('average similarity')\n",
    "plt.ylabel('simialrity')\n",
    "plt.xlabel('Knearest')\n",
    "plt.legend(['nbits 5', 'nbits 10','nbits 15','nbits 20'], loc='upper right')\n",
    "plt.show()"
   ]
  },
  {
   "cell_type": "code",
   "execution_count": 72,
   "metadata": {},
   "outputs": [
    {
     "data": {
      "text/plain": [
       "<Figure size 432x288 with 0 Axes>"
      ]
     },
     "metadata": {},
     "output_type": "display_data"
    },
    {
     "data": {
      "image/png": "[encoded data removed]",
      "text/plain": [
       "<Figure size 648x432 with 1 Axes>"
      ]
     },
     "metadata": {
      "needs_background": "light"
     },
     "output_type": "display_data"
    }
   ],
   "source": [
    "plt.figure(1)\n",
    "fig, ax = plt.subplots(figsize=(9, 6))\n",
    "x = np.arange(0, 50, 10)\n",
    "ax.plot(combined['kNearest'].unique(),combined_5['average_time'])\n",
    "ax.plot(combined['kNearest'].unique(),combined_10['average_time'])\n",
    "ax.plot(combined['kNearest'].unique(),combined_15['average_time'])\n",
    "ax.plot(combined['kNearest'].unique(),combined_20['average_time'])\n",
    "plt.title('average time')\n",
    "plt.ylabel('time')\n",
    "plt.xlabel('Knearest')\n",
    "plt.xlim([5, 55])\n",
    "plt.legend(['nbits 5', 'nbits 10','nbits 15','nbits 20'], loc='upper right')\n",
    "plt.show()"
   ]
  },
  {
   "cell_type": "code",
   "execution_count": 74,
   "metadata": {},
   "outputs": [
    {
     "data": {
      "text/plain": [
       "<Figure size 432x288 with 0 Axes>"
      ]
     },
     "metadata": {},
     "output_type": "display_data"
    },
    {
     "data": {
      "image/png": "[encoded data removed]",
      "text/plain": [
       "<Figure size 648x432 with 1 Axes>"
      ]
     },
     "metadata": {
      "needs_background": "light"
     },
     "output_type": "display_data"
    }
   ],
   "source": [
    "plt.figure(1)\n",
    "fig, ax = plt.subplots(figsize=(9, 6))\n",
    "x = np.arange(0, 50, 10)\n",
    "average_time_array = [combined_5['average_time'].mean(),combined_10['average_time'].mean(),combined_15['average_time'].mean(),combined_20['average_time'].mean()]\n",
    "ax.plot(combined['nbits'].unique(),average_time_array)\n",
    "plt.title('average time for each nbit')\n",
    "plt.ylabel('time')\n",
    "plt.xlabel('nbits')\n",
    "# plt.xlim([5, 55])\n",
    "# plt.legend(['nbits 5', 'nbits 10','nbits 15','nbits 20'], loc='upper right')\n",
    "plt.show()"
   ]
  },
  {
   "cell_type": "code",
   "execution_count": 109,
   "metadata": {},
   "outputs": [
    {
     "data": {
      "text/plain": [
       "0.9789474377249999"
      ]
     },
     "execution_count": 109,
     "metadata": {},
     "output_type": "execute_result"
    }
   ],
   "source": [
    "combined_20['average_sim'].mean()"
   ]
  },
  {
   "cell_type": "code",
   "execution_count": 110,
   "metadata": {},
   "outputs": [
    {
     "data": {
      "text/plain": [
       "0.9797734518799999"
      ]
     },
     "execution_count": 110,
     "metadata": {},
     "output_type": "execute_result"
    }
   ],
   "source": [
    "combined_15['average_sim'].mean()"
   ]
  },
  {
   "cell_type": "code",
   "execution_count": 106,
   "metadata": {},
   "outputs": [
    {
     "data": {
      "text/plain": [
       "<Figure size 432x288 with 0 Axes>"
      ]
     },
     "metadata": {},
     "output_type": "display_data"
    },
    {
     "data": {
      "image/png": "[encoded data removed]",
      "text/plain": [
       "<Figure size 648x432 with 1 Axes>"
      ]
     },
     "metadata": {
      "needs_background": "light"
     },
     "output_type": "display_data"
    }
   ],
   "source": [
    "plt.figure(1)\n",
    "fig, ax = plt.subplots(figsize=(9, 6))\n",
    "x = np.arange(0, 50, 10)\n",
    "average_time_array = [combined_5['average_sim'].mean(),combined_10['average_sim'].mean(),combined_15['average_sim'].mean(),combined_20['average_sim'].mean()]\n",
    "ax.plot(combined['nbits'].unique(),average_time_array)\n",
    "plt.title('average simialrity score for each nbit')\n",
    "plt.ylabel('time')\n",
    "plt.xlabel('nbits')\n",
    "# plt.xlim([5, 55])\n",
    "# plt.legend(['nbits 5', 'nbits 10','nbits 15','nbits 20'], loc='upper right')\n",
    "plt.show()"
   ]
  },
  {
   "cell_type": "code",
   "execution_count": 104,
   "metadata": {},
   "outputs": [
    {
     "data": {
      "text/plain": [
       "<Figure size 432x288 with 0 Axes>"
      ]
     },
     "metadata": {},
     "output_type": "display_data"
    },
    {
     "data": {
      "image/png": "[encoded data removed]",
      "text/plain": [
       "<Figure size 648x432 with 1 Axes>"
      ]
     },
     "metadata": {
      "needs_background": "light"
     },
     "output_type": "display_data"
    }
   ],
   "source": [
    "plt.figure(1)\n",
    "fig, ax = plt.subplots(figsize=(9, 6))\n",
    "x = np.arange(0, 50, 10)\n",
    "average_time_array = [combined_10['average_time'].mean(),combined_20['average_time'].mean(),combined_30['average_time'].mean(),combined_40['average_time'].mean(),combined_50['average_time'].mean()]\n",
    "ax.plot(combined_list,average_time_array)\n",
    "# ax.plot(knn_results_data['kNearest'],knn_results_data['time_taken'])\n",
    "plt.title('average time for each kNearest')\n",
    "plt.ylabel('time')\n",
    "plt.xlabel('kNearest')\n",
    "# plt.legend(['lsh results','knn results'], loc='upper right')\n",
    "plt.show()"
   ]
  },
  {
   "cell_type": "code",
   "execution_count": 108,
   "metadata": {},
   "outputs": [
    {
     "data": {
      "text/plain": [
       "<Figure size 432x288 with 0 Axes>"
      ]
     },
     "metadata": {},
     "output_type": "display_data"
    },
    {
     "data": {
      "image/png": "[encoded data removed]",
      "text/plain": [
       "<Figure size 648x432 with 1 Axes>"
      ]
     },
     "metadata": {
      "needs_background": "light"
     },
     "output_type": "display_data"
    }
   ],
   "source": [
    "plt.figure(1)\n",
    "fig, ax = plt.subplots(figsize=(9, 6))\n",
    "x = np.arange(0, 50, 10)\n",
    "average_time_array = [combined_10['average_sim'].mean(),combined_20['average_sim'].mean(),combined_30['average_sim'].mean(),combined_40['average_sim'].mean(),combined_50['average_sim'].mean()]\n",
    "ax.plot(combined_list,average_time_array)\n",
    "# ax.plot(knn_results_data['kNearest'],knn_results_data['time_taken'])\n",
    "plt.title('average similarity for each kNearest')\n",
    "plt.ylabel('time')\n",
    "plt.xlabel('kNearest')\n",
    "# plt.legend(['lsh results','knn results'], loc='upper right')\n",
    "plt.show()"
   ]
  },
  {
   "cell_type": "code",
   "execution_count": 85,
   "metadata": {},
   "outputs": [],
   "source": [
    "knn_results_data = pd.DataFrame()"
   ]
  },
  {
   "cell_type": "code",
   "execution_count": 86,
   "metadata": {},
   "outputs": [],
   "source": [
    "knn_results_data[\"kNearest\"] = [10,20,30,40,50] \n",
    "knn_results_data['time_taken'] = [0.0792,0.0714,0.0728,0.0740,0.0741]"
   ]
  },
  {
   "cell_type": "code",
   "execution_count": 87,
   "metadata": {},
   "outputs": [
    {
     "data": {
      "text/html": [
       "<div>\n",
       "<style scoped>\n",
       "    .dataframe tbody tr th:only-of-type {\n",
       "        vertical-align: middle;\n",
       "    }\n",
       "\n",
       "    .dataframe tbody tr th {\n",
       "        vertical-align: top;\n",
       "    }\n",
       "\n",
       "    .dataframe thead th {\n",
       "        text-align: right;\n",
       "    }\n",
       "</style>\n",
       "<table border=\"1\" class=\"dataframe\">\n",
       "  <thead>\n",
       "    <tr style=\"text-align: right;\">\n",
       "      <th></th>\n",
       "      <th>kNearest</th>\n",
       "      <th>time_taken</th>\n",
       "    </tr>\n",
       "  </thead>\n",
       "  <tbody>\n",
       "    <tr>\n",
       "      <th>0</th>\n",
       "      <td>10</td>\n",
       "      <td>0.0792</td>\n",
       "    </tr>\n",
       "    <tr>\n",
       "      <th>1</th>\n",
       "      <td>20</td>\n",
       "      <td>0.0714</td>\n",
       "    </tr>\n",
       "    <tr>\n",
       "      <th>2</th>\n",
       "      <td>30</td>\n",
       "      <td>0.0728</td>\n",
       "    </tr>\n",
       "    <tr>\n",
       "      <th>3</th>\n",
       "      <td>40</td>\n",
       "      <td>0.0740</td>\n",
       "    </tr>\n",
       "    <tr>\n",
       "      <th>4</th>\n",
       "      <td>50</td>\n",
       "      <td>0.0741</td>\n",
       "    </tr>\n",
       "  </tbody>\n",
       "</table>\n",
       "</div>"
      ],
      "text/plain": [
       "   kNearest  time_taken\n",
       "0        10      0.0792\n",
       "1        20      0.0714\n",
       "2        30      0.0728\n",
       "3        40      0.0740\n",
       "4        50      0.0741"
      ]
     },
     "execution_count": 87,
     "metadata": {},
     "output_type": "execute_result"
    }
   ],
   "source": [
    "knn_results_data"
   ]
  },
  {
   "cell_type": "code",
   "execution_count": 91,
   "metadata": {},
   "outputs": [
    {
     "data": {
      "text/plain": [
       "<Figure size 432x288 with 0 Axes>"
      ]
     },
     "metadata": {},
     "output_type": "display_data"
    },
    {
     "data": {
      "image/png": "[encoded data removed]",
      "text/plain": [
       "<Figure size 648x432 with 1 Axes>"
      ]
     },
     "metadata": {
      "needs_background": "light"
     },
     "output_type": "display_data"
    }
   ],
   "source": [
    "plt.figure(1)\n",
    "fig, ax = plt.subplots(figsize=(9, 6))\n",
    "x = np.arange(0, 50, 10)\n",
    "ax.plot(combined['kNearest'].unique(),combined_5['average_time'])\n",
    "ax.plot(combined['kNearest'].unique(),combined_10['average_time'])\n",
    "ax.plot(combined['kNearest'].unique(),combined_15['average_time'])\n",
    "ax.plot(combined['kNearest'].unique(),combined_20['average_time'])\n",
    "ax.plot(knn_results_data['kNearest'],knn_results_data['time_taken'])\n",
    "plt.title('average similarity')\n",
    "plt.ylabel('simialrity')\n",
    "plt.xlabel('Knearest')\n",
    "plt.xlim([5, 55])\n",
    "plt.legend(['nbits 5', 'nbits 10','nbits 15','nbits 20','knn results'], loc='upper right')\n",
    "plt.show()"
   ]
  },
  {
   "cell_type": "code",
   "execution_count": 92,
   "metadata": {},
   "outputs": [],
   "source": [
    "combined_50 = combined[combined['kNearest']==50]\n",
    "combined_40 = combined[combined['kNearest']==40]\n",
    "combined_30 = combined[combined['kNearest']==30]\n",
    "combined_20 = combined[combined['kNearest']==20]\n",
    "combined_10 = combined[combined['kNearest']==10]\n"
   ]
  },
  {
   "cell_type": "code",
   "execution_count": 93,
   "metadata": {},
   "outputs": [
    {
     "data": {
      "text/html": [
       "<div>\n",
       "<style scoped>\n",
       "    .dataframe tbody tr th:only-of-type {\n",
       "        vertical-align: middle;\n",
       "    }\n",
       "\n",
       "    .dataframe tbody tr th {\n",
       "        vertical-align: top;\n",
       "    }\n",
       "\n",
       "    .dataframe thead th {\n",
       "        text-align: right;\n",
       "    }\n",
       "</style>\n",
       "<table border=\"1\" class=\"dataframe\">\n",
       "  <thead>\n",
       "    <tr style=\"text-align: right;\">\n",
       "      <th></th>\n",
       "      <th>kNearest</th>\n",
       "      <th>nbits</th>\n",
       "      <th>average_sim</th>\n",
       "      <th>average_time</th>\n",
       "    </tr>\n",
       "  </thead>\n",
       "  <tbody>\n",
       "    <tr>\n",
       "      <th>1</th>\n",
       "      <td>50</td>\n",
       "      <td>5</td>\n",
       "      <td>0.973173</td>\n",
       "      <td>0.000306</td>\n",
       "    </tr>\n",
       "    <tr>\n",
       "      <th>2</th>\n",
       "      <td>50</td>\n",
       "      <td>10</td>\n",
       "      <td>0.976456</td>\n",
       "      <td>0.000380</td>\n",
       "    </tr>\n",
       "    <tr>\n",
       "      <th>3</th>\n",
       "      <td>50</td>\n",
       "      <td>15</td>\n",
       "      <td>0.980298</td>\n",
       "      <td>0.008862</td>\n",
       "    </tr>\n",
       "    <tr>\n",
       "      <th>4</th>\n",
       "      <td>50</td>\n",
       "      <td>20</td>\n",
       "      <td>0.981321</td>\n",
       "      <td>0.406010</td>\n",
       "    </tr>\n",
       "  </tbody>\n",
       "</table>\n",
       "</div>"
      ],
      "text/plain": [
       "   kNearest  nbits  average_sim  average_time\n",
       "1        50      5     0.973173      0.000306\n",
       "2        50     10     0.976456      0.000380\n",
       "3        50     15     0.980298      0.008862\n",
       "4        50     20     0.981321      0.406010"
      ]
     },
     "execution_count": 93,
     "metadata": {},
     "output_type": "execute_result"
    }
   ],
   "source": [
    "combined_50"
   ]
  },
  {
   "cell_type": "code",
   "execution_count": 98,
   "metadata": {},
   "outputs": [],
   "source": [
    "combined_list = list(combined['kNearest'].unique())\n",
    "combined_list.reverse()"
   ]
  },
  {
   "cell_type": "code",
   "execution_count": 99,
   "metadata": {},
   "outputs": [
    {
     "data": {
      "text/plain": [
       "[10, 20, 30, 40, 50]"
      ]
     },
     "execution_count": 99,
     "metadata": {},
     "output_type": "execute_result"
    }
   ],
   "source": [
    "combined_list"
   ]
  },
  {
   "cell_type": "code",
   "execution_count": 103,
   "metadata": {},
   "outputs": [
    {
     "data": {
      "text/plain": [
       "<Figure size 432x288 with 0 Axes>"
      ]
     },
     "metadata": {},
     "output_type": "display_data"
    },
    {
     "data": {
      "image/png": "[encoded data removed]",
      "text/plain": [
       "<Figure size 648x432 with 1 Axes>"
      ]
     },
     "metadata": {
      "needs_background": "light"
     },
     "output_type": "display_data"
    }
   ],
   "source": [
    "plt.figure(1)\n",
    "fig, ax = plt.subplots(figsize=(9, 6))\n",
    "x = np.arange(0, 50, 10)\n",
    "average_time_array = [combined_10['average_time'].mean(),combined_20['average_time'].mean(),combined_30['average_time'].mean(),combined_40['average_time'].mean(),combined_50['average_time'].mean()]\n",
    "ax.plot(combined_list,average_time_array)\n",
    "ax.plot(knn_results_data['kNearest'],knn_results_data['time_taken'])\n",
    "plt.title('average time for each kNearest')\n",
    "plt.ylabel('time')\n",
    "plt.xlabel('kNearest')\n",
    "plt.legend(['lsh results','knn results'], loc='upper right')\n",
    "plt.show()"
   ]
  },
  {
   "cell_type": "code",
   "execution_count": null,
   "metadata": {},
   "outputs": [],
   "source": []
  }
 ],
 "metadata": {
  "interpreter": {
   "hash": "ac14b7d52d20600e4dd9dc17d0dc17c811c30cfbe5a64198b52d23f30738d99a"
  },
  "kernelspec": {
   "display_name": "Python 3.9.6 64-bit ('venv': venv)",
   "language": "python",
   "name": "python3"
  },
  "language_info": {
   "codemirror_mode": {
    "name": "ipython",
    "version": 3
   },
   "file_extension": ".py",
   "mimetype": "text/x-python",
   "name": "python",
   "nbconvert_exporter": "python",
   "pygments_lexer": "ipython3",
   "version": "3.9.6"
  },
  "orig_nbformat": 4
 },
 "nbformat": 4,
 "nbformat_minor": 2
}
