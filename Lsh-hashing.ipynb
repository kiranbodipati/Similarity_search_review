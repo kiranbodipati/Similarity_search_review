{
 "cells": [
  {
   "cell_type": "code",
   "execution_count": 12,
   "metadata": {},
   "outputs": [],
   "source": [
    "# import config\n",
    "import torch\n",
    "import numpy as np\n",
    "from autoencoder import ConvDecoder, ConvEncoder\n",
    "from sklearn.neighbors import NearestNeighbors\n",
    "import torchvision.transforms as T\n",
    "import os\n",
    "from PIL import Image\n",
    "import matplotlib.pyplot as plt\n",
    "import json\n",
    "# from lshash import LSHash\n",
    "from lshash.lshash import LSHash\n",
    "%matplotlib inline"
   ]
  },
  {
   "cell_type": "code",
   "execution_count": 13,
   "metadata": {},
   "outputs": [],
   "source": [
    "TEST_IMAGE_PATH = \"/Users/abhishekvaidyanathan/Downloads/geological_similarity/schist/ZZ5Z5.jpg\"\n",
    "NUM_IMAGES = 10\n",
    "ENCODER_MODEL_PATH = \"geological_encoding.pt\"\n",
    "EMBEDDING_PATH = \"geological_embed.npy\""
   ]
  },
  {
   "cell_type": "code",
   "execution_count": 21,
   "metadata": {},
   "outputs": [],
   "source": [
    "rootdir = '/Users/abhishekvaidyanathan/Downloads/geological_similarity/'\n",
    "image_files = []\n",
    "for subdir, dirs, files in os.walk(rootdir):\n",
    "    for file in files:\n",
    "        image_files.append(os.path.join(subdir, file))"
   ]
  },
  {
   "cell_type": "code",
   "execution_count": 15,
   "metadata": {},
   "outputs": [],
   "source": [
    "def load_image_tensor(image_path, device):\n",
    "    image_tensor = T.ToTensor()(Image.open(image_path))\n",
    "    image_tensor = image_tensor.unsqueeze(0)\n",
    "    print(image_tensor.shape)\n",
    "    # input_images = image_tensor.to(device)\n",
    "    return image_tensor"
   ]
  },
  {
   "cell_type": "code",
   "execution_count": 33,
   "metadata": {},
   "outputs": [],
   "source": [
    "def compute_similar_images(image_path, num_images, embedding, device):\n",
    "    image_tensor = load_image_tensor(image_path, device)\n",
    "    # image_tensor = image_tensor.to(device)\n",
    "\n",
    "    with torch.no_grad():\n",
    "        image_embedding = encoder(image_tensor).cpu().detach().numpy()\n",
    "\n",
    "    print(image_embedding.shape)\n",
    "\n",
    "    flattened_embedding = image_embedding.reshape((image_embedding.shape[0], -1))\n",
    "    print(\"flattened embedding\")\n",
    "    print(flattened_embedding.shape)\n",
    "\n",
    "    k = 1 # hash size\n",
    "    L = 5  # number of tables\n",
    "    d = flattened_embedding.shape[1] # Dimension of Feature vector\n",
    "    lsh = LSHash(hash_size=k, input_dim=d, num_hashtables=L)\n",
    "    # LSH on all the images\n",
    "    # for img_path, vec in tqdm_notebook(feature_dict.items()):\n",
    "    lsh.index(flattened_embedding, extra_data=image_path)\n",
    "    print(lsh.index)\n",
    "\n",
    "    knn = NearestNeighbors(n_neighbors=num_images, metric=\"cosine\")\n",
    "    knn.fit(embedding)\n",
    "\n",
    "    _, indices = knn.kneighbors(flattened_embedding)\n",
    "    indices_list = indices.tolist()\n",
    "    #print(indices_list)\n",
    "    return indices_list\n"
   ]
  },
  {
   "cell_type": "code",
   "execution_count": 17,
   "metadata": {},
   "outputs": [],
   "source": [
    "def plot_similar_images(indices_list):\n",
    "    indices = indices_list[0]\n",
    "    print(\"total indices: \", len(indices))\n",
    "    print(indices_list)\n",
    "    for index in indices:\n",
    "        # img_name = str(index - 1) + \".jpg\"\n",
    "        # print(img_name)\n",
    "        img_path = image_files[index]\n",
    "        print(img_path)\n",
    "        img = Image.open(img_path).convert(\"RGB\")\n",
    "        plt.imshow(img)\n",
    "        plt.show()"
   ]
  },
  {
   "cell_type": "code",
   "execution_count": 34,
   "metadata": {},
   "outputs": [
    {
     "data": {
      "image/png": "[encoded data removed]",
      "text/plain": [
       "<Figure size 432x288 with 1 Axes>"
      ]
     },
     "metadata": {
      "needs_background": "light"
     },
     "output_type": "display_data"
    },
    {
     "name": "stdout",
     "output_type": "stream",
     "text": [
      "torch.Size([1, 3, 28, 28])\n",
      "(1, 64, 3, 3)\n",
      "flattened embedding\n",
      "(1, 576)\n",
      "The input point needs to be of the same dimension as\n",
      "                  `input_dim` when initializing this LSHash instance shapes (1,576) and (1,576) not aligned: 576 (dim 1) != 1 (dim 0)\n"
     ]
    },
    {
     "ename": "ValueError",
     "evalue": "shapes (1,576) and (1,576) not aligned: 576 (dim 1) != 1 (dim 0)",
     "output_type": "error",
     "traceback": [
      "\u001b[0;31m---------------------------------------------------------------------------\u001b[0m",
      "\u001b[0;31mValueError\u001b[0m                                Traceback (most recent call last)",
      "\u001b[0;32m<ipython-input-34-eb96d17fc05e>\u001b[0m in \u001b[0;36m<module>\u001b[0;34m\u001b[0m\n\u001b[1;32m     12\u001b[0m \u001b[0mplt\u001b[0m\u001b[0;34m.\u001b[0m\u001b[0mimshow\u001b[0m\u001b[0;34m(\u001b[0m\u001b[0mtest_img\u001b[0m\u001b[0;34m)\u001b[0m\u001b[0;34m\u001b[0m\u001b[0;34m\u001b[0m\u001b[0m\n\u001b[1;32m     13\u001b[0m \u001b[0mplt\u001b[0m\u001b[0;34m.\u001b[0m\u001b[0mshow\u001b[0m\u001b[0;34m(\u001b[0m\u001b[0;34m)\u001b[0m\u001b[0;34m\u001b[0m\u001b[0;34m\u001b[0m\u001b[0m\n\u001b[0;32m---> 14\u001b[0;31m \u001b[0mindices_list\u001b[0m \u001b[0;34m=\u001b[0m \u001b[0mcompute_similar_images\u001b[0m\u001b[0;34m(\u001b[0m\u001b[0mTEST_IMAGE_PATH\u001b[0m\u001b[0;34m,\u001b[0m \u001b[0mNUM_IMAGES\u001b[0m\u001b[0;34m,\u001b[0m \u001b[0membedding\u001b[0m\u001b[0;34m,\u001b[0m \u001b[0mdevice\u001b[0m\u001b[0;34m)\u001b[0m\u001b[0;34m\u001b[0m\u001b[0;34m\u001b[0m\u001b[0m\n\u001b[0m\u001b[1;32m     15\u001b[0m \u001b[0mplot_similar_images\u001b[0m\u001b[0;34m(\u001b[0m\u001b[0mindices_list\u001b[0m\u001b[0;34m)\u001b[0m\u001b[0;34m\u001b[0m\u001b[0;34m\u001b[0m\u001b[0m\n",
      "\u001b[0;32m<ipython-input-33-fad7b9c73e35>\u001b[0m in \u001b[0;36mcompute_similar_images\u001b[0;34m(image_path, num_images, embedding, device)\u001b[0m\n\u001b[1;32m     18\u001b[0m     \u001b[0;31m# LSH on all the images\u001b[0m\u001b[0;34m\u001b[0m\u001b[0;34m\u001b[0m\u001b[0;34m\u001b[0m\u001b[0m\n\u001b[1;32m     19\u001b[0m     \u001b[0;31m# for img_path, vec in tqdm_notebook(feature_dict.items()):\u001b[0m\u001b[0;34m\u001b[0m\u001b[0;34m\u001b[0m\u001b[0;34m\u001b[0m\u001b[0m\n\u001b[0;32m---> 20\u001b[0;31m     \u001b[0mlsh\u001b[0m\u001b[0;34m.\u001b[0m\u001b[0mindex\u001b[0m\u001b[0;34m(\u001b[0m\u001b[0mflattened_embedding\u001b[0m\u001b[0;34m)\u001b[0m\u001b[0;34m\u001b[0m\u001b[0;34m\u001b[0m\u001b[0m\n\u001b[0m\u001b[1;32m     21\u001b[0m     \u001b[0mprint\u001b[0m\u001b[0;34m(\u001b[0m\u001b[0mlsh\u001b[0m\u001b[0;34m.\u001b[0m\u001b[0mindex\u001b[0m\u001b[0;34m)\u001b[0m\u001b[0;34m\u001b[0m\u001b[0;34m\u001b[0m\u001b[0m\n\u001b[1;32m     22\u001b[0m \u001b[0;34m\u001b[0m\u001b[0m\n",
      "\u001b[0;32m~/Library/Python/3.8/lib/python/site-packages/lshash/lshash.py\u001b[0m in \u001b[0;36mindex\u001b[0;34m(self, input_point, extra_data)\u001b[0m\n\u001b[1;32m    222\u001b[0m \u001b[0;34m\u001b[0m\u001b[0m\n\u001b[1;32m    223\u001b[0m         \u001b[0;32mfor\u001b[0m \u001b[0mi\u001b[0m\u001b[0;34m,\u001b[0m \u001b[0mtable\u001b[0m \u001b[0;32min\u001b[0m \u001b[0menumerate\u001b[0m\u001b[0;34m(\u001b[0m\u001b[0mself\u001b[0m\u001b[0;34m.\u001b[0m\u001b[0mhash_tables\u001b[0m\u001b[0;34m)\u001b[0m\u001b[0;34m:\u001b[0m\u001b[0;34m\u001b[0m\u001b[0;34m\u001b[0m\u001b[0m\n\u001b[0;32m--> 224\u001b[0;31m             table.append_val(self._hash(self.uniform_planes[i], input_point),\n\u001b[0m\u001b[1;32m    225\u001b[0m                              value)\n\u001b[1;32m    226\u001b[0m \u001b[0;34m\u001b[0m\u001b[0m\n",
      "\u001b[0;32m~/Library/Python/3.8/lib/python/site-packages/lshash/lshash.py\u001b[0m in \u001b[0;36m_hash\u001b[0;34m(self, planes, input_point)\u001b[0m\n\u001b[1;32m    151\u001b[0m         \u001b[0;32mtry\u001b[0m\u001b[0;34m:\u001b[0m\u001b[0;34m\u001b[0m\u001b[0;34m\u001b[0m\u001b[0m\n\u001b[1;32m    152\u001b[0m             \u001b[0minput_point\u001b[0m \u001b[0;34m=\u001b[0m \u001b[0mnp\u001b[0m\u001b[0;34m.\u001b[0m\u001b[0marray\u001b[0m\u001b[0;34m(\u001b[0m\u001b[0minput_point\u001b[0m\u001b[0;34m)\u001b[0m  \u001b[0;31m# for faster dot product\u001b[0m\u001b[0;34m\u001b[0m\u001b[0;34m\u001b[0m\u001b[0m\n\u001b[0;32m--> 153\u001b[0;31m             \u001b[0mprojections\u001b[0m \u001b[0;34m=\u001b[0m \u001b[0mnp\u001b[0m\u001b[0;34m.\u001b[0m\u001b[0mdot\u001b[0m\u001b[0;34m(\u001b[0m\u001b[0mplanes\u001b[0m\u001b[0;34m,\u001b[0m \u001b[0minput_point\u001b[0m\u001b[0;34m)\u001b[0m\u001b[0;34m\u001b[0m\u001b[0;34m\u001b[0m\u001b[0m\n\u001b[0m\u001b[1;32m    154\u001b[0m         \u001b[0;32mexcept\u001b[0m \u001b[0mTypeError\u001b[0m \u001b[0;32mas\u001b[0m \u001b[0me\u001b[0m\u001b[0;34m:\u001b[0m\u001b[0;34m\u001b[0m\u001b[0;34m\u001b[0m\u001b[0m\n\u001b[1;32m    155\u001b[0m             print(\"\"\"The input point needs to be an array-like object with\n",
      "\u001b[0;32m<__array_function__ internals>\u001b[0m in \u001b[0;36mdot\u001b[0;34m(*args, **kwargs)\u001b[0m\n",
      "\u001b[0;31mValueError\u001b[0m: shapes (1,576) and (1,576) not aligned: 576 (dim 1) != 1 (dim 0)"
     ]
    }
   ],
   "source": [
    "device = torch.device(\"cuda\") if torch.cuda.is_available() else torch.device(\"cpu\")\n",
    "encoder = ConvEncoder()\n",
    "\n",
    "# Load the state dict of encoder\n",
    "encoder.load_state_dict(torch.load(ENCODER_MODEL_PATH, map_location=device))\n",
    "encoder.eval()\n",
    "encoder.to(device)\n",
    "\n",
    "# Loads the embedding\n",
    "embedding = np.load(EMBEDDING_PATH)\n",
    "test_img = Image.open(TEST_IMAGE_PATH).convert(\"RGB\")\n",
    "plt.imshow(test_img)\n",
    "plt.show()\n",
    "indices_list = compute_similar_images(TEST_IMAGE_PATH, NUM_IMAGES, embedding, device)\n",
    "plot_similar_images(indices_list)"
   ]
  },
  {
   "cell_type": "code",
   "execution_count": null,
   "metadata": {},
   "outputs": [],
   "source": []
  },
  {
   "cell_type": "code",
   "execution_count": null,
   "metadata": {},
   "outputs": [],
   "source": []
  },
  {
   "cell_type": "code",
   "execution_count": null,
   "metadata": {},
   "outputs": [],
   "source": []
  },
  {
   "cell_type": "code",
   "execution_count": null,
   "metadata": {},
   "outputs": [],
   "source": []
  },
  {
   "cell_type": "code",
   "execution_count": 63,
   "metadata": {},
   "outputs": [],
   "source": [
    "\n",
    "nbits = 128  # number of hyperplanes and binary vals to produce\n",
    "d = 12  # vector dimensions"
   ]
  },
  {
   "cell_type": "code",
   "execution_count": 64,
   "metadata": {},
   "outputs": [
    {
     "data": {
      "text/plain": [
       "array([[-0.17663986, -0.47515665, -0.25475753, ..., -0.34984148,\n",
       "         0.43382567,  0.25103632],\n",
       "       [-0.2082735 ,  0.43248968, -0.03093244, ...,  0.10211122,\n",
       "         0.46370967,  0.09459642],\n",
       "       [-0.2090817 , -0.36018824,  0.09016499, ..., -0.39382654,\n",
       "        -0.42365891, -0.37993116],\n",
       "       ...,\n",
       "       [-0.15645204,  0.46213432,  0.30721646, ...,  0.33493608,\n",
       "         0.07621659,  0.07090659],\n",
       "       [-0.24802427,  0.18376989, -0.10687889, ..., -0.31694203,\n",
       "        -0.14463738,  0.38073999],\n",
       "       [-0.04128877,  0.07768719, -0.05390441, ...,  0.00559373,\n",
       "        -0.16155653,  0.39817165]])"
      ]
     },
     "execution_count": 64,
     "metadata": {},
     "output_type": "execute_result"
    }
   ],
   "source": [
    "import numpy as np\n",
    "# create a set of 4 hyperplanes, with 2 dimensions\n",
    "plane_norms = np.random.rand(nbits, d) - .5\n",
    "plane_norms"
   ]
  },
  {
   "cell_type": "code",
   "execution_count": 52,
   "metadata": {},
   "outputs": [],
   "source": [
    "a = np.asarray([1, 2])\n",
    "b = np.asarray([2, 1])\n",
    "c = np.asarray([3, 1])"
   ]
  },
  {
   "cell_type": "code",
   "execution_count": 53,
   "metadata": {},
   "outputs": [
    {
     "data": {
      "text/plain": [
       "array([-0.73417344, -0.50327018,  0.86757322,  0.69679384])"
      ]
     },
     "execution_count": 53,
     "metadata": {},
     "output_type": "execute_result"
    }
   ],
   "source": [
    "a_dot = np.dot(a, plane_norms.T)\n",
    "b_dot = np.dot(b, plane_norms.T)\n",
    "c_dot = np.dot(c, plane_norms.T)\n",
    "a_dot"
   ]
  },
  {
   "cell_type": "code",
   "execution_count": 55,
   "metadata": {},
   "outputs": [
    {
     "data": {
      "text/plain": [
       "array([0, 0, 1, 1])"
      ]
     },
     "execution_count": 55,
     "metadata": {},
     "output_type": "execute_result"
    }
   ],
   "source": [
    "a_dot = a_dot.astype(int)\n",
    "b_dot = b_dot.astype(int)\n",
    "c_dot = c_dot.astype(int)\n",
    "a_dot"
   ]
  },
  {
   "cell_type": "code",
   "execution_count": 56,
   "metadata": {},
   "outputs": [
    {
     "name": "stdout",
     "output_type": "stream",
     "text": [
      "{'0011': [0], '1011': [1], '1010': [2]}\n"
     ]
    }
   ],
   "source": [
    "\n",
    "vectors = [a_dot, b_dot, c_dot]\n",
    "buckets = {}\n",
    "i = 0\n",
    "\n",
    "for i in range(len(vectors)):\n",
    "    # convert from array to string\n",
    "    hash_str = ''.join(vectors[i].astype(str))\n",
    "    # create bucket if it doesn't exist\n",
    "    if hash_str not in buckets.keys():\n",
    "        buckets[hash_str] = []\n",
    "    # add vector position to bucket\n",
    "    buckets[hash_str].append(i)\n",
    "\n",
    "print(buckets)"
   ]
  },
  {
   "cell_type": "code",
   "execution_count": 59,
   "metadata": {},
   "outputs": [],
   "source": [
    "def load_tensor(image_path, device):\n",
    "    image_tensor = T.ToTensor()(Image.open(image_path))\n",
    "    image_tensor = image_tensor.unsqueeze(0)\n",
    "    # print(image_tensor.shape)\n",
    "    # input_images = image_tensor.to(device)\n",
    "    return image_tensor"
   ]
  },
  {
   "cell_type": "code",
   "execution_count": 60,
   "metadata": {},
   "outputs": [],
   "source": [
    "image_embedding_array = []\n",
    "for images in image_files:\n",
    "        image_tensor = load_tensor(images,device)\n",
    "        with torch.no_grad():\n",
    "                image_embedding = encoder(image_tensor).cpu().detach().numpy()\n",
    "        flattened_embedding = image_embedding.reshape((image_embedding.shape[0], -1))\n",
    "        image_embedding_array.append(flattened_embedding)"
   ]
  },
  {
   "cell_type": "code",
   "execution_count": null,
   "metadata": {},
   "outputs": [],
   "source": [
    "def all_binary(n):\n",
    "    total = 1 << n\n",
    "    print(f\"{total} possible combinations\")\n",
    "    combinations = []\n",
    "    for i in range(total):\n",
    "        # get binary representation of integer\n",
    "        b = bin(i)[2:]\n",
    "        # pad zeros to start of binary representtion\n",
    "        b = '0' * (n - len(b)) + b\n",
    "        b = [int(i) for i in b]\n",
    "        combinations.append(b)\n",
    "    return combinations\n",
    "\n",
    "class RandomProjection:\n",
    "    # initialize what will be the buckets\n",
    "    buckets = {}\n",
    "    # initialize counter\n",
    "    counter = 0\n",
    "\n",
    "    def __init__(self, nbits, d):\n",
    "        self.nbits = nbits\n",
    "        self.d = d\n",
    "        # create our hyperplane normal vecs for splitting data\n",
    "        self.plane_norms = np.random.rand(d, nbits) - .5\n",
    "        print(f\"Initialized {self.plane_norms.shape[1]} hyperplane normal vectors.\")\n",
    "        # add every possible combination to hashes attribute as numpy array\n",
    "        self.hashes = all_binary(nbits)\n",
    "        # and add each as a key to the buckets dictionary\n",
    "        for hash_code in self.hashes:\n",
    "            # convert to string\n",
    "            hash_code = ''.join([str(i) for i in hash_code])\n",
    "            self.buckets[hash_code] = []\n",
    "        # convert self.hashes to numpy array\n",
    "        self.hashes = np.stack(self.hashes)\n",
    "\n",
    "    def get_binary(self, vec):\n",
    "        # calculate nbits dot product values\n",
    "        direction = np.dot(vec, self.plane_norms)\n",
    "        # find positive direction (>0) and negative direction (<=0)\n",
    "        direction = direction > 0\n",
    "        # convert boolean array to integer strings\n",
    "        binary_hash = direction.astype(int)\n",
    "        return binary_hash\n",
    "        \n",
    "    def hash_vec(self, vec, show=False):\n",
    "        # generate hash\n",
    "        binary_hash = self.get_binary(vec)\n",
    "        # convert to string format for dictionary\n",
    "        binary_hash = ''.join(binary_hash.astype(str))\n",
    "        # add ID to buckets dictionary\n",
    "        self.buckets[binary_hash].append(self.counter)\n",
    "        if show:\n",
    "            print(f\"{self.counter}: {''.join(binary_hash)}\")\n",
    "        # increment counter\n",
    "        self.counter += 1\n",
    "    \n",
    "    def hamming(self, hashed_vec):\n",
    "        # get hamming distance between query vec and all buckets in self.hashes\n",
    "        hamming_dist = np.count_nonzero(hashed_vec != self.hashes, axis=1).reshape(-1, 1)\n",
    "        # add hash values to each row\n",
    "        hamming_dist = np.concatenate((self.hashes, hamming_dist), axis=1)\n",
    "        # sort based on distance\n",
    "        hamming_dist = hamming_dist[hamming_dist[:, -1].argsort()]\n",
    "        return hamming_dist\n",
    "    \n",
    "    def top_k(self, vec, k=5):\n",
    "        # generate hash\n",
    "        binary_hash = self.get_binary(vec)\n",
    "        # calculate hamming distance between all vectors\n",
    "        hamming_dist = self.hamming(binary_hash)\n",
    "        # loop through each bucket until we have k or more vector IDs\n",
    "        vec_ids = []\n",
    "        for row in hamming_dist:\n",
    "            str_hash = ''.join(row[:-1].astype(str))\n",
    "            bucket_ids = self.buckets[str_hash]\n",
    "            vec_ids.extend(bucket_ids)\n",
    "            if len(vec_ids) >= k:\n",
    "                vec_ids = vec_ids[:k]\n",
    "                break\n",
    "        # return top k IDs\n",
    "        return vec_ids"
   ]
  },
  {
   "cell_type": "code",
   "execution_count": null,
   "metadata": {},
   "outputs": [],
   "source": [
    "import numpy as np\n",
    "from sklearn.metrics.pairwise import cosine_similarity\n",
    "import pandas as pd\n",
    "\n",
    "# now define a function to read the fvecs file format of Sift1M dataset\n",
    "def read_fvecs(fp):\n",
    "    a = np.fromfile(fp, dtype='int32')\n",
    "    d = a[0]\n",
    "    return a.reshape(-1, d + 1)[:, 1:].copy().view('float32')\n",
    "\n",
    "# 1M samples\n",
    "wb = read_fvecs('../../../data/sift/sift_base.fvecs')\n",
    "# queries\n",
    "xq = read_fvecs('../../../data/sift/sift_query.fvecs')"
   ]
  },
  {
   "cell_type": "code",
   "execution_count": 204,
   "metadata": {},
   "outputs": [],
   "source": [
    "\n",
    "def all_binary(n):\n",
    "    total = 1 << n\n",
    "    print(f\"{total} possible combinations\")\n",
    "    combinations = []\n",
    "    for i in range(total):\n",
    "        # get binary representation of integer\n",
    "        b = bin(i)[2:]\n",
    "        # pad zeros to start of binary representtion\n",
    "        b = '0' * (n - len(b)) + b\n",
    "        b = [int(i) for i in b]\n",
    "        combinations.append(b)\n",
    "    return combinations\n",
    "\n",
    "class RandomProjection:\n",
    "    # initialize what will be the buckets\n",
    "    buckets = {}\n",
    "    # initialize counter\n",
    "    counter = 0\n",
    "\n",
    "    def __init__(self, nbits, d):\n",
    "        self.nbits = nbits\n",
    "        self.d = d\n",
    "        # create our hyperplane normal vecs for splitting data\n",
    "        np.random.seed(10)\n",
    "        self.plane_norms = np.random.rand(d, nbits) - .5\n",
    "        print(f\"Initialized {projection.plane_norms.shape[1]} hyperplane normal vectors.\")\n",
    "        # add every possible combination to hashes attribute as numpy array\n",
    "        self.hashes = all_binary(nbits)\n",
    "        # and add each as a key to the buckets dictionary\n",
    "        for hash_code in self.hashes:\n",
    "            # convert to string\n",
    "            hash_code = ''.join([str(i) for i in hash_code])\n",
    "            self.buckets[hash_code] = []\n",
    "        # convert self.hashes to numpy array\n",
    "        self.hashes = np.stack(self.hashes)\n",
    "\n",
    "    def get_binary(self, vec):\n",
    "        # calculate nbits dot product values\n",
    "        direction = np.dot(vec, projection.plane_norms)\n",
    "        # find positive direction (>0) and negative direction (<=0)\n",
    "        direction = direction > 0\n",
    "        # convert boolean array to integer strings\n",
    "        binary_hash = direction.astype(int)\n",
    "        return binary_hash\n",
    "        \n",
    "    def hash_vec(self, vec, show=False):\n",
    "        # generate hash\n",
    "        binary_hash = self.get_binary(vec)\n",
    "        # convert to string format for dictionary\n",
    "        binary_hash = ''.join(binary_hash.astype(str))\n",
    "        # add ID to buckets dictionary\n",
    "        self.buckets[binary_hash].append(self.counter)\n",
    "        if show:\n",
    "            print(f\"{self.counter}: {''.join(binary_hash)}\")\n",
    "        # increment counter\n",
    "        self.counter += 1\n",
    "    \n",
    "    def hamming(self, hashed_vec):\n",
    "        # get hamming distance between query vec and all buckets in self.hashes\n",
    "        hamming_dist = np.count_nonzero(hashed_vec != projection.hashes, axis=1).reshape(-1, 1)\n",
    "        # add hash values to each row\n",
    "        hamming_dist = np.concatenate((projection.hashes, hamming_dist), axis=1)\n",
    "        # sort based on distance\n",
    "        hamming_dist = hamming_dist[hamming_dist[:, -1].argsort()]\n",
    "        return hamming_dist\n",
    "    \n",
    "    def top_k(self, vec, k=5):\n",
    "        # generate hash\n",
    "        binary_hash = self.get_binary(vec)\n",
    "        # calculate hamming distance between all vectors\n",
    "        hamming_dist = self.hamming(binary_hash)\n",
    "        # loop through each bucket until we have k or more vector IDs\n",
    "        vec_ids = []\n",
    "        for row in hamming_dist:\n",
    "            str_hash = ''.join(row[:-1].astype(str))\n",
    "            bucket_ids = self.buckets[str_hash]\n",
    "            vec_ids.extend(bucket_ids)\n",
    "            if len(vec_ids) >= k:\n",
    "                vec_ids = vec_ids[:k]\n",
    "                break\n",
    "        # return top k IDs\n",
    "        return vec_ids"
   ]
  },
  {
   "cell_type": "code",
   "execution_count": 134,
   "metadata": {},
   "outputs": [],
   "source": [
    "image_embedding_array_new = []\n",
    "# encoder.load_state_dict(torch.load(ENCODER_MODEL_PATH, map_location=device))\n",
    "# encoder.eval()\n",
    "# encoder.to(device)\n",
    "\n",
    "# # Loads the embedding\n",
    "# embedding = np.load(EMBEDDING_PATH)\n",
    "for images in image_files:\n",
    "        image_tensor = load_tensor(images,device)\n",
    "        with torch.no_grad():\n",
    "                image_embedding = encoder(image_tensor).cpu().detach().numpy()\n",
    "        flattened_embedding = image_embedding.reshape((image_embedding.shape[0], -1))\n",
    "        image_embedding_array_new.append(flattened_embedding[0])"
   ]
  },
  {
   "cell_type": "code",
   "execution_count": 144,
   "metadata": {},
   "outputs": [
    {
     "data": {
      "text/plain": [
       "576"
      ]
     },
     "execution_count": 144,
     "metadata": {},
     "output_type": "execute_result"
    }
   ],
   "source": [
    "image_embedding_array_new[0].shape[0]"
   ]
  },
  {
   "cell_type": "code",
   "execution_count": 205,
   "metadata": {},
   "outputs": [
    {
     "name": "stdout",
     "output_type": "stream",
     "text": [
      "Initialized 6 hyperplane normal vectors.\n",
      "64 possible combinations\n"
     ]
    }
   ],
   "source": [
    "projection = RandomProjection(6, image_embedding_array[1].shape[1])"
   ]
  },
  {
   "cell_type": "code",
   "execution_count": 169,
   "metadata": {},
   "outputs": [
    {
     "data": {
      "text/plain": [
       "(576, 6)"
      ]
     },
     "execution_count": 169,
     "metadata": {},
     "output_type": "execute_result"
    }
   ],
   "source": [
    "projection.plane_norms.shape"
   ]
  },
  {
   "cell_type": "code",
   "execution_count": 210,
   "metadata": {},
   "outputs": [
    {
     "name": "stdout",
     "output_type": "stream",
     "text": [
      "4: 001010\n"
     ]
    }
   ],
   "source": [
    "projection.hash_vec(image_embedding_array[6666][0], show=True)"
   ]
  },
  {
   "cell_type": "code",
   "execution_count": 171,
   "metadata": {},
   "outputs": [
    {
     "data": {
      "text/plain": [
       "(1, 576)"
      ]
     },
     "execution_count": 171,
     "metadata": {},
     "output_type": "execute_result"
    }
   ],
   "source": [
    "image_embedding_array[0].shape"
   ]
  },
  {
   "cell_type": "code",
   "execution_count": 85,
   "metadata": {},
   "outputs": [],
   "source": [
    "for i in range(1, len(image_embedding_array)-1):\n",
    "    projection.hash_vec(image_embedding_array[i][0])"
   ]
  },
  {
   "cell_type": "code",
   "execution_count": 89,
   "metadata": {},
   "outputs": [
    {
     "data": {
      "text/plain": [
       "[0, 1, 2, 3, 4, 6, 7, 9, 11, 12]"
      ]
     },
     "execution_count": 89,
     "metadata": {},
     "output_type": "execute_result"
    }
   ],
   "source": [
    "top_10 = projection.top_k(image_embedding_array[0][0], k=10)\n",
    "top_10"
   ]
  },
  {
   "cell_type": "code",
   "execution_count": 93,
   "metadata": {},
   "outputs": [],
   "source": [
    "from sklearn.metrics.pairwise import cosine_similarity"
   ]
  },
  {
   "cell_type": "code",
   "execution_count": 102,
   "metadata": {},
   "outputs": [],
   "source": [
    "similar_images = []\n",
    "for i in top_10:\n",
    "    similar_images.append(image_embedding_array[i][0])"
   ]
  },
  {
   "cell_type": "code",
   "execution_count": 107,
   "metadata": {},
   "outputs": [],
   "source": [
    "all_images = []\n",
    "for images in image_embedding_array:\n",
    "    all_images.append(np.asarray(images[0]))"
   ]
  },
  {
   "cell_type": "code",
   "execution_count": 106,
   "metadata": {},
   "outputs": [
    {
     "data": {
      "text/plain": [
       "0.9732129"
      ]
     },
     "execution_count": 106,
     "metadata": {},
     "output_type": "execute_result"
    }
   ],
   "source": [
    "cos = cosine_similarity(np.asarray(similar_images), [image_embedding_array[0][0]])\n",
    "np.mean(cos)"
   ]
  },
  {
   "cell_type": "code",
   "execution_count": 109,
   "metadata": {},
   "outputs": [
    {
     "data": {
      "text/plain": [
       "0.9390613"
      ]
     },
     "execution_count": 109,
     "metadata": {},
     "output_type": "execute_result"
    }
   ],
   "source": [
    "cos = cosine_similarity(all_images, [image_embedding_array[0][0]])\n",
    "np.mean(cos)"
   ]
  },
  {
   "cell_type": "code",
   "execution_count": 116,
   "metadata": {},
   "outputs": [],
   "source": [
    "import random\n",
    "random_images = []\n",
    "for i in range(10):\n",
    "    random_image = random.choice(all_images)\n",
    "    random_images.append(random_image)"
   ]
  },
  {
   "cell_type": "code",
   "execution_count": 121,
   "metadata": {},
   "outputs": [],
   "source": [
    "def sim_check(query_vecs):\n",
    "    results = {'xq': [], 'wb': []}\n",
    "    for xq in query_vecs:\n",
    "        top_10 = projection.top_k(xq, k=10)\n",
    "        considered_images = []\n",
    "        for i in top_10:\n",
    "            considered_images.append(all_images[i])\n",
    "        cos = cosine_similarity(considered_images, [xq])\n",
    "        cos = np.mean(cos)\n",
    "        results['xq'].append(cos)\n",
    "        cos = cosine_similarity(all_images, [xq])\n",
    "        cos = np.mean(cos)    \n",
    "        results['wb'].append(cos)\n",
    "    print(f\"random images: {np.mean(results['xq'])}\")\n",
    "    print(f\"all images: {np.mean(results['wb'])}\")\n",
    "    return results"
   ]
  },
  {
   "cell_type": "code",
   "execution_count": 122,
   "metadata": {},
   "outputs": [
    {
     "name": "stdout",
     "output_type": "stream",
     "text": [
      "random images: 0.8754922151565552\n",
      "all images: 0.9331744909286499\n"
     ]
    }
   ],
   "source": [
    "\n",
    "results = sim_check(random_images)"
   ]
  },
  {
   "cell_type": "code",
   "execution_count": 124,
   "metadata": {},
   "outputs": [],
   "source": [
    "import pandas as pd"
   ]
  },
  {
   "cell_type": "code",
   "execution_count": 127,
   "metadata": {},
   "outputs": [
    {
     "name": "stdout",
     "output_type": "stream",
     "text": [
      ".\n",
      "Initialized 2 hyperplane normal vectors.\n",
      "4 possible combinations\n",
      "random images: 0.8812974095344543\n",
      "all images: 0.9331744909286499\n",
      "Initialized 4 hyperplane normal vectors.\n",
      "16 possible combinations\n",
      "random images: 0.8888794183731079\n",
      "all images: 0.9331744909286499\n",
      "Initialized 8 hyperplane normal vectors.\n",
      "256 possible combinations\n",
      "random images: 0.8812181353569031\n",
      "all images: 0.9331744909286499\n",
      "Initialized 12 hyperplane normal vectors.\n",
      "4096 possible combinations\n",
      "random images: 0.9493486285209656\n",
      "all images: 0.9331744909286499\n",
      ".\n",
      "Initialized 2 hyperplane normal vectors.\n",
      "4 possible combinations\n",
      "random images: 0.8812974095344543\n",
      "all images: 0.9331744909286499\n",
      "Initialized 4 hyperplane normal vectors.\n",
      "16 possible combinations\n",
      "random images: 0.8761838674545288\n",
      "all images: 0.9331744909286499\n",
      "Initialized 8 hyperplane normal vectors.\n",
      "256 possible combinations\n",
      "random images: 0.8937332034111023\n",
      "all images: 0.9331744909286499\n",
      "Initialized 12 hyperplane normal vectors.\n",
      "4096 possible combinations\n",
      "random images: 0.9572697877883911\n",
      "all images: 0.9331744909286499\n",
      ".\n",
      "Initialized 2 hyperplane normal vectors.\n",
      "4 possible combinations\n",
      "random images: 0.9181534647941589\n",
      "all images: 0.9331744909286499\n",
      "Initialized 4 hyperplane normal vectors.\n",
      "16 possible combinations\n",
      "random images: 0.8972187042236328\n",
      "all images: 0.9331744909286499\n",
      "Initialized 8 hyperplane normal vectors.\n",
      "256 possible combinations\n",
      "random images: 0.8812974095344543\n",
      "all images: 0.9331744909286499\n",
      "Initialized 12 hyperplane normal vectors.\n",
      "4096 possible combinations\n",
      "random images: 0.942815899848938\n",
      "all images: 0.9331744909286499\n"
     ]
    }
   ],
   "source": [
    "\n",
    "testing = pd.DataFrame({\n",
    "    'nbits': [],\n",
    "    'random_images_sim': []\n",
    "})\n",
    "\n",
    "num_vecs = 10\n",
    "\n",
    "for epoch in range(3):\n",
    "    print('.')\n",
    "    for nbits in [2, 4, 8, 12]:\n",
    "        # initialize projection object\n",
    "        projection = RandomProjection(nbits, np.asarray(all_images).shape[1])\n",
    "        # add all our vectors\n",
    "        for i in range(len(all_images)-1):\n",
    "            projection.hash_vec(all_images[i])\n",
    "        # get results from sim_check\n",
    "        results = sim_check(random_images[:num_vecs])\n",
    "        testing = testing.append(pd.DataFrame({\n",
    "            'nbits': [nbits]*num_vecs,\n",
    "            'random_images_sim': results['xq']\n",
    "        }), ignore_index=True)"
   ]
  },
  {
   "cell_type": "code",
   "execution_count": null,
   "metadata": {},
   "outputs": [],
   "source": []
  }
 ],
 "metadata": {
  "interpreter": {
   "hash": "aee8b7b246df8f9039afb4144a1f6fd8d2ca17a180786b69acc140d282b71a49"
  },
  "kernelspec": {
   "display_name": "Python 3.9.6 64-bit",
   "name": "python3"
  },
  "language_info": {
   "codemirror_mode": {
    "name": "ipython",
    "version": 3
   },
   "file_extension": ".py",
   "mimetype": "text/x-python",
   "name": "python",
   "nbconvert_exporter": "python",
   "pygments_lexer": "ipython3",
   "version": "3.8.9"
  },
  "orig_nbformat": 4
 },
 "nbformat": 4,
 "nbformat_minor": 2
}
